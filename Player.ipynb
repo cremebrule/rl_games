{
 "cells": [
  {
   "cell_type": "code",
   "execution_count": null,
   "metadata": {},
   "outputs": [],
   "source": []
  },
  {
   "cell_type": "code",
   "execution_count": 1,
   "metadata": {
    "scrolled": true
   },
   "outputs": [],
   "source": [
    "import math\n",
    "from tensorboardX import SummaryWriter\n",
    "import env_configurations\n",
    "import tensorflow as tf\n",
    "import collections\n",
    "import gym\n",
    "import wrappers\n",
    "import games_configurations\n",
    "\n",
    "a2c_config = games_configurations.bipedalwalkerhardcore_lstm_config\n",
    "#a2c_config = games_configurations.mario_random_config_lstm\n",
    "#a2c_config = a2c_games_configurations.pendulum_config\n",
    "#a2c_config = games_configurations.roboschoolhumanoid_lstm_config\n",
    "#a2c_config = a2c_games_configurations.mountain_car_cont_config\n",
    "gpu_options = tf.GPUOptions(allow_growth=True,per_process_gpu_memory_fraction=0.8)\n",
    "\n",
    "config=tf.ConfigProto(gpu_options=gpu_options)\n",
    "sess = tf.InteractiveSession(config=config)"
   ]
  },
  {
   "cell_type": "code",
   "execution_count": 2,
   "metadata": {},
   "outputs": [
    {
     "name": "stderr",
     "output_type": "stream",
     "text": [
      "/home/trrrrr/anaconda3/envs/rl/lib/python3.6/site-packages/gym/envs/registration.py:14: PkgResourcesDeprecationWarning: Parameters to load are deprecated.  Call .resolve and .require separately.\n",
      "  result = entry_point.load(False)\n",
      "WARNING: Logging before flag parsing goes to stderr.\n",
      "W0725 10:01:35.621776 139620787287872 deprecation_wrapper.py:119] From /home/trrrrr/Documents/github/ml/dqn_atari/players.py:36: The name tf.placeholder is deprecated. Please use tf.compat.v1.placeholder instead.\n",
      "\n",
      "W0725 10:01:35.632887 139620787287872 deprecation_wrapper.py:119] From /home/trrrrr/Documents/github/ml/dqn_atari/networks.py:403: The name tf.variable_scope is deprecated. Please use tf.compat.v1.variable_scope instead.\n",
      "\n",
      "W0725 10:01:35.633368 139620787287872 deprecation.py:323] From /home/trrrrr/Documents/github/ml/dqn_atari/networks.py:409: dense (from tensorflow.python.layers.core) is deprecated and will be removed in a future version.\n",
      "Instructions for updating:\n",
      "Use keras.layers.dense instead.\n",
      "W0725 10:01:35.636261 139620787287872 deprecation.py:506] From /home/trrrrr/anaconda3/envs/rl/lib/python3.6/site-packages/tensorflow/python/ops/init_ops.py:1251: calling VarianceScaling.__init__ (from tensorflow.python.ops.init_ops) with dtype is deprecated and will be removed in a future version.\n",
      "Instructions for updating:\n",
      "Call initializer instance with the dtype argument instead of passing it to the constructor\n"
     ]
    },
    {
     "name": "stdout",
     "output_type": "stream",
     "text": [
      "\u001b[33mWARN: gym.spaces.Box autodetected dtype as <class 'numpy.float32'>. Please provide explicit dtype.\u001b[0m\n",
      "\u001b[33mWARN: gym.spaces.Box autodetected dtype as <class 'numpy.float32'>. Please provide explicit dtype.\u001b[0m\n"
     ]
    },
    {
     "name": "stderr",
     "output_type": "stream",
     "text": [
      "W0725 10:01:35.862773 139620787287872 deprecation.py:323] From /home/trrrrr/Documents/github/ml/dqn_atari/networks.py:145: to_float (from tensorflow.python.ops.math_ops) is deprecated and will be removed in a future version.\n",
      "Instructions for updating:\n",
      "Use `tf.cast` instead.\n",
      "W0725 10:01:35.867772 139620787287872 deprecation_wrapper.py:119] From /home/trrrrr/Documents/github/ml/dqn_atari/networks.py:106: The name tf.get_variable is deprecated. Please use tf.compat.v1.get_variable instead.\n",
      "\n",
      "W0725 10:01:36.023622 139620787287872 deprecation_wrapper.py:119] From /home/trrrrr/Documents/github/ml/dqn_atari/models.py:93: The name tf.log is deprecated. Please use tf.math.log instead.\n",
      "\n",
      "W0725 10:01:36.029826 139620787287872 deprecation_wrapper.py:119] From /home/trrrrr/Documents/github/ml/dqn_atari/players.py:65: The name tf.train.Saver is deprecated. Please use tf.compat.v1.train.Saver instead.\n",
      "\n",
      "W0725 10:01:36.048593 139620787287872 deprecation_wrapper.py:119] From /home/trrrrr/Documents/github/ml/dqn_atari/players.py:66: The name tf.global_variables_initializer is deprecated. Please use tf.compat.v1.global_variables_initializer instead.\n",
      "\n"
     ]
    },
    {
     "name": "stdout",
     "output_type": "stream",
     "text": [
      "0\n"
     ]
    },
    {
     "name": "stderr",
     "output_type": "stream",
     "text": [
      "W0725 10:01:36.368044 139620787287872 deprecation.py:323] From /home/trrrrr/anaconda3/envs/rl/lib/python3.6/site-packages/tensorflow/python/training/saver.py:1276: checkpoint_exists (from tensorflow.python.training.checkpoint_management) is deprecated and will be removed in a future version.\n",
      "Instructions for updating:\n",
      "Use standard file APIs to check for files with this prefix.\n"
     ]
    }
   ],
   "source": [
    "import numpy as np\n",
    "import players\n",
    "ppo_player = players.PpoPlayerContinuous(sess, a2c_config)\n",
    "ppo_player.restore('nn/latest_run2')\n",
    "#ppo_player = players.PpoPlayerDiscrete(sess, a2c_config)\n",
    "#ppo_player.restore('nn/last_all')"
   ]
  },
  {
   "cell_type": "code",
   "execution_count": 3,
   "metadata": {},
   "outputs": [
    {
     "name": "stdout",
     "output_type": "stream",
     "text": [
      "\u001b[33mWARN: gym.spaces.Box autodetected dtype as <class 'numpy.float32'>. Please provide explicit dtype.\u001b[0m\n",
      "\u001b[33mWARN: gym.spaces.Box autodetected dtype as <class 'numpy.float32'>. Please provide explicit dtype.\u001b[0m\n"
     ]
    }
   ],
   "source": [
    "env = ppo_player.create_env()"
   ]
  },
  {
   "cell_type": "code",
   "execution_count": 9,
   "metadata": {},
   "outputs": [
    {
     "name": "stdout",
     "output_type": "stream",
     "text": [
      "reset\n",
      "reward: 19.23867235524145\n"
     ]
    }
   ],
   "source": [
    "\n",
    "ppo_player.reset()\n",
    "def evaluate(env,t_max=5000):\n",
    "    rewards = []\n",
    "    #env._max_episode_steps = 5000\n",
    "    env.batch_mode = True\n",
    "    print('reset')\n",
    "    #env = env.old_env\n",
    "    s = env.reset()\n",
    "    reward = 0\n",
    "    for it in range(5000):\n",
    "        action = ppo_player.get_action([s], False)\n",
    "        s, r, done, _ = env.step(action)\n",
    "        \n",
    "        env.render()\n",
    "        reward += r\n",
    "        \n",
    "            \n",
    "        if done:\n",
    "            break       \n",
    "        \n",
    "    return reward\n",
    "\n",
    "import gym.wrappers\n",
    "\n",
    "#env_monitor = wrappers.make_atari_deepmind(env_name, noop_max=30, skip=4)\n",
    "#env_monitor = wrappers.ReallyDoneWrapper(env_monitor)\n",
    "#env = gym.wrappers.Monitor(env,directory='video_ppo',force=True)\n",
    "\n",
    "sessions = [print('reward:', evaluate(env)) for _ in range(1)]\n",
    "env.close()"
   ]
  },
  {
   "cell_type": "code",
   "execution_count": null,
   "metadata": {},
   "outputs": [],
   "source": []
  }
 ],
 "metadata": {
  "kernelspec": {
   "display_name": "Python 3",
   "language": "python",
   "name": "python3"
  },
  "language_info": {
   "codemirror_mode": {
    "name": "ipython",
    "version": 3
   },
   "file_extension": ".py",
   "mimetype": "text/x-python",
   "name": "python",
   "nbconvert_exporter": "python",
   "pygments_lexer": "ipython3",
   "version": "3.6.8"
  }
 },
 "nbformat": 4,
 "nbformat_minor": 2
}
