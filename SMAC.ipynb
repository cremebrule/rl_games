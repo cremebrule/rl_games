{
 "cells": [
  {
   "cell_type": "code",
   "execution_count": 3,
   "metadata": {},
   "outputs": [],
   "source": [
    "from smac.env import StarCraft2Env\n",
    "import numpy as np\n",
    "\n",
    "\n",
    "def run_test():\n",
    "    env = StarCraft2Env(map_name=\"3m\")\n",
    "    env_info = env.get_env_info()\n",
    "\n",
    "    n_actions = env_info[\"n_actions\"]\n",
    "    n_agents = env_info[\"n_agents\"]\n",
    "   \n",
    "    print('env info: ', env_info)\n",
    "    n_episodes = 1\n",
    "\n",
    "    for e in range(n_episodes):\n",
    "        obs, state = env.reset()\n",
    "        print(np.shape(state))\n",
    "        terminated = False\n",
    "        episode_reward = 0\n",
    "\n",
    "        while not terminated:\n",
    "            obs = env.get_obs()\n",
    "            state = env.get_state()\n",
    "            print(np.shape(state))\n",
    "            print(np.shape(obs))\n",
    "            actions = []\n",
    "            for agent_id in range(n_agents):\n",
    "                \n",
    "                avail_actions = env.get_avail_agent_actions(agent_id)\n",
    "                avail_actions_ind = np.nonzero(avail_actions)[0]\n",
    "                action = np.random.choice(avail_actions_ind)\n",
    "                actions.append(action)\n",
    "            \n",
    "            reward, terminated, info = env.step(actions)\n",
    "            print(reward)\n",
    "            episode_reward += reward\n",
    "            print('--------------------')\n",
    "            print(info)\n",
    "            print('--------------------')\n",
    "        print(\"Total reward in episode {} = {}\".format(e, episode_reward))\n",
    "\n",
    "    env.close()"
   ]
  },
  {
   "cell_type": "code",
   "execution_count": 4,
   "metadata": {},
   "outputs": [
    {
     "name": "stdout",
     "output_type": "stream",
     "text": [
      "env info:  {'state_shape': 48, 'obs_shape': 30, 'n_actions': 9, 'n_agents': 3, 'episode_limit': 60}\n",
      "(48,)\n",
      "(48,)\n",
      "(3, 30)\n",
      "0.0\n",
      "--------------------\n",
      "{'battle_won': False}\n",
      "--------------------\n",
      "(48,)\n",
      "(3, 30)\n",
      "0.0\n",
      "--------------------\n",
      "{'battle_won': False}\n",
      "--------------------\n",
      "(48,)\n",
      "(3, 30)\n",
      "0.0\n",
      "--------------------\n",
      "{'battle_won': False}\n",
      "--------------------\n",
      "(48,)\n",
      "(3, 30)\n",
      "0.0\n",
      "--------------------\n",
      "{'battle_won': False}\n",
      "--------------------\n",
      "(48,)\n",
      "(3, 30)\n",
      "0.0\n",
      "--------------------\n",
      "{'battle_won': False}\n",
      "--------------------\n",
      "(48,)\n",
      "(3, 30)\n",
      "0.0\n",
      "--------------------\n",
      "{'battle_won': False}\n",
      "--------------------\n",
      "(48,)\n",
      "(3, 30)\n",
      "0.0\n",
      "--------------------\n",
      "{'battle_won': False}\n",
      "--------------------\n",
      "(48,)\n",
      "(3, 30)\n",
      "0.0\n",
      "--------------------\n",
      "{'battle_won': False}\n",
      "--------------------\n",
      "(48,)\n",
      "(3, 30)\n",
      "0.0\n",
      "--------------------\n",
      "{'battle_won': False}\n",
      "--------------------\n",
      "(48,)\n",
      "(3, 30)\n",
      "0.0\n",
      "--------------------\n",
      "{'battle_won': False}\n",
      "--------------------\n",
      "(48,)\n",
      "(3, 30)\n",
      "0.3287671232876712\n",
      "--------------------\n",
      "{'battle_won': False}\n",
      "--------------------\n",
      "(48,)\n",
      "(3, 30)\n",
      "0.0\n",
      "--------------------\n",
      "{'battle_won': False}\n",
      "--------------------\n",
      "(48,)\n",
      "(3, 30)\n",
      "0.3287671232876712\n",
      "--------------------\n",
      "{'battle_won': False}\n",
      "--------------------\n",
      "(48,)\n",
      "(3, 30)\n",
      "0.0\n",
      "--------------------\n",
      "{'battle_won': False}\n",
      "--------------------\n",
      "(48,)\n",
      "(3, 30)\n",
      "0.0\n",
      "--------------------\n",
      "{'battle_won': False}\n",
      "--------------------\n",
      "(48,)\n",
      "(3, 30)\n",
      "0.0\n",
      "--------------------\n",
      "{'battle_won': False}\n",
      "--------------------\n",
      "(48,)\n",
      "(3, 30)\n",
      "0.3287671232876712\n",
      "--------------------\n",
      "{'battle_won': False}\n",
      "--------------------\n",
      "(48,)\n",
      "(3, 30)\n",
      "0.3287671232876712\n",
      "--------------------\n",
      "{'battle_won': False}\n",
      "--------------------\n",
      "(48,)\n",
      "(3, 30)\n",
      "0.0\n",
      "--------------------\n",
      "{'battle_won': False}\n",
      "--------------------\n",
      "(48,)\n",
      "(3, 30)\n",
      "0.0\n",
      "--------------------\n",
      "{'battle_won': False}\n",
      "--------------------\n",
      "(48,)\n",
      "(3, 30)\n",
      "0.0\n",
      "--------------------\n",
      "{'battle_won': False}\n",
      "--------------------\n",
      "(48,)\n",
      "(3, 30)\n",
      "0.0\n",
      "--------------------\n",
      "{'battle_won': False}\n",
      "--------------------\n",
      "(48,)\n",
      "(3, 30)\n",
      "0.0\n",
      "--------------------\n",
      "{'battle_won': False}\n",
      "--------------------\n",
      "(48,)\n",
      "(3, 30)\n",
      "0.0\n",
      "--------------------\n",
      "{'battle_won': False}\n",
      "--------------------\n",
      "Total reward in episode 0 = 1.3150684931506849\n"
     ]
    }
   ],
   "source": [
    "run_test()"
   ]
  },
  {
   "cell_type": "code",
   "execution_count": 11,
   "metadata": {},
   "outputs": [
    {
     "name": "stdout",
     "output_type": "stream",
     "text": [
      "(2, 2)\n",
      "(2, 3)\n",
      "[[1 2 5 6 8]\n",
      " [3 4 5 6 8]]\n",
      "(2, 5)\n"
     ]
    }
   ],
   "source": [
    "a = np.array([[1, 2], [3, 4]])\n",
    "print(np.shape(a))\n",
    "b = np.array([[5, 6, 8], [5, 6, 8]])\n",
    "print(np.shape(b))\n",
    "c = np.concatenate((a, b), axis=1)\n",
    "print(c)\n",
    "print(np.shape(c))"
   ]
  },
  {
   "cell_type": "code",
   "execution_count": 12,
   "metadata": {},
   "outputs": [
    {
     "name": "stdout",
     "output_type": "stream",
     "text": [
      "(2, 1, 5)\n"
     ]
    }
   ],
   "source": [
    "c = np.expand_dims(c, axis=1)\n",
    "\n",
    "print(np.shape(c))"
   ]
  },
  {
   "cell_type": "code",
   "execution_count": 13,
   "metadata": {},
   "outputs": [],
   "source": [
    "c2 = np.concatenate((c, c), axis=1)"
   ]
  },
  {
   "cell_type": "code",
   "execution_count": 14,
   "metadata": {},
   "outputs": [
    {
     "name": "stdout",
     "output_type": "stream",
     "text": [
      "(2, 2, 5)\n"
     ]
    }
   ],
   "source": [
    "print(np.shape(c2))"
   ]
  },
  {
   "cell_type": "code",
   "execution_count": 10,
   "metadata": {},
   "outputs": [
    {
     "name": "stdout",
     "output_type": "stream",
     "text": [
      "(3, 3)\n",
      "------------\n",
      "(3, 4, 3)\n",
      "[[[5 6 8]\n",
      "  [5 6 8]\n",
      "  [5 6 8]\n",
      "  [5 6 8]]\n",
      "\n",
      " [[7 8 9]\n",
      "  [7 8 9]\n",
      "  [7 8 9]\n",
      "  [7 8 9]]\n",
      "\n",
      " [[1 2 3]\n",
      "  [1 2 3]\n",
      "  [1 2 3]\n",
      "  [1 2 3]]]\n",
      "------------\n",
      "[[5 6 8 5 6 8 5 6 8 5 6 8]\n",
      " [7 8 9 7 8 9 7 8 9 7 8 9]\n",
      " [1 2 3 1 2 3 1 2 3 1 2 3]]\n",
      "(3, 12)\n"
     ]
    }
   ],
   "source": [
    "import numpy as np\n",
    "from collections import deque\n",
    "b = np.array([[5, 6, 8], [7, 8, 9], [1, 2, 3]])\n",
    "print(np.shape(b))\n",
    "frames = deque([], maxlen=4)\n",
    "frames.append(b)\n",
    "frames.append(b)\n",
    "frames.append(b)\n",
    "frames.append(b)\n",
    "frames = np.array(frames)\n",
    "shape = np.shape(frames)\n",
    "frames = np.transpose(frames, (1, 0, 2))\n",
    "print('------------')\n",
    "print(np.shape(frames))\n",
    "print(frames)\n",
    "frames = np.reshape(frames, (shape[1], shape[0] * shape[2]))\n",
    "print('------------')\n",
    "print(frames)\n",
    "print(np.shape(frames))"
   ]
  },
  {
   "cell_type": "code",
   "execution_count": 6,
   "metadata": {},
   "outputs": [],
   "source": [
    "import torch\n",
    "\n",
    "tensor = torch.Tensor([ 9.3091660e+00, -3.4028235e+38, -3.4028235e+38, -3.4028235e+38,\n",
    " -3.4028235e+38, -3.4028235e+38, -3.4028235e+38, -3.4028235e+38,\n",
    " -3.4028235e+38, -3.4028235e+38, -3.4028235e+38, -3.4028235e+38,\n",
    " -3.4028235e+38, -3.4028235e+38, -3.4028235e+38, -3.4028235e+38,\n",
    " -3.4028235e+38, -3.4028235e+38,])\n",
    "\n",
    "r, i = torch.max(tensor.cuda(), dim=0)"
   ]
  },
  {
   "cell_type": "code",
   "execution_count": 7,
   "metadata": {},
   "outputs": [
    {
     "name": "stdout",
     "output_type": "stream",
     "text": [
      "tensor(9.3092, device='cuda:0')\n",
      "tensor(0, device='cuda:0')\n",
      "tensor([ 9.3092e+00, -3.4028e+38, -3.4028e+38, -3.4028e+38, -3.4028e+38,\n",
      "        -3.4028e+38, -3.4028e+38, -3.4028e+38, -3.4028e+38, -3.4028e+38,\n",
      "        -3.4028e+38, -3.4028e+38, -3.4028e+38, -3.4028e+38, -3.4028e+38,\n",
      "        -3.4028e+38, -3.4028e+38, -3.4028e+38])\n"
     ]
    }
   ],
   "source": [
    "print(r)\n",
    "print(i)\n",
    "print(tensor)"
   ]
  },
  {
   "cell_type": "code",
   "execution_count": null,
   "metadata": {},
   "outputs": [],
   "source": []
  }
 ],
 "metadata": {
  "kernelspec": {
   "display_name": "Python 3",
   "language": "python",
   "name": "python3"
  },
  "language_info": {
   "codemirror_mode": {
    "name": "ipython",
    "version": 3
   },
   "file_extension": ".py",
   "mimetype": "text/x-python",
   "name": "python",
   "nbconvert_exporter": "python",
   "pygments_lexer": "ipython3",
   "version": "3.6.9"
  }
 },
 "nbformat": 4,
 "nbformat_minor": 2
}
