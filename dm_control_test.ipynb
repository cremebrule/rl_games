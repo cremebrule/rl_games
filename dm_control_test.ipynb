{
 "cells": [
  {
   "cell_type": "code",
   "execution_count": 9,
   "metadata": {},
   "outputs": [],
   "source": [
    "import gym\n",
    "env = gym.make('dm2gym:FishSwim-v0', environment_kwargs={'flat_observation': True})\n",
    "#env = gym.make('Pendulum-v0')"
   ]
  },
  {
   "cell_type": "code",
   "execution_count": 10,
   "metadata": {},
   "outputs": [
    {
     "name": "stdout",
     "output_type": "stream",
     "text": [
      "Dict(observations:Box(24,))\n",
      "Box(5,)\n"
     ]
    }
   ],
   "source": [
    "observation_space = env.observation_space\n",
    "action_space = env.action_space\n",
    "\n",
    "print(observation_space)\n",
    "print(action_space)"
   ]
  },
  {
   "cell_type": "code",
   "execution_count": 12,
   "metadata": {},
   "outputs": [
    {
     "name": "stdout",
     "output_type": "stream",
     "text": [
      "acrobot swingup\n",
      "acrobot swingup_sparse\n",
      "ball_in_cup catch\n",
      "cartpole balance\n",
      "cartpole balance_sparse\n",
      "cartpole swingup\n",
      "cartpole swingup_sparse\n",
      "cartpole two_poles\n",
      "cartpole three_poles\n",
      "cheetah run\n",
      "finger spin\n",
      "finger turn_easy\n",
      "finger turn_hard\n",
      "fish upright\n",
      "fish swim\n",
      "hopper stand\n",
      "hopper hop\n",
      "humanoid stand\n",
      "humanoid walk\n",
      "humanoid run\n",
      "humanoid run_pure_state\n",
      "humanoid_CMU stand\n",
      "humanoid_CMU run\n",
      "lqr lqr_2_1\n",
      "lqr lqr_6_2\n",
      "manipulator bring_ball\n",
      "manipulator bring_peg\n",
      "manipulator insert_ball\n",
      "manipulator insert_peg\n",
      "pendulum swingup\n",
      "point_mass easy\n",
      "point_mass hard\n",
      "quadruped walk\n",
      "quadruped run\n",
      "quadruped escape\n",
      "quadruped fetch\n",
      "reacher easy\n",
      "reacher hard\n",
      "stacker stack_2\n",
      "stacker stack_4\n",
      "swimmer swimmer6\n",
      "swimmer swimmer15\n",
      "walker stand\n",
      "walker walk\n",
      "walker run\n"
     ]
    }
   ],
   "source": [
    "from dm_control import suite\n",
    "for domain_name, task_name in suite.ALL_TASKS:\n",
    "    print(domain_name, task_name)"
   ]
  },
  {
   "cell_type": "code",
   "execution_count": null,
   "metadata": {},
   "outputs": [],
   "source": []
  }
 ],
 "metadata": {
  "kernelspec": {
   "display_name": "Python 3",
   "language": "python",
   "name": "python3"
  },
  "language_info": {
   "codemirror_mode": {
    "name": "ipython",
    "version": 3
   },
   "file_extension": ".py",
   "mimetype": "text/x-python",
   "name": "python",
   "nbconvert_exporter": "python",
   "pygments_lexer": "ipython3",
   "version": "3.6.9"
  }
 },
 "nbformat": 4,
 "nbformat_minor": 2
}
