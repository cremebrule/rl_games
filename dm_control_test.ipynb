{
 "cells": [
  {
   "cell_type": "code",
   "execution_count": null,
   "metadata": {},
   "outputs": [],
   "source": [
    "import gym\n",
    "import cv2\n",
    "import numpy as np"
   ]
  },
  {
   "cell_type": "code",
   "execution_count": null,
   "metadata": {},
   "outputs": [],
   "source": [
    "# DM Control Suite dm2gym wrapper examples\n",
    "# https://github.com/zuoxingdong/dm2gym\n",
    "\n",
    "env = gym.make('dm2gym:FishSwim-v0', environment_kwargs={'flat_observation': True})\n",
    "#env = gym.make('Pendulum-v0')\n",
    "\n",
    "observation_space = env.observation_space\n",
    "action_space = env.action_space\n",
    "\n",
    "print(observation_space)\n",
    "print(action_space)"
   ]
  },
  {
   "cell_type": "code",
   "execution_count": null,
   "metadata": {},
   "outputs": [],
   "source": [
    "env = gym.make('dm2gym:HumanoidRun-v0', environment_kwargs={'flat_observation': True})"
   ]
  },
  {
   "cell_type": "code",
   "execution_count": null,
   "metadata": {},
   "outputs": [],
   "source": [
    "observation_space = env.observation_space\n",
    "action_space = env.action_space\n",
    "\n",
    "print(observation_space)\n",
    "print(action_space)"
   ]
  },
  {
   "cell_type": "code",
   "execution_count": null,
   "metadata": {},
   "outputs": [],
   "source": [
    "# Rendering using dm2gym wrapper\n",
    "kwargs={'use_opencv_renderer': True}\n",
    "\n",
    "obs = env.reset()\n",
    "while True:\n",
    "    action = np.random.uniform(-1.0, 1.0, size=action_space.shape)\n",
    "    obs, rew, done, info =  env.step(action)\n",
    "\n",
    "    env.render(mode = 'human', **kwargs)"
   ]
  },
  {
   "cell_type": "code",
   "execution_count": null,
   "metadata": {},
   "outputs": [],
   "source": [
    "from dm_control import suite\n",
    "for domain_name, task_name in suite.ALL_TASKS:\n",
    "    print(domain_name, task_name)"
   ]
  },
  {
   "cell_type": "code",
   "execution_count": null,
   "metadata": {},
   "outputs": [],
   "source": [
    "from __future__ import absolute_import\n",
    "from __future__ import division\n",
    "from __future__ import print_function\n",
    "\n",
    "from dm_control import suite\n",
    "from dm_control.suite.wrappers import action_noise\n",
    "from six.moves import input\n",
    "\n",
    "from dm_control import viewer"
   ]
  },
  {
   "cell_type": "code",
   "execution_count": null,
   "metadata": {},
   "outputs": [],
   "source": [
    "task_kwargs = {}\n",
    "task_kwargs['time_limit'] = float('inf')\n",
    "\n",
    "env = suite.load(domain_name='humanoid', task_name='run', task_kwargs=task_kwargs)\n",
    "env.task.visualize_reward = True\n",
    "env = action_noise.Wrapper(env, scale=1.0)\n",
    "\n",
    "viewer.launch(env)"
   ]
  },
  {
   "cell_type": "code",
   "execution_count": null,
   "metadata": {},
   "outputs": [],
   "source": [
    "# Another way to perfrom random actions\n",
    "action_spec = env.action_spec()\n",
    "\n",
    "# Define a uniform random policy.\n",
    "def random_policy(time_step):\n",
    "  del time_step  # Unused.\n",
    "  return np.random.uniform(low=action_spec.minimum,\n",
    "                           high=action_spec.maximum,\n",
    "                           size=action_spec.shape)\n",
    "\n",
    "viewer.launch(env, policy=random_policy)"
   ]
  },
  {
   "cell_type": "code",
   "execution_count": null,
   "metadata": {},
   "outputs": [],
   "source": [
    "# Saving video example\n",
    "\n",
    "def grabFrame(env):\n",
    "    # Get RGB rendering of env\n",
    "    rgbArr = env.physics.render(480, 640, camera_id=0)\n",
    "    # Convert to BGR for use with OpenCV\n",
    "    return cv2.cvtColor(rgbArr, cv2.COLOR_BGR2RGB)\n",
    "\n",
    "# Load task:\n",
    "env = suite.load(domain_name=\"humanoid\", task_name=\"run\")\n",
    "\n",
    "# Setup video writer - mp4 at 60 fps\n",
    "video_name = 'video.mp4'\n",
    "frame = grabFrame(env)\n",
    "height, width, layers = frame.shape\n",
    "video = cv2.VideoWriter(video_name, cv2.VideoWriter_fourcc(*'mp4v'), 60.0, (width, height))\n",
    "\n",
    "# First pass - Step through an episode and capture each frame\n",
    "action_spec = env.action_spec()\n",
    "time_step = env.reset()\n",
    "while not time_step.last():\n",
    "    action = np.random.uniform(action_spec.minimum,\n",
    "                               action_spec.maximum,\n",
    "                               size=action_spec.shape)\n",
    "    time_step = env.step(action)\n",
    "    frame = grabFrame(env)\n",
    "    # Render env output to video\n",
    "    video.write(grabFrame(env))\n",
    "\n",
    "# End render to video file\n",
    "video.release()"
   ]
  },
  {
   "cell_type": "code",
   "execution_count": null,
   "metadata": {},
   "outputs": [],
   "source": [
    "# Second pass - Playback\n",
    "cap = cv2.VideoCapture(video_name)\n",
    "while(cap.isOpened()):\n",
    "    ret, frame = cap.read()\n",
    "    cv2.imshow('Playback', frame)\n",
    "    if cv2.waitKey(1) & 0xFF == ord('q'):\n",
    "        break\n",
    "cap.release()"
   ]
  },
  {
   "cell_type": "code",
   "execution_count": null,
   "metadata": {},
   "outputs": [],
   "source": [
    "\n",
    "# Exit\n",
    "cv2.destroyAllWindows()"
   ]
  },
  {
   "cell_type": "code",
   "execution_count": null,
   "metadata": {},
   "outputs": [],
   "source": [
    "from dm_control import composer\n",
    "from dm_control.locomotion.examples import basic_cmu_2019, basic_rodent_2020\n",
    "import numpy as np\n",
    "\n",
    "# Build an example environment.\n",
    "#env = basic_cmu_2019.cmu_humanoid_run_walls()\n",
    "env = basic_rodent_2020.rodent_maze_forage()\n",
    "\n",
    "# Get the `action_spec` describing the control inputs.\n",
    "action_spec = env.action_spec()\n",
    "\n",
    "# Define a uniform random policy.\n",
    "def random_policy(time_step):\n",
    "  del time_step  # Unused.\n",
    "  return np.random.uniform(low=action_spec.minimum,\n",
    "                           high=action_spec.maximum,\n",
    "                           size=action_spec.shape)\n",
    "\n",
    "# Step through the environment for one episode with random actions.\n",
    "#time_step = env.reset()\n",
    "'''while not time_step.last():\n",
    "  action = np.random.uniform(action_spec.minimum, action_spec.maximum,\n",
    "                             size=action_spec.shape)\n",
    "  time_step = env.step(action)\n",
    "  print(\"reward = {}, discount = {}, observations = {}.\".format(\n",
    "      time_step.reward, time_step.discount, time_step.observation))'''\n",
    "\n",
    "viewer.launch(env, policy=random_policy)"
   ]
  },
  {
   "cell_type": "code",
   "execution_count": null,
   "metadata": {},
   "outputs": [],
   "source": []
  }
 ],
 "metadata": {
  "kernelspec": {
   "display_name": "Python 3",
   "language": "python",
   "name": "python3"
  },
  "language_info": {
   "codemirror_mode": {
    "name": "ipython",
    "version": 3
   },
   "file_extension": ".py",
   "mimetype": "text/x-python",
   "name": "python",
   "nbconvert_exporter": "python",
   "pygments_lexer": "ipython3",
   "version": "3.6.9"
  }
 },
 "nbformat": 4,
 "nbformat_minor": 2
}
