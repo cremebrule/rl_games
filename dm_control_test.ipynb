{
 "cells": [
  {
   "cell_type": "code",
   "execution_count": 2,
   "metadata": {},
   "outputs": [],
   "source": [
    "import gym\n",
    "import cv2\n",
    "import numpy as np"
   ]
  },
  {
   "cell_type": "code",
   "execution_count": 3,
   "metadata": {},
   "outputs": [
    {
     "name": "stdout",
     "output_type": "stream",
     "text": [
      "Dict(observations:Box(24,))\n",
      "Box(5,)\n"
     ]
    }
   ],
   "source": [
    "# DM Control Suite dm2gym wrapper examples\n",
    "# https://github.com/zuoxingdong/dm2gym\n",
    "\n",
    "env = gym.make('dm2gym:FishSwim-v0', environment_kwargs={'flat_observation': True})\n",
    "#env = gym.make('Pendulum-v0')\n",
    "\n",
    "observation_space = env.observation_space\n",
    "action_space = env.action_space\n",
    "\n",
    "print(observation_space)\n",
    "print(action_space)"
   ]
  },
  {
   "cell_type": "code",
   "execution_count": 4,
   "metadata": {},
   "outputs": [],
   "source": [
    "env = gym.make('dm2gym:HumanoidWalk-v0', environment_kwargs={'flat_observation': True})"
   ]
  },
  {
   "cell_type": "code",
   "execution_count": 5,
   "metadata": {},
   "outputs": [
    {
     "name": "stdout",
     "output_type": "stream",
     "text": [
      "Dict(observations:Box(67,))\n",
      "Box(21,)\n"
     ]
    }
   ],
   "source": [
    "observation_space = env.observation_space\n",
    "action_space = env.action_space\n",
    "\n",
    "print(observation_space)\n",
    "print(action_space)"
   ]
  },
  {
   "cell_type": "code",
   "execution_count": 6,
   "metadata": {},
   "outputs": [
    {
     "ename": "ImportError",
     "evalue": "cannot import name 'OpenCVImageViewer'",
     "output_type": "error",
     "traceback": [
      "\u001b[0;31m---------------------------------------------------------------------------\u001b[0m",
      "\u001b[0;31mImportError\u001b[0m                               Traceback (most recent call last)",
      "\u001b[0;32m<ipython-input-6-204d4ba08987>\u001b[0m in \u001b[0;36m<module>\u001b[0;34m\u001b[0m\n\u001b[1;32m      7\u001b[0m     \u001b[0mobs\u001b[0m\u001b[0;34m,\u001b[0m \u001b[0mrew\u001b[0m\u001b[0;34m,\u001b[0m \u001b[0mdone\u001b[0m\u001b[0;34m,\u001b[0m \u001b[0minfo\u001b[0m \u001b[0;34m=\u001b[0m  \u001b[0menv\u001b[0m\u001b[0;34m.\u001b[0m\u001b[0mstep\u001b[0m\u001b[0;34m(\u001b[0m\u001b[0maction\u001b[0m\u001b[0;34m)\u001b[0m\u001b[0;34m\u001b[0m\u001b[0;34m\u001b[0m\u001b[0m\n\u001b[1;32m      8\u001b[0m \u001b[0;34m\u001b[0m\u001b[0m\n\u001b[0;32m----> 9\u001b[0;31m     \u001b[0menv\u001b[0m\u001b[0;34m.\u001b[0m\u001b[0mrender\u001b[0m\u001b[0;34m(\u001b[0m\u001b[0mmode\u001b[0m \u001b[0;34m=\u001b[0m \u001b[0;34m'human'\u001b[0m\u001b[0;34m,\u001b[0m \u001b[0;34m**\u001b[0m\u001b[0mkwargs\u001b[0m\u001b[0;34m)\u001b[0m\u001b[0;34m\u001b[0m\u001b[0;34m\u001b[0m\u001b[0m\n\u001b[0m",
      "\u001b[0;32m~/anaconda3/envs/tf14_sb/lib/python3.6/site-packages/gym/core.py\u001b[0m in \u001b[0;36mrender\u001b[0;34m(self, mode, **kwargs)\u001b[0m\n\u001b[1;32m    231\u001b[0m \u001b[0;34m\u001b[0m\u001b[0m\n\u001b[1;32m    232\u001b[0m     \u001b[0;32mdef\u001b[0m \u001b[0mrender\u001b[0m\u001b[0;34m(\u001b[0m\u001b[0mself\u001b[0m\u001b[0;34m,\u001b[0m \u001b[0mmode\u001b[0m\u001b[0;34m=\u001b[0m\u001b[0;34m'human'\u001b[0m\u001b[0;34m,\u001b[0m \u001b[0;34m**\u001b[0m\u001b[0mkwargs\u001b[0m\u001b[0;34m)\u001b[0m\u001b[0;34m:\u001b[0m\u001b[0;34m\u001b[0m\u001b[0;34m\u001b[0m\u001b[0m\n\u001b[0;32m--> 233\u001b[0;31m         \u001b[0;32mreturn\u001b[0m \u001b[0mself\u001b[0m\u001b[0;34m.\u001b[0m\u001b[0menv\u001b[0m\u001b[0;34m.\u001b[0m\u001b[0mrender\u001b[0m\u001b[0;34m(\u001b[0m\u001b[0mmode\u001b[0m\u001b[0;34m,\u001b[0m \u001b[0;34m**\u001b[0m\u001b[0mkwargs\u001b[0m\u001b[0;34m)\u001b[0m\u001b[0;34m\u001b[0m\u001b[0;34m\u001b[0m\u001b[0m\n\u001b[0m\u001b[1;32m    234\u001b[0m \u001b[0;34m\u001b[0m\u001b[0m\n\u001b[1;32m    235\u001b[0m     \u001b[0;32mdef\u001b[0m \u001b[0mclose\u001b[0m\u001b[0;34m(\u001b[0m\u001b[0mself\u001b[0m\u001b[0;34m)\u001b[0m\u001b[0;34m:\u001b[0m\u001b[0;34m\u001b[0m\u001b[0;34m\u001b[0m\u001b[0m\n",
      "\u001b[0;32m~/anaconda3/envs/tf14_sb/lib/python3.6/site-packages/dm2gym/envs/dm_suite_env.py\u001b[0m in \u001b[0;36mrender\u001b[0;34m(self, mode, **kwargs)\u001b[0m\n\u001b[1;32m     69\u001b[0m                     \u001b[0mself\u001b[0m\u001b[0;34m.\u001b[0m\u001b[0mviewer\u001b[0m \u001b[0;34m=\u001b[0m \u001b[0mrendering\u001b[0m\u001b[0;34m.\u001b[0m\u001b[0mSimpleImageViewer\u001b[0m\u001b[0;34m(\u001b[0m\u001b[0mmaxwidth\u001b[0m\u001b[0;34m=\u001b[0m\u001b[0;36m1024\u001b[0m\u001b[0;34m)\u001b[0m\u001b[0;34m\u001b[0m\u001b[0;34m\u001b[0m\u001b[0m\n\u001b[1;32m     70\u001b[0m                 \u001b[0;32melse\u001b[0m\u001b[0;34m:\u001b[0m\u001b[0;34m\u001b[0m\u001b[0;34m\u001b[0m\u001b[0m\n\u001b[0;32m---> 71\u001b[0;31m                     \u001b[0;32mfrom\u001b[0m \u001b[0mdm2gym\u001b[0m \u001b[0;32mimport\u001b[0m \u001b[0mOpenCVImageViewer\u001b[0m\u001b[0;34m\u001b[0m\u001b[0;34m\u001b[0m\u001b[0m\n\u001b[0m\u001b[1;32m     72\u001b[0m                     \u001b[0mself\u001b[0m\u001b[0;34m.\u001b[0m\u001b[0mviewer\u001b[0m \u001b[0;34m=\u001b[0m \u001b[0mOpenCVImageViewer\u001b[0m\u001b[0;34m(\u001b[0m\u001b[0;34m)\u001b[0m\u001b[0;34m\u001b[0m\u001b[0;34m\u001b[0m\u001b[0m\n\u001b[1;32m     73\u001b[0m             \u001b[0mself\u001b[0m\u001b[0;34m.\u001b[0m\u001b[0mviewer\u001b[0m\u001b[0;34m.\u001b[0m\u001b[0mimshow\u001b[0m\u001b[0;34m(\u001b[0m\u001b[0mimg\u001b[0m\u001b[0;34m)\u001b[0m\u001b[0;34m\u001b[0m\u001b[0;34m\u001b[0m\u001b[0m\n",
      "\u001b[0;31mImportError\u001b[0m: cannot import name 'OpenCVImageViewer'"
     ]
    }
   ],
   "source": [
    "# Rendering using dm2gym wrapper\n",
    "kwargs={'use_opencv_renderer': True}\n",
    "\n",
    "obs = env.reset()\n",
    "while True:\n",
    "    action = np.random.uniform(-1.0, 1.0, size=action_space.shape)\n",
    "    obs, rew, done, info =  env.step(action)\n",
    "\n",
    "    env.render(mode = 'human', **kwargs)"
   ]
  },
  {
   "cell_type": "code",
   "execution_count": 7,
   "metadata": {},
   "outputs": [
    {
     "name": "stdout",
     "output_type": "stream",
     "text": [
      "acrobot swingup\n",
      "acrobot swingup_sparse\n",
      "ball_in_cup catch\n",
      "cartpole balance\n",
      "cartpole balance_sparse\n",
      "cartpole swingup\n",
      "cartpole swingup_sparse\n",
      "cartpole two_poles\n",
      "cartpole three_poles\n",
      "cheetah run\n",
      "finger spin\n",
      "finger turn_easy\n",
      "finger turn_hard\n",
      "fish upright\n",
      "fish swim\n",
      "hopper stand\n",
      "hopper hop\n",
      "humanoid stand\n",
      "humanoid walk\n",
      "humanoid run\n",
      "humanoid run_pure_state\n",
      "humanoid_CMU stand\n",
      "humanoid_CMU run\n",
      "humanoid_ig stand\n",
      "humanoid_ig walk\n",
      "humanoid_ig run\n",
      "humanoid_ig run_pure_state\n",
      "lqr lqr_2_1\n",
      "lqr lqr_6_2\n",
      "manipulator bring_ball\n",
      "manipulator bring_peg\n",
      "manipulator insert_ball\n",
      "manipulator insert_peg\n",
      "pendulum swingup\n",
      "point_mass easy\n",
      "point_mass hard\n",
      "quadruped walk\n",
      "quadruped run\n",
      "quadruped escape\n",
      "quadruped fetch\n",
      "reacher easy\n",
      "reacher hard\n",
      "stacker stack_2\n",
      "stacker stack_4\n",
      "swimmer swimmer6\n",
      "swimmer swimmer15\n",
      "walker stand\n",
      "walker walk\n",
      "walker run\n"
     ]
    }
   ],
   "source": [
    "from dm_control import suite\n",
    "for domain_name, task_name in suite.ALL_TASKS:\n",
    "    print(domain_name, task_name)"
   ]
  },
  {
   "cell_type": "code",
   "execution_count": 8,
   "metadata": {},
   "outputs": [],
   "source": [
    "from __future__ import absolute_import\n",
    "from __future__ import division\n",
    "from __future__ import print_function\n",
    "\n",
    "from dm_control import suite\n",
    "from dm_control.suite.wrappers import action_noise\n",
    "from six.moves import input\n",
    "\n",
    "from dm_control import viewer"
   ]
  },
  {
   "cell_type": "code",
   "execution_count": null,
   "metadata": {},
   "outputs": [],
   "source": [
    "task_kwargs = {}\n",
    "task_kwargs['time_limit'] = float('inf')\n",
    "\n",
    "env = suite.load(domain_name='humanoid', task_name='run', task_kwargs=task_kwargs)\n",
    "env.task.visualize_reward = True\n",
    "env = action_noise.Wrapper(env, scale=1.0)\n",
    "\n",
    "viewer.launch(env)"
   ]
  },
  {
   "cell_type": "code",
   "execution_count": null,
   "metadata": {},
   "outputs": [],
   "source": [
    "# Another way to perfrom random actions\n",
    "action_spec = env.action_spec()\n",
    "\n",
    "# Define a uniform random policy.\n",
    "def random_policy(time_step):\n",
    "  del time_step  # Unused.\n",
    "  return np.random.uniform(low=action_spec.minimum,\n",
    "                           high=action_spec.maximum,\n",
    "                           size=action_spec.shape)\n",
    "\n",
    "viewer.launch(env, policy=random_policy)"
   ]
  },
  {
   "cell_type": "code",
   "execution_count": null,
   "metadata": {},
   "outputs": [],
   "source": [
    "# Saving video example\n",
    "\n",
    "def grabFrame(env):\n",
    "    # Get RGB rendering of env\n",
    "    rgbArr = env.physics.render(480, 640, camera_id=0)\n",
    "    # Convert to BGR for use with OpenCV\n",
    "    return cv2.cvtColor(rgbArr, cv2.COLOR_BGR2RGB)\n",
    "\n",
    "# Load task:\n",
    "env = suite.load(domain_name=\"humanoid\", task_name=\"run\")\n",
    "\n",
    "# Setup video writer - mp4 at 50 fps\n",
    "video_name = 'video.mp4'\n",
    "frame = grabFrame(env)\n",
    "height, width, layers = frame.shape\n",
    "video = cv2.VideoWriter(video_name, cv2.VideoWriter_fourcc(*'mp4v'), 50.0, (width, height))\n",
    "\n",
    "# First pass - Step through an episode and capture each frame\n",
    "action_spec = env.action_spec()\n",
    "time_step = env.reset()\n",
    "while not time_step.last():\n",
    "    action = np.random.uniform(action_spec.minimum,\n",
    "                               action_spec.maximum,\n",
    "                               size=action_spec.shape)\n",
    "    time_step = env.step(action)\n",
    "    frame = grabFrame(env)\n",
    "    # Render env output to video\n",
    "    video.write(grabFrame(env))\n",
    "\n",
    "# End render to video file\n",
    "video.release()"
   ]
  },
  {
   "cell_type": "code",
   "execution_count": null,
   "metadata": {},
   "outputs": [],
   "source": [
    "# Second pass - Playback\n",
    "cap = cv2.VideoCapture(video_name)\n",
    "while(cap.isOpened()):\n",
    "    ret, frame = cap.read()\n",
    "    cv2.imshow('Playback', frame)\n",
    "    if cv2.waitKey(1) & 0xFF == ord('q'):\n",
    "        break\n",
    "cap.release()"
   ]
  },
  {
   "cell_type": "code",
   "execution_count": null,
   "metadata": {},
   "outputs": [],
   "source": [
    "\n",
    "# Exit\n",
    "cv2.destroyAllWindows()"
   ]
  },
  {
   "cell_type": "code",
   "execution_count": null,
   "metadata": {},
   "outputs": [],
   "source": [
    "# Todo: run standard Deepmind examples\n",
    "#viewer.launch(environment_loader=basic_cmu_2019.cmu_humanoid_run_walls)"
   ]
  },
  {
   "cell_type": "code",
   "execution_count": null,
   "metadata": {},
   "outputs": [],
   "source": []
  }
 ],
 "metadata": {
  "kernelspec": {
   "display_name": "Python 3",
   "language": "python",
   "name": "python3"
  },
  "language_info": {
   "codemirror_mode": {
    "name": "ipython",
    "version": 3
   },
   "file_extension": ".py",
   "mimetype": "text/x-python",
   "name": "python",
   "nbconvert_exporter": "python",
   "pygments_lexer": "ipython3",
   "version": "3.6.9"
  }
 },
 "nbformat": 4,
 "nbformat_minor": 2
}
