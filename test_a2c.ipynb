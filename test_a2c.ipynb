{
 "cells": [
  {
   "cell_type": "code",
   "execution_count": 1,
   "metadata": {},
   "outputs": [],
   "source": [
    "import math\n",
    "from tensorboardX import SummaryWriter\n",
    "\n",
    "sess = None"
   ]
  },
  {
   "cell_type": "code",
   "execution_count": 2,
   "metadata": {},
   "outputs": [],
   "source": [
    "import tensorflow as tf\n",
    "import collections\n",
    "gpu_options = tf.GPUOptions(allow_growth=True,per_process_gpu_memory_fraction=0.8)\n",
    "tf.reset_default_graph()\n",
    "sess = tf.InteractiveSession(config=tf.ConfigProto(gpu_options=gpu_options))"
   ]
  },
  {
   "cell_type": "code",
   "execution_count": 3,
   "metadata": {},
   "outputs": [
    {
     "name": "stdout",
     "output_type": "stream",
     "text": [
      "\n",
      "WARNING: The TensorFlow contrib module will not be included in TensorFlow 2.0.\n",
      "For more information, please see:\n",
      "  * https://github.com/tensorflow/community/blob/master/rfcs/20180907-contrib-sunset.md\n",
      "  * https://github.com/tensorflow/addons\n",
      "If you depend on functionality not listed there, please file an issue.\n",
      "\n",
      "(None, 84, 84, 4)\n",
      "7\n"
     ]
    }
   ],
   "source": [
    "import env_configurations\n",
    "import games_configurations\n",
    "env_name = 'SuperMarioBrosRandomStages-v1'#'PongNoFrameskip-v4' #'MountainCar-v0' #'SuperMarioBros-v1'# 'PongNoFrameskip-v4' #SuperMarioBros-v1'\n",
    "#env_name = 'CartPole-v1'#'CartPole-v1' #'RoboschoolAnt-v1' #'CarRacing-v0' #'LunarLander-v2' #'Acrobot-v1' #\n",
    "\n",
    "obs_space, action_space = env_configurations.get_obs_and_action_spaces(env_name)\n",
    "config = games_configurations.mario_random_config_lstm\n",
    "\n",
    "observation_shape = obs_space.shape\n",
    "n_actions = action_space.n\n",
    "shape =(None, ) + observation_shape\n",
    "print(shape)\n",
    "print(n_actions)"
   ]
  },
  {
   "cell_type": "code",
   "execution_count": null,
   "metadata": {},
   "outputs": [],
   "source": []
  },
  {
   "cell_type": "code",
   "execution_count": 4,
   "metadata": {},
   "outputs": [
    {
     "name": "stderr",
     "output_type": "stream",
     "text": [
      "2019-07-20 22:44:39,635\tINFO node.py:469 -- Process STDOUT and STDERR is being redirected to /tmp/ray/session_2019-07-20_22-44-39_30020/logs.\n",
      "2019-07-20 22:44:39,749\tINFO services.py:407 -- Waiting for redis server at 127.0.0.1:35123 to respond...\n",
      "2019-07-20 22:44:39,871\tINFO services.py:407 -- Waiting for redis server at 127.0.0.1:24040 to respond...\n",
      "2019-07-20 22:44:39,874\tINFO services.py:804 -- Starting Redis shard with 6.74 GB max memory.\n",
      "2019-07-20 22:44:39,930\tINFO node.py:483 -- Process STDOUT and STDERR is being redirected to /tmp/ray/session_2019-07-20_22-44-39_30020/logs.\n",
      "2019-07-20 22:44:39,933\tINFO services.py:1427 -- Starting the Plasma object store with 10.11 GB memory using /dev/shm.\n"
     ]
    },
    {
     "data": {
      "text/plain": [
       "{'node_ip_address': '192.168.3.106',\n",
       " 'redis_address': '192.168.3.106:35123',\n",
       " 'object_store_address': '/tmp/ray/session_2019-07-20_22-44-39_30020/sockets/plasma_store',\n",
       " 'raylet_socket_name': '/tmp/ray/session_2019-07-20_22-44-39_30020/sockets/raylet',\n",
       " 'webui_url': None}"
      ]
     },
     "execution_count": 4,
     "metadata": {},
     "output_type": "execute_result"
    }
   ],
   "source": [
    "from a2c_discrete import A2CAgent\n",
    "import tr_helpers\n",
    "import networks\n",
    "import ray\n",
    "ray.init()"
   ]
  },
  {
   "cell_type": "code",
   "execution_count": null,
   "metadata": {},
   "outputs": [
    {
     "name": "stdout",
     "output_type": "stream",
     "text": [
      "WARNING:tensorflow:From /home/trrrrr/anaconda3/envs/rl/lib/python3.6/site-packages/tensorflow/python/framework/op_def_library.py:263: colocate_with (from tensorflow.python.framework.ops) is deprecated and will be removed in a future version.\n",
      "Instructions for updating:\n",
      "Colocations handled automatically by placer.\n",
      "WARNING:tensorflow:From /home/trrrrr/Documents/github/ml/dqn_atari/networks.py:181: conv2d (from tensorflow.python.layers.convolutional) is deprecated and will be removed in a future version.\n",
      "Instructions for updating:\n",
      "Use keras.layers.conv2d instead.\n",
      "WARNING:tensorflow:From /home/trrrrr/anaconda3/envs/rl/lib/python3.6/site-packages/tensorflow/contrib/layers/python/layers/layers.py:1624: flatten (from tensorflow.python.layers.core) is deprecated and will be removed in a future version.\n",
      "Instructions for updating:\n",
      "Use keras.layers.flatten instead.\n",
      "WARNING:tensorflow:From /home/trrrrr/Documents/github/ml/dqn_atari/networks.py:569: dense (from tensorflow.python.layers.core) is deprecated and will be removed in a future version.\n",
      "Instructions for updating:\n",
      "Use keras.layers.dense instead.\n",
      "WARNING:tensorflow:From /home/trrrrr/Documents/github/ml/dqn_atari/networks.py:145: to_float (from tensorflow.python.ops.math_ops) is deprecated and will be removed in a future version.\n",
      "Instructions for updating:\n",
      "Use tf.cast instead.\n"
     ]
    },
    {
     "name": "stderr",
     "output_type": "stream",
     "text": [
      "2019-07-20 22:44:41,708\tERROR worker.py:1672 -- WARNING: 24 workers have been started. This could be a result of using a large number of actors, or it could be a consequence of using nested tasks (see https://github.com/ray-project/ray/issues/3644) for some a discussion of workarounds.\n"
     ]
    },
    {
     "name": "stdout",
     "output_type": "stream",
     "text": [
      "\u001b[2m\u001b[36m(pid=30119)\u001b[0m \n",
      "\u001b[2m\u001b[36m(pid=30119)\u001b[0m WARNING: The TensorFlow contrib module will not be included in TensorFlow 2.0.\n",
      "\u001b[2m\u001b[36m(pid=30119)\u001b[0m For more information, please see:\n",
      "\u001b[2m\u001b[36m(pid=30119)\u001b[0m   * https://github.com/tensorflow/community/blob/master/rfcs/20180907-contrib-sunset.md\n",
      "\u001b[2m\u001b[36m(pid=30119)\u001b[0m   * https://github.com/tensorflow/addons\n",
      "\u001b[2m\u001b[36m(pid=30119)\u001b[0m If you depend on functionality not listed there, please file an issue.\n",
      "\u001b[2m\u001b[36m(pid=30119)\u001b[0m \n",
      "\u001b[2m\u001b[36m(pid=30116)\u001b[0m \n",
      "\u001b[2m\u001b[36m(pid=30116)\u001b[0m WARNING: The TensorFlow contrib module will not be included in TensorFlow 2.0.\n",
      "\u001b[2m\u001b[36m(pid=30116)\u001b[0m For more information, please see:\n",
      "\u001b[2m\u001b[36m(pid=30116)\u001b[0m   * https://github.com/tensorflow/community/blob/master/rfcs/20180907-contrib-sunset.md\n",
      "\u001b[2m\u001b[36m(pid=30116)\u001b[0m   * https://github.com/tensorflow/addons\n",
      "\u001b[2m\u001b[36m(pid=30116)\u001b[0m If you depend on functionality not listed there, please file an issue.\n",
      "\u001b[2m\u001b[36m(pid=30116)\u001b[0m \n",
      "\u001b[2m\u001b[36m(pid=30120)\u001b[0m \n",
      "\u001b[2m\u001b[36m(pid=30120)\u001b[0m WARNING: The TensorFlow contrib module will not be included in TensorFlow 2.0.\n",
      "\u001b[2m\u001b[36m(pid=30120)\u001b[0m For more information, please see:\n",
      "\u001b[2m\u001b[36m(pid=30120)\u001b[0m   * https://github.com/tensorflow/community/blob/master/rfcs/20180907-contrib-sunset.md\n",
      "\u001b[2m\u001b[36m(pid=30120)\u001b[0m   * https://github.com/tensorflow/addons\n",
      "\u001b[2m\u001b[36m(pid=30120)\u001b[0m If you depend on functionality not listed there, please file an issue.\n",
      "\u001b[2m\u001b[36m(pid=30120)\u001b[0m \n",
      "\u001b[2m\u001b[36m(pid=30118)\u001b[0m \n",
      "\u001b[2m\u001b[36m(pid=30118)\u001b[0m WARNING: The TensorFlow contrib module will not be included in TensorFlow 2.0.\n",
      "\u001b[2m\u001b[36m(pid=30118)\u001b[0m For more information, please see:\n",
      "\u001b[2m\u001b[36m(pid=30118)\u001b[0m   * https://github.com/tensorflow/community/blob/master/rfcs/20180907-contrib-sunset.md\n",
      "\u001b[2m\u001b[36m(pid=30118)\u001b[0m   * https://github.com/tensorflow/addons\n",
      "\u001b[2m\u001b[36m(pid=30118)\u001b[0m If you depend on functionality not listed there, please file an issue.\n",
      "\u001b[2m\u001b[36m(pid=30118)\u001b[0m \n",
      "\u001b[2m\u001b[36m(pid=30236)\u001b[0m \n",
      "\u001b[2m\u001b[36m(pid=30236)\u001b[0m WARNING: The TensorFlow contrib module will not be included in TensorFlow 2.0.\n",
      "\u001b[2m\u001b[36m(pid=30236)\u001b[0m For more information, please see:\n",
      "\u001b[2m\u001b[36m(pid=30236)\u001b[0m   * https://github.com/tensorflow/community/blob/master/rfcs/20180907-contrib-sunset.md\n",
      "\u001b[2m\u001b[36m(pid=30236)\u001b[0m   * https://github.com/tensorflow/addons\n",
      "\u001b[2m\u001b[36m(pid=30236)\u001b[0m If you depend on functionality not listed there, please file an issue.\n",
      "\u001b[2m\u001b[36m(pid=30236)\u001b[0m \n",
      "\u001b[2m\u001b[36m(pid=30217)\u001b[0m \n",
      "\u001b[2m\u001b[36m(pid=30217)\u001b[0m WARNING: The TensorFlow contrib module will not be included in TensorFlow 2.0.\n",
      "\u001b[2m\u001b[36m(pid=30217)\u001b[0m For more information, please see:\n",
      "\u001b[2m\u001b[36m(pid=30217)\u001b[0m   * https://github.com/tensorflow/community/blob/master/rfcs/20180907-contrib-sunset.md\n",
      "\u001b[2m\u001b[36m(pid=30217)\u001b[0m   * https://github.com/tensorflow/addons\n",
      "\u001b[2m\u001b[36m(pid=30217)\u001b[0m If you depend on functionality not listed there, please file an issue.\n",
      "\u001b[2m\u001b[36m(pid=30217)\u001b[0m \n",
      "\u001b[2m\u001b[36m(pid=30121)\u001b[0m \n",
      "\u001b[2m\u001b[36m(pid=30121)\u001b[0m WARNING: The TensorFlow contrib module will not be included in TensorFlow 2.0.\n",
      "\u001b[2m\u001b[36m(pid=30121)\u001b[0m For more information, please see:\n",
      "\u001b[2m\u001b[36m(pid=30121)\u001b[0m   * https://github.com/tensorflow/community/blob/master/rfcs/20180907-contrib-sunset.md\n",
      "\u001b[2m\u001b[36m(pid=30121)\u001b[0m   * https://github.com/tensorflow/addons\n",
      "\u001b[2m\u001b[36m(pid=30121)\u001b[0m If you depend on functionality not listed there, please file an issue.\n",
      "\u001b[2m\u001b[36m(pid=30121)\u001b[0m \n",
      "\u001b[2m\u001b[36m(pid=30232)\u001b[0m \n",
      "\u001b[2m\u001b[36m(pid=30232)\u001b[0m WARNING: The TensorFlow contrib module will not be included in TensorFlow 2.0.\n",
      "\u001b[2m\u001b[36m(pid=30232)\u001b[0m For more information, please see:\n",
      "\u001b[2m\u001b[36m(pid=30232)\u001b[0m   * https://github.com/tensorflow/community/blob/master/rfcs/20180907-contrib-sunset.md\n",
      "\u001b[2m\u001b[36m(pid=30232)\u001b[0m   * https://github.com/tensorflow/addons\n",
      "\u001b[2m\u001b[36m(pid=30232)\u001b[0m If you depend on functionality not listed there, please file an issue.\n",
      "\u001b[2m\u001b[36m(pid=30232)\u001b[0m \n",
      "\u001b[2m\u001b[36m(pid=30122)\u001b[0m \n",
      "\u001b[2m\u001b[36m(pid=30122)\u001b[0m WARNING: The TensorFlow contrib module will not be included in TensorFlow 2.0.\n",
      "\u001b[2m\u001b[36m(pid=30122)\u001b[0m For more information, please see:\n",
      "\u001b[2m\u001b[36m(pid=30122)\u001b[0m   * https://github.com/tensorflow/community/blob/master/rfcs/20180907-contrib-sunset.md\n",
      "\u001b[2m\u001b[36m(pid=30122)\u001b[0m   * https://github.com/tensorflow/addons\n",
      "\u001b[2m\u001b[36m(pid=30122)\u001b[0m If you depend on functionality not listed there, please file an issue.\n",
      "\u001b[2m\u001b[36m(pid=30122)\u001b[0m \n",
      "\u001b[2m\u001b[36m(pid=30123)\u001b[0m \n",
      "\u001b[2m\u001b[36m(pid=30123)\u001b[0m WARNING: The TensorFlow contrib module will not be included in TensorFlow 2.0.\n",
      "\u001b[2m\u001b[36m(pid=30123)\u001b[0m For more information, please see:\n",
      "\u001b[2m\u001b[36m(pid=30123)\u001b[0m   * https://github.com/tensorflow/community/blob/master/rfcs/20180907-contrib-sunset.md\n",
      "\u001b[2m\u001b[36m(pid=30123)\u001b[0m   * https://github.com/tensorflow/addons\n",
      "\u001b[2m\u001b[36m(pid=30123)\u001b[0m If you depend on functionality not listed there, please file an issue.\n",
      "\u001b[2m\u001b[36m(pid=30123)\u001b[0m \n",
      "\u001b[2m\u001b[36m(pid=30245)\u001b[0m \n",
      "\u001b[2m\u001b[36m(pid=30245)\u001b[0m WARNING: The TensorFlow contrib module will not be included in TensorFlow 2.0.\n",
      "\u001b[2m\u001b[36m(pid=30245)\u001b[0m For more information, please see:\n",
      "\u001b[2m\u001b[36m(pid=30245)\u001b[0m   * https://github.com/tensorflow/community/blob/master/rfcs/20180907-contrib-sunset.md\n",
      "\u001b[2m\u001b[36m(pid=30245)\u001b[0m   * https://github.com/tensorflow/addons\n",
      "\u001b[2m\u001b[36m(pid=30245)\u001b[0m If you depend on functionality not listed there, please file an issue.\n",
      "\u001b[2m\u001b[36m(pid=30245)\u001b[0m \n",
      "\u001b[2m\u001b[36m(pid=30231)\u001b[0m \n",
      "\u001b[2m\u001b[36m(pid=30231)\u001b[0m WARNING: The TensorFlow contrib module will not be included in TensorFlow 2.0.\n",
      "\u001b[2m\u001b[36m(pid=30231)\u001b[0m For more information, please see:\n",
      "\u001b[2m\u001b[36m(pid=30231)\u001b[0m   * https://github.com/tensorflow/community/blob/master/rfcs/20180907-contrib-sunset.md\n",
      "\u001b[2m\u001b[36m(pid=30231)\u001b[0m   * https://github.com/tensorflow/addons\n",
      "\u001b[2m\u001b[36m(pid=30231)\u001b[0m If you depend on functionality not listed there, please file an issue.\n",
      "\u001b[2m\u001b[36m(pid=30231)\u001b[0m \n",
      "\u001b[2m\u001b[36m(pid=30124)\u001b[0m \n",
      "\u001b[2m\u001b[36m(pid=30124)\u001b[0m WARNING: The TensorFlow contrib module will not be included in TensorFlow 2.0.\n",
      "\u001b[2m\u001b[36m(pid=30124)\u001b[0m For more information, please see:\n",
      "\u001b[2m\u001b[36m(pid=30124)\u001b[0m   * https://github.com/tensorflow/community/blob/master/rfcs/20180907-contrib-sunset.md\n",
      "\u001b[2m\u001b[36m(pid=30124)\u001b[0m   * https://github.com/tensorflow/addons\n",
      "\u001b[2m\u001b[36m(pid=30124)\u001b[0m If you depend on functionality not listed there, please file an issue.\n",
      "\u001b[2m\u001b[36m(pid=30124)\u001b[0m \n",
      "\u001b[2m\u001b[36m(pid=30250)\u001b[0m \n",
      "\u001b[2m\u001b[36m(pid=30250)\u001b[0m WARNING: The TensorFlow contrib module will not be included in TensorFlow 2.0.\n",
      "\u001b[2m\u001b[36m(pid=30250)\u001b[0m For more information, please see:\n",
      "\u001b[2m\u001b[36m(pid=30250)\u001b[0m   * https://github.com/tensorflow/community/blob/master/rfcs/20180907-contrib-sunset.md\n",
      "\u001b[2m\u001b[36m(pid=30250)\u001b[0m   * https://github.com/tensorflow/addons\n",
      "\u001b[2m\u001b[36m(pid=30250)\u001b[0m If you depend on functionality not listed there, please file an issue.\n",
      "\u001b[2m\u001b[36m(pid=30250)\u001b[0m \n",
      "\u001b[2m\u001b[36m(pid=30293)\u001b[0m \n",
      "\u001b[2m\u001b[36m(pid=30293)\u001b[0m WARNING: The TensorFlow contrib module will not be included in TensorFlow 2.0.\n",
      "\u001b[2m\u001b[36m(pid=30293)\u001b[0m For more information, please see:\n",
      "\u001b[2m\u001b[36m(pid=30293)\u001b[0m   * https://github.com/tensorflow/community/blob/master/rfcs/20180907-contrib-sunset.md\n",
      "\u001b[2m\u001b[36m(pid=30293)\u001b[0m   * https://github.com/tensorflow/addons\n",
      "\u001b[2m\u001b[36m(pid=30293)\u001b[0m If you depend on functionality not listed there, please file an issue.\n",
      "\u001b[2m\u001b[36m(pid=30293)\u001b[0m \n",
      "\u001b[2m\u001b[36m(pid=30288)\u001b[0m \n",
      "\u001b[2m\u001b[36m(pid=30288)\u001b[0m WARNING: The TensorFlow contrib module will not be included in TensorFlow 2.0.\n",
      "\u001b[2m\u001b[36m(pid=30288)\u001b[0m For more information, please see:\n",
      "\u001b[2m\u001b[36m(pid=30288)\u001b[0m   * https://github.com/tensorflow/community/blob/master/rfcs/20180907-contrib-sunset.md\n",
      "\u001b[2m\u001b[36m(pid=30288)\u001b[0m   * https://github.com/tensorflow/addons\n",
      "\u001b[2m\u001b[36m(pid=30288)\u001b[0m If you depend on functionality not listed there, please file an issue.\n",
      "\u001b[2m\u001b[36m(pid=30288)\u001b[0m \n",
      "0\n",
      "1\n",
      "2\n",
      "3\n",
      "4\n",
      "5\n",
      "6\n",
      "7\n",
      "0\n",
      "WARNING:tensorflow:From /home/trrrrr/anaconda3/envs/rl/lib/python3.6/site-packages/tensorflow/python/ops/math_ops.py:3066: to_int32 (from tensorflow.python.ops.math_ops) is deprecated and will be removed in a future version.\n",
      "Instructions for updating:\n",
      "Use tf.cast instead.\n",
      "Frames per seconds:  283.5039664619185\n",
      "saving next best rewards:  214.2\n"
     ]
    },
    {
     "name": "stdout",
     "output_type": "stream",
     "text": [
      "Frames per seconds:  384.7868453679956\n",
      "saving next best rewards:  276.3392857142857\n",
      "Frames per seconds:  385.7765393712657\n",
      "saving next best rewards:  317.2\n",
      "Frames per seconds:  384.98097520681233\n",
      "saving next best rewards:  323.01075268817203\n",
      "Frames per seconds:  388.21052125410034\n",
      "saving next best rewards:  389.06\n",
      "Frames per seconds:  379.1306116667984\n",
      "Frames per seconds:  377.023751492141\n",
      "Frames per seconds:  385.623911558121\n",
      "Frames per seconds:  373.8682550486853\n",
      "Frames per seconds:  359.4948498936448\n",
      "saving next best rewards:  415.96\n",
      "Frames per seconds:  318.32981458240334\n"
     ]
    }
   ],
   "source": [
    "\n",
    "\n",
    "agent = A2CAgent(sess,'stages_all', obs_space, True, action_space, config)\n",
    "#agent.restore('nn/last_skip')\n",
    "agent.train()\n"
   ]
  },
  {
   "cell_type": "code",
   "execution_count": null,
   "metadata": {},
   "outputs": [],
   "source": [
    "agent.save('nn/last_all')\n",
    "ray.shutdown()"
   ]
  },
  {
   "cell_type": "code",
   "execution_count": null,
   "metadata": {},
   "outputs": [],
   "source": [
    "\n",
    "\n"
   ]
  },
  {
   "cell_type": "code",
   "execution_count": null,
   "metadata": {},
   "outputs": [],
   "source": []
  },
  {
   "cell_type": "code",
   "execution_count": null,
   "metadata": {},
   "outputs": [],
   "source": [
    "gym.envs.registry.all()"
   ]
  },
  {
   "cell_type": "code",
   "execution_count": null,
   "metadata": {},
   "outputs": [],
   "source": []
  }
 ],
 "metadata": {
  "kernelspec": {
   "display_name": "Python 3",
   "language": "python",
   "name": "python3"
  },
  "language_info": {
   "codemirror_mode": {
    "name": "ipython",
    "version": 3
   },
   "file_extension": ".py",
   "mimetype": "text/x-python",
   "name": "python",
   "nbconvert_exporter": "python",
   "pygments_lexer": "ipython3",
   "version": "3.6.8"
  }
 },
 "nbformat": 4,
 "nbformat_minor": 2
}
