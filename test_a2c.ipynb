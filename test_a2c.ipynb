{
 "cells": [
  {
   "cell_type": "code",
   "execution_count": 1,
   "metadata": {},
   "outputs": [],
   "source": [
    "import math\n",
    "from tensorboardX import SummaryWriter\n",
    "import roboschool\n",
    "sess = None"
   ]
  },
  {
   "cell_type": "code",
   "execution_count": 2,
   "metadata": {},
   "outputs": [],
   "source": [
    "import tensorflow as tf\n",
    "import collections\n",
    "gpu_options = tf.GPUOptions(allow_growth=True,per_process_gpu_memory_fraction=0.8)\n",
    "tf.reset_default_graph()\n",
    "sess = tf.InteractiveSession(config=tf.ConfigProto(gpu_options=gpu_options))"
   ]
  },
  {
   "cell_type": "code",
   "execution_count": 3,
   "metadata": {},
   "outputs": [
    {
     "name": "stderr",
     "output_type": "stream",
     "text": [
      "/home/trrrrr/anaconda3/envs/rl/lib/python3.6/site-packages/gym/envs/registration.py:14: PkgResourcesDeprecationWarning: Parameters to load are deprecated.  Call .resolve and .require separately.\n",
      "  result = entry_point.load(False)\n"
     ]
    },
    {
     "name": "stdout",
     "output_type": "stream",
     "text": [
      "(None, 84, 84, 4)\n",
      "7\n"
     ]
    }
   ],
   "source": [
    "import gym\n",
    "import wrappers\n",
    "env_name = 'SuperMarioBros-v1'\n",
    "#env = wrappers.make_atari_deepmind(env_name, skip=4)\n",
    "#env_name = 'RoboschoolAnt-v1'#'CartPole-v1' #'CarRacing-v0' #'LunarLander-v2' #'Acrobot-v1' #\n",
    "#env = gym.make(env_name)\n",
    "from a2c import create_super_mario_env\n",
    "\n",
    "env = create_super_mario_env()\n",
    "\n",
    "observation_shape = env.observation_space.shape\n",
    "n_actions = env.action_space.n\n",
    "shape =(None, ) + observation_shape\n",
    "print(shape)\n",
    "print(n_actions)"
   ]
  },
  {
   "cell_type": "code",
   "execution_count": 4,
   "metadata": {},
   "outputs": [],
   "source": [
    "# The typical imports\n",
    "import gym\n",
    "import numpy as np\n",
    "import matplotlib.pyplot as plt\n",
    "%matplotlib inline\n",
    "\n",
    "# Imports specifically so we can render outputs in Jupyter.\n",
    "from JSAnimation.IPython_display import display_animation\n",
    "from matplotlib import animation\n",
    "from IPython.display import display\n",
    "\n",
    "\n",
    "def display_frames_as_gif(frames):\n",
    "    \"\"\"\n",
    "    Displays a list of frames as a gif, with controls\n",
    "    \"\"\"\n",
    "    #plt.figure(figsize=(frames[0].shape[1] / 72.0, frames[0].shape[0] / 72.0), dpi = 72)\n",
    "    patch = plt.imshow(frames[0])\n",
    "    plt.axis('off')\n",
    "\n",
    "    def animate(i):\n",
    "        patch.set_data(frames[i])\n",
    "\n",
    "    anim = animation.FuncAnimation(plt.gcf(), animate, frames = len(frames), interval=50)\n",
    "    display(display_animation(anim, default_mode='loop'))"
   ]
  },
  {
   "cell_type": "code",
   "execution_count": null,
   "metadata": {},
   "outputs": [],
   "source": [
    "class EnvCreator(object):\n",
    "    def __init__(self, name):\n",
    "        self.name = name\n",
    "    def __call__(self, ):\n",
    "        return gym.make(self.name)"
   ]
  },
  {
   "cell_type": "code",
   "execution_count": null,
   "metadata": {},
   "outputs": [
    {
     "name": "stderr",
     "output_type": "stream",
     "text": [
      "2019-04-28 20:50:45,596\tINFO node.py:278 -- Process STDOUT and STDERR is being redirected to /tmp/ray/session_2019-04-28_20-50-45_26084/logs.\n",
      "2019-04-28 20:50:45,719\tINFO services.py:396 -- Waiting for redis server at 127.0.0.1:61811 to respond...\n",
      "2019-04-28 20:50:45,872\tINFO services.py:396 -- Waiting for redis server at 127.0.0.1:10056 to respond...\n",
      "2019-04-28 20:50:45,882\tINFO services.py:798 -- Starting Redis shard with 10.0 GB max memory.\n",
      "2019-04-28 20:50:45,954\tINFO services.py:1360 -- Starting the Plasma object store with 13.477717606 GB memory using /dev/shm.\n"
     ]
    },
    {
     "name": "stdout",
     "output_type": "stream",
     "text": [
      "\n",
      "======================================================================\n",
      "View the web UI at http://localhost:8889/notebooks/ray_ui.ipynb?token=d618bee6883cebda8c691ef9c944b6f3d6f0e958816aa613\n",
      "======================================================================\n",
      "\n",
      "()\n",
      "Frames per seconds:  128.6718359913155\n",
      "Frames per seconds:  241.3590348455984\n",
      "Frames per seconds:  261.2203249310438\n",
      "saving next best rewards:  953.0\n"
     ]
    }
   ],
   "source": [
    "from a2c import A2CAgent\n",
    "import tr_helpers\n",
    "import networks\n",
    "import ray\n",
    "ray.init()\n",
    "\n",
    "a2c_config = {\n",
    "    'GAMMA' : 0.99,\n",
    "    'TAU' : 0.9,\n",
    "    'LEARNING_RATE' : 1e-3,\n",
    "    'NAME' : 'Supermario',\n",
    "    'SCORE_TO_WIN' : 100500,\n",
    "    'EPISODES_TO_LOG' : 20, \n",
    "    'LIVES_REWARD' : 5,\n",
    "    'GRAD_NORM' : 0.5,\n",
    "    'ENTROPY_COEF' : 0.001,\n",
    "    'NUM_ACTORS' : 1,\n",
    "    'STEPS_NUM' : 50,\n",
    "    'TRUNCATE_GRADS' : True,\n",
    "    'ENV_NAME' : env_name,\n",
    "    'PPO' : False,\n",
    "    'E_CLIP' : 0.2\n",
    "}\n",
    "#self, sess, env_name, observation_shape, actions_num, config = default_config\n",
    "observation_shape = env.observation_space.shape\n",
    "actions_num = env.action_space.n\n",
    "action_shape = env.action_space.shape\n",
    "print(action_shape)\n",
    "agent = A2CAgent(sess,'pong', observation_shape, actions_num, action_shape, a2c_config)\n",
    "agent.train()"
   ]
  },
  {
   "cell_type": "code",
   "execution_count": null,
   "metadata": {},
   "outputs": [],
   "source": [
    "def evaluate(env,t_max=10000):\n",
    "    rewards = []\n",
    "    env._max_episode_steps = 9999\n",
    "    print('reset')\n",
    "    #env = env.old_env\n",
    "    s = env.reset()\n",
    "    reward = 0\n",
    "    for it in range(t_max):\n",
    "        action = agent.get_action(s, True)\n",
    "        ad = agent.get_action_distribution([s])\n",
    "        #print(ad)\n",
    "        s, r, done, _ = env.step(action)\n",
    "        reward += r\n",
    "        \n",
    "            \n",
    "        if done:\n",
    "            break       \n",
    "        \n",
    "    return reward\n",
    "\n",
    "import gym.wrappers\n",
    "\n",
    "#env_monitor = wrappers.make_atari_deepmind(env_name, noop_max=30, skip=4)\n",
    "#env_monitor = wrappers.ReallyDoneWrapper(env_monitor)\n",
    "env_monitor = gym.wrappers.Monitor(env,directory='video_ppo',force=True)\n",
    "\n",
    "sessions = [print('reward:', evaluate(env_monitor)) for _ in range(1)]\n",
    "env_monitor.close()"
   ]
  },
  {
   "cell_type": "code",
   "execution_count": null,
   "metadata": {},
   "outputs": [],
   "source": []
  },
  {
   "cell_type": "code",
   "execution_count": null,
   "metadata": {},
   "outputs": [],
   "source": [
    "gym.envs.registry.all()"
   ]
  },
  {
   "cell_type": "code",
   "execution_count": null,
   "metadata": {},
   "outputs": [],
   "source": []
  }
 ],
 "metadata": {
  "kernelspec": {
   "display_name": "Python 3",
   "language": "python",
   "name": "python3"
  },
  "language_info": {
   "codemirror_mode": {
    "name": "ipython",
    "version": 3
   },
   "file_extension": ".py",
   "mimetype": "text/x-python",
   "name": "python",
   "nbconvert_exporter": "python",
   "pygments_lexer": "ipython3",
   "version": "3.6.8"
  }
 },
 "nbformat": 4,
 "nbformat_minor": 2
}
