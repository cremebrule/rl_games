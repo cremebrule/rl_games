{
 "cells": [
  {
   "cell_type": "code",
   "execution_count": 1,
   "metadata": {},
   "outputs": [],
   "source": [
    "import math\n",
    "from tensorboardX import SummaryWriter\n",
    "import roboschool\n",
    "sess = None"
   ]
  },
  {
   "cell_type": "code",
   "execution_count": 2,
   "metadata": {},
   "outputs": [],
   "source": [
    "import tensorflow as tf\n",
    "import collections\n",
    "gpu_options = tf.GPUOptions(allow_growth=True,per_process_gpu_memory_fraction=0.8)\n",
    "tf.reset_default_graph()\n",
    "sess = tf.InteractiveSession(config=tf.ConfigProto(gpu_options=gpu_options))"
   ]
  },
  {
   "cell_type": "code",
   "execution_count": 3,
   "metadata": {},
   "outputs": [
    {
     "name": "stderr",
     "output_type": "stream",
     "text": [
      "/home/trrrrr/anaconda3/envs/rl/lib/python3.6/site-packages/gym/envs/registration.py:14: PkgResourcesDeprecationWarning: Parameters to load are deprecated.  Call .resolve and .require separately.\n",
      "  result = entry_point.load(False)\n"
     ]
    },
    {
     "name": "stdout",
     "output_type": "stream",
     "text": [
      "(None, 84, 84, 4)\n",
      "12\n"
     ]
    }
   ],
   "source": [
    "import gym\n",
    "import wrappers\n",
    "env_name = 'SuperMarioBros-v1'# 'PongNoFrameskip-v4' #SuperMarioBros-v1'\n",
    "#env = wrappers.make_atari_deepmind(env_name, skip=4)\n",
    "#env_name = 'CartPole-v1'#'CartPole-v1' #'RoboschoolAnt-v1' #'CarRacing-v0' #'LunarLander-v2' #'Acrobot-v1' #\n",
    "#env = gym.make(env_name)\n",
    "from vecenv import create_super_mario_env\n",
    "\n",
    "env = create_super_mario_env()\n",
    "\n",
    "observation_shape = env.observation_space.shape\n",
    "n_actions = env.action_space.n\n",
    "shape =(None, ) + observation_shape\n",
    "print(shape)\n",
    "print(n_actions)"
   ]
  },
  {
   "cell_type": "code",
   "execution_count": 4,
   "metadata": {},
   "outputs": [],
   "source": [
    "# The typical imports\n",
    "import gym\n",
    "import numpy as np\n",
    "import matplotlib.pyplot as plt\n",
    "%matplotlib inline\n",
    "\n",
    "# Imports specifically so we can render outputs in Jupyter.\n",
    "from JSAnimation.IPython_display import display_animation\n",
    "from matplotlib import animation\n",
    "from IPython.display import display\n",
    "\n",
    "\n",
    "def display_frames_as_gif(frames):\n",
    "    \"\"\"\n",
    "    Displays a list of frames as a gif, with controls\n",
    "    \"\"\"\n",
    "    #plt.figure(figsize=(frames[0].shape[1] / 72.0, frames[0].shape[0] / 72.0), dpi = 72)\n",
    "    patch = plt.imshow(frames[0])\n",
    "    plt.axis('off')\n",
    "\n",
    "    def animate(i):\n",
    "        patch.set_data(frames[i])\n",
    "\n",
    "    anim = animation.FuncAnimation(plt.gcf(), animate, frames = len(frames), interval=50)\n",
    "    display(display_animation(anim, default_mode='loop'))"
   ]
  },
  {
   "cell_type": "code",
   "execution_count": null,
   "metadata": {},
   "outputs": [],
   "source": [
    "class EnvCreator(object):\n",
    "    def __init__(self, name):\n",
    "        self.name = name\n",
    "    def __call__(self, ):\n",
    "        return gym.make(self.name)"
   ]
  },
  {
   "cell_type": "code",
   "execution_count": null,
   "metadata": {},
   "outputs": [
    {
     "name": "stderr",
     "output_type": "stream",
     "text": [
      "2019-05-04 20:43:53,589\tINFO node.py:469 -- Process STDOUT and STDERR is being redirected to /tmp/ray/session_2019-05-04_20-43-53_23838/logs.\n",
      "2019-05-04 20:43:53,708\tINFO services.py:407 -- Waiting for redis server at 127.0.0.1:46378 to respond...\n",
      "2019-05-04 20:43:53,870\tINFO services.py:407 -- Waiting for redis server at 127.0.0.1:54617 to respond...\n",
      "2019-05-04 20:43:53,878\tINFO services.py:804 -- Starting Redis shard with 6.74 GB max memory.\n",
      "2019-05-04 20:43:53,956\tINFO node.py:483 -- Process STDOUT and STDERR is being redirected to /tmp/ray/session_2019-05-04_20-43-53_23838/logs.\n",
      "2019-05-04 20:43:53,958\tINFO services.py:1427 -- Starting the Plasma object store with 10.11 GB memory using /dev/shm.\n"
     ]
    },
    {
     "name": "stdout",
     "output_type": "stream",
     "text": [
      "()\n",
      "\u001b[2m\u001b[36m(pid=23915)\u001b[0m /home/trrrrr/anaconda3/envs/rl/lib/python3.6/site-packages/gym/envs/registration.py:14: PkgResourcesDeprecationWarning: Parameters to load are deprecated.  Call .resolve and .require separately.\n",
      "\u001b[2m\u001b[36m(pid=23915)\u001b[0m   result = entry_point.load(False)\n",
      "\u001b[2m\u001b[36m(pid=23911)\u001b[0m /home/trrrrr/anaconda3/envs/rl/lib/python3.6/site-packages/gym/envs/registration.py:14: PkgResourcesDeprecationWarning: Parameters to load are deprecated.  Call .resolve and .require separately.\n",
      "\u001b[2m\u001b[36m(pid=23911)\u001b[0m   result = entry_point.load(False)\n",
      "\u001b[2m\u001b[36m(pid=23917)\u001b[0m /home/trrrrr/anaconda3/envs/rl/lib/python3.6/site-packages/gym/envs/registration.py:14: PkgResourcesDeprecationWarning: Parameters to load are deprecated.  Call .resolve and .require separately.\n",
      "\u001b[2m\u001b[36m(pid=23917)\u001b[0m   result = entry_point.load(False)\n",
      "\u001b[2m\u001b[36m(pid=23909)\u001b[0m /home/trrrrr/anaconda3/envs/rl/lib/python3.6/site-packages/gym/envs/registration.py:14: PkgResourcesDeprecationWarning: Parameters to load are deprecated.  Call .resolve and .require separately.\n",
      "\u001b[2m\u001b[36m(pid=23909)\u001b[0m   result = entry_point.load(False)\n",
      "\u001b[2m\u001b[36m(pid=23914)\u001b[0m /home/trrrrr/anaconda3/envs/rl/lib/python3.6/site-packages/gym/envs/registration.py:14: PkgResourcesDeprecationWarning: Parameters to load are deprecated.  Call .resolve and .require separately.\n",
      "\u001b[2m\u001b[36m(pid=23914)\u001b[0m   result = entry_point.load(False)\n",
      "\u001b[2m\u001b[36m(pid=23912)\u001b[0m /home/trrrrr/anaconda3/envs/rl/lib/python3.6/site-packages/gym/envs/registration.py:14: PkgResourcesDeprecationWarning: Parameters to load are deprecated.  Call .resolve and .require separately.\n",
      "\u001b[2m\u001b[36m(pid=23912)\u001b[0m   result = entry_point.load(False)\n",
      "\u001b[2m\u001b[36m(pid=23913)\u001b[0m /home/trrrrr/anaconda3/envs/rl/lib/python3.6/site-packages/gym/envs/registration.py:14: PkgResourcesDeprecationWarning: Parameters to load are deprecated.  Call .resolve and .require separately.\n",
      "\u001b[2m\u001b[36m(pid=23913)\u001b[0m   result = entry_point.load(False)\n",
      "\u001b[2m\u001b[36m(pid=23916)\u001b[0m /home/trrrrr/anaconda3/envs/rl/lib/python3.6/site-packages/gym/envs/registration.py:14: PkgResourcesDeprecationWarning: Parameters to load are deprecated.  Call .resolve and .require separately.\n",
      "\u001b[2m\u001b[36m(pid=23916)\u001b[0m   result = entry_point.load(False)\n",
      "Frames per seconds:  257.0096853887777\n",
      "Frames per seconds:  303.79226808383623\n",
      "saving next best rewards:  216.71428571428572\n",
      "Frames per seconds:  299.355625550813\n",
      "saving next best rewards:  253.72727272727272\n"
     ]
    }
   ],
   "source": [
    "from a2c_v2 import A2CAgent\n",
    "import tr_helpers\n",
    "import networks\n",
    "import ray\n",
    "ray.init()\n",
    "\n",
    "a2c_config = {\n",
    "    'GAMMA' : 0.99,\n",
    "    'TAU' : 0.9,\n",
    "    'LEARNING_RATE' : 1e-4,\n",
    "    'NAME' : 'Supermario',\n",
    "    'SCORE_TO_WIN' : 1000,\n",
    "    'EPISODES_TO_LOG' : 20, \n",
    "    'LIVES_REWARD' : 5,\n",
    "    'GRAD_NORM' : 0.5,\n",
    "    'ENTROPY_COEF' : 0.001,\n",
    "    'TRUNCATE_GRADS' : True,\n",
    "    'ENV_NAME' : env_name,\n",
    "    'PPO' : True,\n",
    "    'E_CLIP' : 0.2,\n",
    "    'NUM_ACTORS' : 8,\n",
    "    'STEPS_NUM' : 50,\n",
    "    'MINIBATCH_SIZE' : 50,\n",
    "    'MINI_EPOCHS' : 4,\n",
    "}\n",
    "#self, sess, env_name, observation_shape, actions_num, config = default_config\n",
    "observation_shape = env.observation_space.shape\n",
    "actions_num = env.action_space.n\n",
    "action_shape = env.action_space.shape\n",
    "print(action_shape)\n",
    "agent = A2CAgent(sess,'mario', observation_shape, actions_num, action_shape, a2c_config)\n",
    "#agent.restore('nn/a2cSuperMarioBros-v1')\n",
    "agent.train()"
   ]
  },
  {
   "cell_type": "code",
   "execution_count": null,
   "metadata": {},
   "outputs": [],
   "source": [
    "agent.save('nn/a2cSuperMarioBros-v1')\n",
    "def evaluate(env,t_max=10000):\n",
    "    rewards = []\n",
    "    env._max_episode_steps = 9999\n",
    "    print('reset')\n",
    "    #env = env.old_env\n",
    "    s = env.reset()\n",
    "    reward = 0\n",
    "    for it in range(t_max):\n",
    "        action = agent.get_action(s, False)\n",
    "        ad = agent.get_action_distribution([s])\n",
    "        #print(ad)\n",
    "        s, r, done, _ = env.step(action)\n",
    "        reward += r\n",
    "        \n",
    "            \n",
    "        if done:\n",
    "            break       \n",
    "        \n",
    "    return reward\n",
    "\n",
    "import gym.wrappers\n",
    "\n",
    "#env_monitor = wrappers.make_atari_deepmind(env_name, noop_max=30, skip=4)\n",
    "#env_monitor = wrappers.ReallyDoneWrapper(env_monitor)\n",
    "env_monitor = gym.wrappers.Monitor(env,directory='video_ppo',force=True)\n",
    "\n",
    "sessions = [print('reward:', evaluate(env_monitor)) for _ in range(1)]\n",
    "env_monitor.close()"
   ]
  },
  {
   "cell_type": "code",
   "execution_count": null,
   "metadata": {},
   "outputs": [],
   "source": []
  },
  {
   "cell_type": "code",
   "execution_count": null,
   "metadata": {},
   "outputs": [],
   "source": [
    "gym.envs.registry.all()"
   ]
  },
  {
   "cell_type": "code",
   "execution_count": null,
   "metadata": {},
   "outputs": [],
   "source": []
  }
 ],
 "metadata": {
  "kernelspec": {
   "display_name": "Python 3",
   "language": "python",
   "name": "python3"
  },
  "language_info": {
   "codemirror_mode": {
    "name": "ipython",
    "version": 3
   },
   "file_extension": ".py",
   "mimetype": "text/x-python",
   "name": "python",
   "nbconvert_exporter": "python",
   "pygments_lexer": "ipython3",
   "version": "3.6.8"
  }
 },
 "nbformat": 4,
 "nbformat_minor": 2
}
