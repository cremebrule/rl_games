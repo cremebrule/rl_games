{
 "cells": [
  {
   "cell_type": "code",
   "execution_count": 1,
   "metadata": {},
   "outputs": [
    {
     "name": "stdout",
     "output_type": "stream",
     "text": [
      "\n",
      "WARNING: The TensorFlow contrib module will not be included in TensorFlow 2.0.\n",
      "For more information, please see:\n",
      "  * https://github.com/tensorflow/community/blob/master/rfcs/20180907-contrib-sunset.md\n",
      "  * https://github.com/tensorflow/addons\n",
      "If you depend on functionality not listed there, please file an issue.\n",
      "\n"
     ]
    }
   ],
   "source": [
    "import math\n",
    "from tensorboardX import SummaryWriter\n",
    "import env_configurations\n",
    "sess = None"
   ]
  },
  {
   "cell_type": "code",
   "execution_count": 2,
   "metadata": {},
   "outputs": [],
   "source": [
    "import tensorflow as tf\n",
    "import collections\n",
    "gpu_options = tf.GPUOptions(allow_growth=True,per_process_gpu_memory_fraction=0.8)\n",
    "\n",
    "config=tf.ConfigProto(gpu_options=gpu_options)\n",
    "sess = tf.InteractiveSession(config=config)"
   ]
  },
  {
   "cell_type": "code",
   "execution_count": 3,
   "metadata": {},
   "outputs": [
    {
     "name": "stdout",
     "output_type": "stream",
     "text": [
      "Box(44,)\n",
      "Box(17,)\n"
     ]
    }
   ],
   "source": [
    "import gym\n",
    "import wrappers\n",
    "import games_configurations\n",
    "env_name = 'RoboschoolHumanoid-v1'#'RoboschoolHalfCheetah-v1'#'BipedalWalker-v2'#'Pendulum-v0'#'QuadruppedWalk-v1' #'QuadruppedWalk-v1' #$'BipedalWalker-v2'#'RoboschoolAnt-v1'\n",
    "#'BipedalWalker-v2'#'RoboschoolAnt-v1' #'LunarLanderContinuous-v2'#'BipedalWalker-v2'#'LunarLander-v2' \n",
    "#'MountainCarContinuous-v0'#'CarRacing-v0'#'CartPole-v1' #'RoboschoolAnt-v1' #'CarRacing-v0' #'LunarLander-v2' #'Acrobot-v1' #\n",
    "#a2c_config = games_configurations.pendulum_lstm_config\n",
    "#a2c_config = games_configurations.halfcheetah_lstm_config_v2\n",
    "#a2c_config = games_configurations.roboschoolant_config\n",
    "#a2c_config = a2c_games_configurations.pendulum_config\n",
    "a2c_config = games_configurations.roboschoolhumanoid_config\n",
    "#a2c_config = games_configurations.roboschoolhumanoid_config\n",
    "#a2c_config = games_configurations.bipedalwalker_lstm_config\n",
    "obs_space, action_space = env_configurations.get_obs_and_action_spaces(env_name)\n",
    "print(obs_space)\n",
    "print(action_space)\n"
   ]
  },
  {
   "cell_type": "code",
   "execution_count": null,
   "metadata": {},
   "outputs": [],
   "source": []
  },
  {
   "cell_type": "code",
   "execution_count": 4,
   "metadata": {},
   "outputs": [
    {
     "name": "stderr",
     "output_type": "stream",
     "text": [
      "2019-07-20 12:08:32,048\tINFO node.py:469 -- Process STDOUT and STDERR is being redirected to /tmp/ray/session_2019-07-20_12-08-32_6151/logs.\n",
      "2019-07-20 12:08:32,161\tINFO services.py:407 -- Waiting for redis server at 127.0.0.1:46458 to respond...\n",
      "2019-07-20 12:08:32,305\tINFO services.py:407 -- Waiting for redis server at 127.0.0.1:63056 to respond...\n",
      "2019-07-20 12:08:32,313\tINFO services.py:804 -- Starting Redis shard with 0.1 GB max memory.\n",
      "2019-07-20 12:08:32,341\tINFO node.py:483 -- Process STDOUT and STDERR is being redirected to /tmp/ray/session_2019-07-20_12-08-32_6151/logs.\n",
      "2019-07-20 12:08:32,343\tINFO services.py:1427 -- Starting the Plasma object store with 0.1 GB memory using /dev/shm.\n"
     ]
    },
    {
     "data": {
      "text/plain": [
       "{'node_ip_address': '192.168.3.106',\n",
       " 'redis_address': '192.168.3.106:46458',\n",
       " 'object_store_address': '/tmp/ray/session_2019-07-20_12-08-32_6151/sockets/plasma_store',\n",
       " 'raylet_socket_name': '/tmp/ray/session_2019-07-20_12-08-32_6151/sockets/raylet',\n",
       " 'webui_url': None}"
      ]
     },
     "execution_count": 4,
     "metadata": {},
     "output_type": "execute_result"
    }
   ],
   "source": [
    "import ray\n",
    "ray.init(redis_max_memory=1024*1024*100, object_store_memory=1024*1024*100)"
   ]
  },
  {
   "cell_type": "code",
   "execution_count": null,
   "metadata": {},
   "outputs": [
    {
     "name": "stdout",
     "output_type": "stream",
     "text": [
      "WARNING:tensorflow:From /home/trrrrr/anaconda3/envs/rl/lib/python3.6/site-packages/tensorflow/python/framework/op_def_library.py:263: colocate_with (from tensorflow.python.framework.ops) is deprecated and will be removed in a future version.\n",
      "Instructions for updating:\n",
      "Colocations handled automatically by placer.\n",
      "WARNING:tensorflow:From /home/trrrrr/Documents/github/ml/dqn_atari/networks.py:345: dense (from tensorflow.python.layers.core) is deprecated and will be removed in a future version.\n",
      "Instructions for updating:\n",
      "Use keras.layers.dense instead.\n"
     ]
    },
    {
     "name": "stderr",
     "output_type": "stream",
     "text": [
      "2019-07-20 12:08:33,624\tERROR worker.py:1672 -- WARNING: 24 workers have been started. This could be a result of using a large number of actors, or it could be a consequence of using nested tasks (see https://github.com/ray-project/ray/issues/3644) for some a discussion of workarounds.\n"
     ]
    },
    {
     "name": "stdout",
     "output_type": "stream",
     "text": [
      "WARNING:tensorflow:From /home/trrrrr/anaconda3/envs/rl/lib/python3.6/site-packages/tensorflow/python/ops/math_ops.py:3066: to_int32 (from tensorflow.python.ops.math_ops) is deprecated and will be removed in a future version.\n",
      "Instructions for updating:\n",
      "Use tf.cast instead.\n",
      "\u001b[2m\u001b[36m(pid=6373)\u001b[0m \n",
      "\u001b[2m\u001b[36m(pid=6373)\u001b[0m WARNING: The TensorFlow contrib module will not be included in TensorFlow 2.0.\n",
      "\u001b[2m\u001b[36m(pid=6373)\u001b[0m For more information, please see:\n",
      "\u001b[2m\u001b[36m(pid=6373)\u001b[0m   * https://github.com/tensorflow/community/blob/master/rfcs/20180907-contrib-sunset.md\n",
      "\u001b[2m\u001b[36m(pid=6373)\u001b[0m   * https://github.com/tensorflow/addons\n",
      "\u001b[2m\u001b[36m(pid=6373)\u001b[0m If you depend on functionality not listed there, please file an issue.\n",
      "\u001b[2m\u001b[36m(pid=6373)\u001b[0m \n",
      "\u001b[2m\u001b[36m(pid=6254)\u001b[0m \n",
      "\u001b[2m\u001b[36m(pid=6254)\u001b[0m WARNING: The TensorFlow contrib module will not be included in TensorFlow 2.0.\n",
      "\u001b[2m\u001b[36m(pid=6254)\u001b[0m For more information, please see:\n",
      "\u001b[2m\u001b[36m(pid=6254)\u001b[0m   * https://github.com/tensorflow/community/blob/master/rfcs/20180907-contrib-sunset.md\n",
      "\u001b[2m\u001b[36m(pid=6254)\u001b[0m   * https://github.com/tensorflow/addons\n",
      "\u001b[2m\u001b[36m(pid=6254)\u001b[0m If you depend on functionality not listed there, please file an issue.\n",
      "\u001b[2m\u001b[36m(pid=6254)\u001b[0m \n",
      "\u001b[2m\u001b[36m(pid=6359)\u001b[0m \n",
      "\u001b[2m\u001b[36m(pid=6359)\u001b[0m WARNING: The TensorFlow contrib module will not be included in TensorFlow 2.0.\n",
      "\u001b[2m\u001b[36m(pid=6359)\u001b[0m For more information, please see:\n",
      "\u001b[2m\u001b[36m(pid=6359)\u001b[0m   * https://github.com/tensorflow/community/blob/master/rfcs/20180907-contrib-sunset.md\n",
      "\u001b[2m\u001b[36m(pid=6359)\u001b[0m   * https://github.com/tensorflow/addons\n",
      "\u001b[2m\u001b[36m(pid=6359)\u001b[0m If you depend on functionality not listed there, please file an issue.\n",
      "\u001b[2m\u001b[36m(pid=6359)\u001b[0m \n",
      "\u001b[2m\u001b[36m(pid=6258)\u001b[0m \n",
      "\u001b[2m\u001b[36m(pid=6258)\u001b[0m WARNING: The TensorFlow contrib module will not be included in TensorFlow 2.0.\n",
      "\u001b[2m\u001b[36m(pid=6258)\u001b[0m For more information, please see:\n",
      "\u001b[2m\u001b[36m(pid=6258)\u001b[0m   * https://github.com/tensorflow/community/blob/master/rfcs/20180907-contrib-sunset.md\n",
      "\u001b[2m\u001b[36m(pid=6258)\u001b[0m   * https://github.com/tensorflow/addons\n",
      "\u001b[2m\u001b[36m(pid=6258)\u001b[0m If you depend on functionality not listed there, please file an issue.\n",
      "\u001b[2m\u001b[36m(pid=6258)\u001b[0m \n",
      "\u001b[2m\u001b[36m(pid=6361)\u001b[0m \n",
      "\u001b[2m\u001b[36m(pid=6361)\u001b[0m WARNING: The TensorFlow contrib module will not be included in TensorFlow 2.0.\n",
      "\u001b[2m\u001b[36m(pid=6361)\u001b[0m For more information, please see:\n",
      "\u001b[2m\u001b[36m(pid=6361)\u001b[0m   * https://github.com/tensorflow/community/blob/master/rfcs/20180907-contrib-sunset.md\n",
      "\u001b[2m\u001b[36m(pid=6361)\u001b[0m   * https://github.com/tensorflow/addons\n",
      "\u001b[2m\u001b[36m(pid=6361)\u001b[0m If you depend on functionality not listed there, please file an issue.\n",
      "\u001b[2m\u001b[36m(pid=6361)\u001b[0m \n",
      "\u001b[2m\u001b[36m(pid=6259)\u001b[0m \n",
      "\u001b[2m\u001b[36m(pid=6259)\u001b[0m WARNING: The TensorFlow contrib module will not be included in TensorFlow 2.0.\n",
      "\u001b[2m\u001b[36m(pid=6259)\u001b[0m For more information, please see:\n",
      "\u001b[2m\u001b[36m(pid=6259)\u001b[0m   * https://github.com/tensorflow/community/blob/master/rfcs/20180907-contrib-sunset.md\n",
      "\u001b[2m\u001b[36m(pid=6259)\u001b[0m   * https://github.com/tensorflow/addons\n",
      "\u001b[2m\u001b[36m(pid=6259)\u001b[0m If you depend on functionality not listed there, please file an issue.\n",
      "\u001b[2m\u001b[36m(pid=6259)\u001b[0m \n",
      "\u001b[2m\u001b[36m(pid=6252)\u001b[0m \n",
      "\u001b[2m\u001b[36m(pid=6252)\u001b[0m WARNING: The TensorFlow contrib module will not be included in TensorFlow 2.0.\n",
      "\u001b[2m\u001b[36m(pid=6252)\u001b[0m For more information, please see:\n",
      "\u001b[2m\u001b[36m(pid=6252)\u001b[0m   * https://github.com/tensorflow/community/blob/master/rfcs/20180907-contrib-sunset.md\n",
      "\u001b[2m\u001b[36m(pid=6252)\u001b[0m   * https://github.com/tensorflow/addons\n",
      "\u001b[2m\u001b[36m(pid=6252)\u001b[0m If you depend on functionality not listed there, please file an issue.\n",
      "\u001b[2m\u001b[36m(pid=6252)\u001b[0m \n",
      "\u001b[2m\u001b[36m(pid=6250)\u001b[0m \n",
      "\u001b[2m\u001b[36m(pid=6250)\u001b[0m WARNING: The TensorFlow contrib module will not be included in TensorFlow 2.0.\n",
      "\u001b[2m\u001b[36m(pid=6250)\u001b[0m For more information, please see:\n",
      "\u001b[2m\u001b[36m(pid=6250)\u001b[0m   * https://github.com/tensorflow/community/blob/master/rfcs/20180907-contrib-sunset.md\n",
      "\u001b[2m\u001b[36m(pid=6250)\u001b[0m   * https://github.com/tensorflow/addons\n",
      "\u001b[2m\u001b[36m(pid=6250)\u001b[0m If you depend on functionality not listed there, please file an issue.\n",
      "\u001b[2m\u001b[36m(pid=6250)\u001b[0m \n",
      "\u001b[2m\u001b[36m(pid=6253)\u001b[0m \n",
      "\u001b[2m\u001b[36m(pid=6253)\u001b[0m WARNING: The TensorFlow contrib module will not be included in TensorFlow 2.0.\n",
      "\u001b[2m\u001b[36m(pid=6253)\u001b[0m For more information, please see:\n",
      "\u001b[2m\u001b[36m(pid=6253)\u001b[0m   * https://github.com/tensorflow/community/blob/master/rfcs/20180907-contrib-sunset.md\n",
      "\u001b[2m\u001b[36m(pid=6253)\u001b[0m   * https://github.com/tensorflow/addons\n",
      "\u001b[2m\u001b[36m(pid=6253)\u001b[0m If you depend on functionality not listed there, please file an issue.\n",
      "\u001b[2m\u001b[36m(pid=6253)\u001b[0m \n",
      "\u001b[2m\u001b[36m(pid=6369)\u001b[0m \n",
      "\u001b[2m\u001b[36m(pid=6369)\u001b[0m WARNING: The TensorFlow contrib module will not be included in TensorFlow 2.0.\n",
      "\u001b[2m\u001b[36m(pid=6369)\u001b[0m For more information, please see:\n",
      "\u001b[2m\u001b[36m(pid=6369)\u001b[0m   * https://github.com/tensorflow/community/blob/master/rfcs/20180907-contrib-sunset.md\n",
      "\u001b[2m\u001b[36m(pid=6369)\u001b[0m   * https://github.com/tensorflow/addons\n",
      "\u001b[2m\u001b[36m(pid=6369)\u001b[0m If you depend on functionality not listed there, please file an issue.\n",
      "\u001b[2m\u001b[36m(pid=6369)\u001b[0m \n",
      "\u001b[2m\u001b[36m(pid=6255)\u001b[0m \n",
      "\u001b[2m\u001b[36m(pid=6255)\u001b[0m WARNING: The TensorFlow contrib module will not be included in TensorFlow 2.0.\n",
      "\u001b[2m\u001b[36m(pid=6255)\u001b[0m For more information, please see:\n",
      "\u001b[2m\u001b[36m(pid=6255)\u001b[0m   * https://github.com/tensorflow/community/blob/master/rfcs/20180907-contrib-sunset.md\n",
      "\u001b[2m\u001b[36m(pid=6255)\u001b[0m   * https://github.com/tensorflow/addons\n",
      "\u001b[2m\u001b[36m(pid=6255)\u001b[0m If you depend on functionality not listed there, please file an issue.\n",
      "\u001b[2m\u001b[36m(pid=6255)\u001b[0m \n",
      "\u001b[2m\u001b[36m(pid=6355)\u001b[0m \n",
      "\u001b[2m\u001b[36m(pid=6355)\u001b[0m WARNING: The TensorFlow contrib module will not be included in TensorFlow 2.0.\n",
      "\u001b[2m\u001b[36m(pid=6355)\u001b[0m For more information, please see:\n",
      "\u001b[2m\u001b[36m(pid=6355)\u001b[0m   * https://github.com/tensorflow/community/blob/master/rfcs/20180907-contrib-sunset.md\n",
      "\u001b[2m\u001b[36m(pid=6355)\u001b[0m   * https://github.com/tensorflow/addons\n",
      "\u001b[2m\u001b[36m(pid=6355)\u001b[0m If you depend on functionality not listed there, please file an issue.\n",
      "\u001b[2m\u001b[36m(pid=6355)\u001b[0m \n",
      "\u001b[2m\u001b[36m(pid=6390)\u001b[0m \n",
      "\u001b[2m\u001b[36m(pid=6390)\u001b[0m WARNING: The TensorFlow contrib module will not be included in TensorFlow 2.0.\n",
      "\u001b[2m\u001b[36m(pid=6390)\u001b[0m For more information, please see:\n",
      "\u001b[2m\u001b[36m(pid=6390)\u001b[0m   * https://github.com/tensorflow/community/blob/master/rfcs/20180907-contrib-sunset.md\n",
      "\u001b[2m\u001b[36m(pid=6390)\u001b[0m   * https://github.com/tensorflow/addons\n",
      "\u001b[2m\u001b[36m(pid=6390)\u001b[0m If you depend on functionality not listed there, please file an issue.\n",
      "\u001b[2m\u001b[36m(pid=6390)\u001b[0m \n",
      "\u001b[2m\u001b[36m(pid=6257)\u001b[0m \n",
      "\u001b[2m\u001b[36m(pid=6257)\u001b[0m WARNING: The TensorFlow contrib module will not be included in TensorFlow 2.0.\n",
      "\u001b[2m\u001b[36m(pid=6257)\u001b[0m For more information, please see:\n",
      "\u001b[2m\u001b[36m(pid=6257)\u001b[0m   * https://github.com/tensorflow/community/blob/master/rfcs/20180907-contrib-sunset.md\n",
      "\u001b[2m\u001b[36m(pid=6257)\u001b[0m   * https://github.com/tensorflow/addons\n",
      "\u001b[2m\u001b[36m(pid=6257)\u001b[0m If you depend on functionality not listed there, please file an issue.\n",
      "\u001b[2m\u001b[36m(pid=6257)\u001b[0m \n",
      "\u001b[2m\u001b[36m(pid=6364)\u001b[0m \n",
      "\u001b[2m\u001b[36m(pid=6364)\u001b[0m WARNING: The TensorFlow contrib module will not be included in TensorFlow 2.0.\n",
      "\u001b[2m\u001b[36m(pid=6364)\u001b[0m For more information, please see:\n",
      "\u001b[2m\u001b[36m(pid=6364)\u001b[0m   * https://github.com/tensorflow/community/blob/master/rfcs/20180907-contrib-sunset.md\n",
      "\u001b[2m\u001b[36m(pid=6364)\u001b[0m   * https://github.com/tensorflow/addons\n",
      "\u001b[2m\u001b[36m(pid=6364)\u001b[0m If you depend on functionality not listed there, please file an issue.\n",
      "\u001b[2m\u001b[36m(pid=6364)\u001b[0m \n",
      "\u001b[2m\u001b[36m(pid=6367)\u001b[0m \n",
      "\u001b[2m\u001b[36m(pid=6367)\u001b[0m WARNING: The TensorFlow contrib module will not be included in TensorFlow 2.0.\n",
      "\u001b[2m\u001b[36m(pid=6367)\u001b[0m For more information, please see:\n",
      "\u001b[2m\u001b[36m(pid=6367)\u001b[0m   * https://github.com/tensorflow/community/blob/master/rfcs/20180907-contrib-sunset.md\n",
      "\u001b[2m\u001b[36m(pid=6367)\u001b[0m   * https://github.com/tensorflow/addons\n",
      "\u001b[2m\u001b[36m(pid=6367)\u001b[0m If you depend on functionality not listed there, please file an issue.\n",
      "\u001b[2m\u001b[36m(pid=6367)\u001b[0m \n",
      "Frames per seconds:  1829.5037719692543\n",
      "saving next best rewards:  -51.379453116465186\n",
      "Frames per seconds:  2014.7709381504003\n",
      "Frames per seconds:  1909.2994911311364\n",
      "Frames per seconds:  2062.5224197774114\n",
      "saving next best rewards:  -50.25663761513292\n"
     ]
    },
    {
     "name": "stdout",
     "output_type": "stream",
     "text": [
      "Frames per seconds:  2065.7802322565503\n",
      "Frames per seconds:  1894.4485490652125\n",
      "saving next best rewards:  -49.8999139539424\n",
      "Frames per seconds:  1929.0840816451193\n",
      "saving next best rewards:  -46.74398860820598\n",
      "Frames per seconds:  1836.5872980527001\n",
      "Frames per seconds:  1964.0598528361504\n",
      "saving next best rewards:  -45.07905078670874\n",
      "Frames per seconds:  2030.0560696775376\n",
      "saving next best rewards:  -44.086628330050196\n",
      "Frames per seconds:  2043.9314385460802\n",
      "saving next best rewards:  -41.42284763843955\n",
      "Frames per seconds:  1908.8404188369984\n",
      "saving next best rewards:  -37.5636287250092\n",
      "Frames per seconds:  2018.857208127196\n",
      "saving next best rewards:  -35.53850263235926\n",
      "Frames per seconds:  2047.3646990881293\n",
      "saving next best rewards:  -34.784960091089495\n",
      "Frames per seconds:  1974.1443930999567\n",
      "saving next best rewards:  -30.987578269729728\n",
      "Frames per seconds:  2055.4023916308356\n",
      "saving next best rewards:  -30.94003818499301\n",
      "Frames per seconds:  2052.34464648154\n",
      "saving next best rewards:  -29.445126044949035\n",
      "Frames per seconds:  1997.28227847233\n",
      "saving next best rewards:  -27.756987377412514\n",
      "Frames per seconds:  2059.590618361426\n",
      "saving next best rewards:  -24.860965108927193\n",
      "Frames per seconds:  2039.0669671247203\n",
      "Frames per seconds:  1921.7889893181055\n",
      "saving next best rewards:  -21.71907285291439\n",
      "Frames per seconds:  2037.7850915076854\n",
      "saving next best rewards:  -19.540414778821024\n",
      "Frames per seconds:  2080.803770958686\n",
      "saving next best rewards:  -17.279266523735412\n",
      "Frames per seconds:  2030.407556482811\n",
      "saving next best rewards:  -15.150508930909462\n",
      "Frames per seconds:  2038.8424015040553\n",
      "saving next best rewards:  -11.658160469603118\n",
      "Frames per seconds:  2046.7934358667897\n",
      "Frames per seconds:  2005.133458987764\n",
      "saving next best rewards:  -9.54417146229239\n",
      "Frames per seconds:  2057.862698546932\n",
      "saving next best rewards:  -8.042064281348127\n",
      "Frames per seconds:  2065.5683703527366\n",
      "saving next best rewards:  -5.572082563097926\n",
      "Frames per seconds:  1955.6146298845917\n",
      "Frames per seconds:  2044.3714306079958\n",
      "saving next best rewards:  -2.7053411420569473\n",
      "Frames per seconds:  2032.5168717931124\n",
      "Frames per seconds:  2018.357463227256\n",
      "Frames per seconds:  2050.6582309727187\n",
      "saving next best rewards:  -2.3047854686103983\n",
      "Frames per seconds:  2000.8514962069135\n",
      "saving next best rewards:  -0.2281041857823014\n",
      "Frames per seconds:  1767.6795730208476\n",
      "saving next best rewards:  0.3045248280113868\n",
      "Frames per seconds:  1999.921909788633\n",
      "Frames per seconds:  2057.1040118264027\n",
      "saving next best rewards:  1.094765784539034\n",
      "Frames per seconds:  2001.0735974382335\n",
      "Frames per seconds:  2015.8047315685637\n",
      "Frames per seconds:  2042.6065265461211\n",
      "Frames per seconds:  1987.5515831986982\n",
      "saving next best rewards:  1.4865307283173883\n",
      "Frames per seconds:  2038.983233211136\n",
      "Frames per seconds:  2048.9496589033383\n",
      "saving next best rewards:  2.1880349356736097\n",
      "Frames per seconds:  1983.3282769236844\n",
      "saving next best rewards:  3.3304379282429992\n",
      "Frames per seconds:  2041.0078407136882\n",
      "Frames per seconds:  1998.0209421635986\n",
      "Frames per seconds:  1871.9407546942432\n",
      "saving next best rewards:  3.4768026600354047\n",
      "Frames per seconds:  2008.6453295775977\n",
      "Frames per seconds:  1939.389352310143\n",
      "Frames per seconds:  1766.7008681169355\n",
      "Frames per seconds:  1787.3814676677605\n",
      "Frames per seconds:  1766.6601728214025\n",
      "saving next best rewards:  5.390905184703879\n",
      "Frames per seconds:  1640.811669678983\n",
      "Frames per seconds:  1656.8050830164034\n",
      "Frames per seconds:  1833.0791775664397\n",
      "saving next best rewards:  7.178552951085132\n",
      "Frames per seconds:  1785.0329339006\n",
      "Frames per seconds:  1703.7498733334635\n",
      "Frames per seconds:  1814.8950547430604\n",
      "Frames per seconds:  1737.983460907821\n",
      "Frames per seconds:  1895.5762544937527\n",
      "Frames per seconds:  1740.40154996196\n",
      "saving next best rewards:  8.392239800088092\n",
      "Frames per seconds:  1628.677260733591\n",
      "saving next best rewards:  8.737742361292838\n",
      "Frames per seconds:  1539.9002287638702\n",
      "Frames per seconds:  1793.2376247917093\n",
      "Frames per seconds:  1687.5396529653383\n",
      "Frames per seconds:  1898.3308135138757\n",
      "Frames per seconds:  1939.6148789690292\n",
      "saving next best rewards:  9.194517206118732\n",
      "Frames per seconds:  1874.4216507605104\n",
      "Frames per seconds:  1893.772569630844\n",
      "saving next best rewards:  10.377588420463141\n",
      "Frames per seconds:  1794.1314728250193\n",
      "Frames per seconds:  1894.8342634966884\n",
      "Frames per seconds:  1959.9853266942794\n",
      "saving next best rewards:  11.400773950828729\n",
      "Frames per seconds:  2016.040101431763\n",
      "Frames per seconds:  1947.2869692639154\n",
      "Frames per seconds:  1913.9322387072682\n",
      "Frames per seconds:  1877.7145159257743\n",
      "saving next best rewards:  11.732543383023524\n",
      "Frames per seconds:  1820.4587192477359\n",
      "Frames per seconds:  1961.4391803085534\n",
      "Frames per seconds:  1706.6435414374816\n",
      "Frames per seconds:  1609.5832566089682\n",
      "saving next best rewards:  12.289740861932964\n",
      "Frames per seconds:  1762.9687125058442\n",
      "Frames per seconds:  1835.3931648284283\n",
      "Frames per seconds:  1906.3420960268888\n"
     ]
    }
   ],
   "source": [
    "from a2c_continuous import A2CAgent\n",
    "import tr_helpers\n",
    "import networks\n",
    "\n",
    "\n",
    "\n",
    "agent = A2CAgent(sess,'run', obs_space, False, action_space, a2c_config)\n",
    "#agent.restore('nn/latest_run')\n",
    "agent.train()\n",
    "#agent.save('nn/latest')"
   ]
  },
  {
   "cell_type": "code",
   "execution_count": null,
   "metadata": {},
   "outputs": [],
   "source": [
    "agent.save('nn/latest_run')\n",
    "ray.shutdown()"
   ]
  },
  {
   "cell_type": "code",
   "execution_count": null,
   "metadata": {},
   "outputs": [],
   "source": []
  },
  {
   "cell_type": "code",
   "execution_count": null,
   "metadata": {},
   "outputs": [],
   "source": [
    "\n"
   ]
  },
  {
   "cell_type": "code",
   "execution_count": null,
   "metadata": {
    "scrolled": true
   },
   "outputs": [],
   "source": []
  },
  {
   "cell_type": "code",
   "execution_count": null,
   "metadata": {},
   "outputs": [],
   "source": [
    "import gym\n",
    "gym.envs.registry.all()"
   ]
  },
  {
   "cell_type": "code",
   "execution_count": null,
   "metadata": {},
   "outputs": [],
   "source": []
  },
  {
   "cell_type": "code",
   "execution_count": null,
   "metadata": {},
   "outputs": [],
   "source": []
  }
 ],
 "metadata": {
  "kernelspec": {
   "display_name": "Python 3",
   "language": "python",
   "name": "python3"
  },
  "language_info": {
   "codemirror_mode": {
    "name": "ipython",
    "version": 3
   },
   "file_extension": ".py",
   "mimetype": "text/x-python",
   "name": "python",
   "nbconvert_exporter": "python",
   "pygments_lexer": "ipython3",
   "version": "3.6.8"
  }
 },
 "nbformat": 4,
 "nbformat_minor": 2
}
