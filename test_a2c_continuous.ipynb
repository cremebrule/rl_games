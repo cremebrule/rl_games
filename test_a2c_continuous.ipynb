{
 "cells": [
  {
   "cell_type": "code",
   "execution_count": 1,
   "metadata": {},
   "outputs": [
    {
     "name": "stderr",
     "output_type": "stream",
     "text": [
      "/home/trrrrr/anaconda3/envs/tf14/lib/python3.6/site-packages/tensorflow/python/framework/dtypes.py:516: FutureWarning: Passing (type, 1) or '1type' as a synonym of type is deprecated; in a future version of numpy, it will be understood as (type, (1,)) / '(1,)type'.\n",
      "  _np_qint8 = np.dtype([(\"qint8\", np.int8, 1)])\n",
      "/home/trrrrr/anaconda3/envs/tf14/lib/python3.6/site-packages/tensorflow/python/framework/dtypes.py:517: FutureWarning: Passing (type, 1) or '1type' as a synonym of type is deprecated; in a future version of numpy, it will be understood as (type, (1,)) / '(1,)type'.\n",
      "  _np_quint8 = np.dtype([(\"quint8\", np.uint8, 1)])\n",
      "/home/trrrrr/anaconda3/envs/tf14/lib/python3.6/site-packages/tensorflow/python/framework/dtypes.py:518: FutureWarning: Passing (type, 1) or '1type' as a synonym of type is deprecated; in a future version of numpy, it will be understood as (type, (1,)) / '(1,)type'.\n",
      "  _np_qint16 = np.dtype([(\"qint16\", np.int16, 1)])\n",
      "/home/trrrrr/anaconda3/envs/tf14/lib/python3.6/site-packages/tensorflow/python/framework/dtypes.py:519: FutureWarning: Passing (type, 1) or '1type' as a synonym of type is deprecated; in a future version of numpy, it will be understood as (type, (1,)) / '(1,)type'.\n",
      "  _np_quint16 = np.dtype([(\"quint16\", np.uint16, 1)])\n",
      "/home/trrrrr/anaconda3/envs/tf14/lib/python3.6/site-packages/tensorflow/python/framework/dtypes.py:520: FutureWarning: Passing (type, 1) or '1type' as a synonym of type is deprecated; in a future version of numpy, it will be understood as (type, (1,)) / '(1,)type'.\n",
      "  _np_qint32 = np.dtype([(\"qint32\", np.int32, 1)])\n",
      "/home/trrrrr/anaconda3/envs/tf14/lib/python3.6/site-packages/tensorflow/python/framework/dtypes.py:525: FutureWarning: Passing (type, 1) or '1type' as a synonym of type is deprecated; in a future version of numpy, it will be understood as (type, (1,)) / '(1,)type'.\n",
      "  np_resource = np.dtype([(\"resource\", np.ubyte, 1)])\n",
      "/home/trrrrr/anaconda3/envs/tf14/lib/python3.6/site-packages/tensorboard/compat/tensorflow_stub/dtypes.py:541: FutureWarning: Passing (type, 1) or '1type' as a synonym of type is deprecated; in a future version of numpy, it will be understood as (type, (1,)) / '(1,)type'.\n",
      "  _np_qint8 = np.dtype([(\"qint8\", np.int8, 1)])\n",
      "/home/trrrrr/anaconda3/envs/tf14/lib/python3.6/site-packages/tensorboard/compat/tensorflow_stub/dtypes.py:542: FutureWarning: Passing (type, 1) or '1type' as a synonym of type is deprecated; in a future version of numpy, it will be understood as (type, (1,)) / '(1,)type'.\n",
      "  _np_quint8 = np.dtype([(\"quint8\", np.uint8, 1)])\n",
      "/home/trrrrr/anaconda3/envs/tf14/lib/python3.6/site-packages/tensorboard/compat/tensorflow_stub/dtypes.py:543: FutureWarning: Passing (type, 1) or '1type' as a synonym of type is deprecated; in a future version of numpy, it will be understood as (type, (1,)) / '(1,)type'.\n",
      "  _np_qint16 = np.dtype([(\"qint16\", np.int16, 1)])\n",
      "/home/trrrrr/anaconda3/envs/tf14/lib/python3.6/site-packages/tensorboard/compat/tensorflow_stub/dtypes.py:544: FutureWarning: Passing (type, 1) or '1type' as a synonym of type is deprecated; in a future version of numpy, it will be understood as (type, (1,)) / '(1,)type'.\n",
      "  _np_quint16 = np.dtype([(\"quint16\", np.uint16, 1)])\n",
      "/home/trrrrr/anaconda3/envs/tf14/lib/python3.6/site-packages/tensorboard/compat/tensorflow_stub/dtypes.py:545: FutureWarning: Passing (type, 1) or '1type' as a synonym of type is deprecated; in a future version of numpy, it will be understood as (type, (1,)) / '(1,)type'.\n",
      "  _np_qint32 = np.dtype([(\"qint32\", np.int32, 1)])\n",
      "/home/trrrrr/anaconda3/envs/tf14/lib/python3.6/site-packages/tensorboard/compat/tensorflow_stub/dtypes.py:550: FutureWarning: Passing (type, 1) or '1type' as a synonym of type is deprecated; in a future version of numpy, it will be understood as (type, (1,)) / '(1,)type'.\n",
      "  np_resource = np.dtype([(\"resource\", np.ubyte, 1)])\n"
     ]
    }
   ],
   "source": [
    "import math\n",
    "from tensorboardX import SummaryWriter\n",
    "import env_configurations\n",
    "sess = None"
   ]
  },
  {
   "cell_type": "code",
   "execution_count": 2,
   "metadata": {},
   "outputs": [],
   "source": [
    "import tensorflow as tf\n",
    "import collections\n",
    "from a2c_continuous import A2CAgent\n",
    "import tr_helpers\n",
    "import networks\n",
    "\n",
    "gpu_options = tf.GPUOptions(allow_growth=True,per_process_gpu_memory_fraction=0.8)\n",
    "\n",
    "config=tf.ConfigProto(gpu_options=gpu_options)\n",
    "sess = tf.InteractiveSession(config=config)"
   ]
  },
  {
   "cell_type": "code",
   "execution_count": 3,
   "metadata": {},
   "outputs": [
    {
     "name": "stderr",
     "output_type": "stream",
     "text": [
      "WARNING:root:Failed to import geometry msgs in rigid_transformations.py.\n",
      "WARNING:root:Failed to import ros dependencies in rigid_transforms.py\n",
      "WARNING:root:autolab_core not installed as catkin package, RigidTransform ros methods will be unavailable\n"
     ]
    },
    {
     "name": "stdout",
     "output_type": "stream",
     "text": [
      "Box(76,)\n",
      "Box(21,)\n",
      "[-1. -1. -1. -1. -1. -1. -1. -1. -1. -1. -1. -1. -1. -1. -1. -1. -1. -1.\n",
      " -1. -1. -1.]\n",
      "[1. 1. 1. 1. 1. 1. 1. 1. 1. 1. 1. 1. 1. 1. 1. 1. 1. 1. 1. 1. 1.]\n"
     ]
    }
   ],
   "source": [
    "import gym\n",
    "import wrappers\n",
    "import games_configurations\n",
    "a2c_config = games_configurations.flexhum_config\n",
    "env_name = a2c_config['ENV_NAME']#'RoboschoolHalfCheetah-v1'#'BipedalWalker-v2'#'Pendulum-v0'#'QuadruppedWalk-v1' #'QuadruppedWalk-v1' #$'BipedalWalker-v2'#'RoboschoolAnt-v1'\n",
    "#'BipedalWalker-v2'#'RoboschoolAnt-v1' #'LunarLanderContinuous-v2'#'BipedalWalker-v2'#'LunarLander-v2' \n",
    "#'MountainCarContinuous-v0'#'CarRacing-v0'#'CartPole-v1' #'RoboschoolAnt-v1' #'CarRacing-v0' #'LunarLander-v2' #'Acrobot-v1' #\n",
    "#a2c_config = games_configurations.pendulum_lstm_config\n",
    "#a2c_config = games_configurations.halfcheetah_lstm_config_v2\n",
    "#a2c_config = games_configurations.roboschoolant_config\n",
    "#a2c_config = a2c_games_configurations.pendulum_config\n",
    "#a2c_config = games_configurations.bipedalwalker_config\n",
    "#a2c_config = games_configurations.roboschoolhumanoid_lstm_config\n",
    "\n",
    "obs_space, action_space = env_configurations.get_obs_and_action_spaces(env_name)\n",
    "print(obs_space)\n",
    "print(action_space)\n",
    "print(action_space.low)\n",
    "print(action_space.high)\n"
   ]
  },
  {
   "cell_type": "code",
   "execution_count": null,
   "metadata": {},
   "outputs": [],
   "source": []
  },
  {
   "cell_type": "code",
   "execution_count": 4,
   "metadata": {},
   "outputs": [
    {
     "name": "stderr",
     "output_type": "stream",
     "text": [
      "2019-11-15 09:38:18,240\tINFO node.py:469 -- Process STDOUT and STDERR is being redirected to /tmp/ray/session_2019-11-15_09-38-18_29789/logs.\n",
      "2019-11-15 09:38:18,363\tINFO services.py:407 -- Waiting for redis server at 127.0.0.1:54079 to respond...\n",
      "2019-11-15 09:38:18,480\tINFO services.py:407 -- Waiting for redis server at 127.0.0.1:60790 to respond...\n",
      "2019-11-15 09:38:18,482\tINFO services.py:804 -- Starting Redis shard with 0.1 GB max memory.\n",
      "2019-11-15 09:38:18,509\tINFO node.py:483 -- Process STDOUT and STDERR is being redirected to /tmp/ray/session_2019-11-15_09-38-18_29789/logs.\n",
      "2019-11-15 09:38:18,511\tINFO services.py:1427 -- Starting the Plasma object store with 0.1 GB memory using /dev/shm.\n"
     ]
    },
    {
     "data": {
      "text/plain": [
       "{'node_ip_address': '192.168.3.117',\n",
       " 'redis_address': '192.168.3.117:54079',\n",
       " 'object_store_address': '/tmp/ray/session_2019-11-15_09-38-18_29789/sockets/plasma_store',\n",
       " 'raylet_socket_name': '/tmp/ray/session_2019-11-15_09-38-18_29789/sockets/raylet',\n",
       " 'webui_url': None}"
      ]
     },
     "execution_count": 4,
     "metadata": {},
     "output_type": "execute_result"
    }
   ],
   "source": [
    "import ray\n",
    "ray.init(redis_max_memory=1024*1024*100, object_store_memory=1024*1024*100)"
   ]
  },
  {
   "cell_type": "code",
   "execution_count": null,
   "metadata": {
    "scrolled": true
   },
   "outputs": [
    {
     "name": "stdout",
     "output_type": "stream",
     "text": [
      "WARNING:tensorflow:From /home/trrrrr/Documents/github/rl_games/a2c_continuous.py:81: The name tf.placeholder is deprecated. Please use tf.compat.v1.placeholder instead.\n",
      "\n"
     ]
    },
    {
     "name": "stderr",
     "output_type": "stream",
     "text": [
      "WARNING:tensorflow:From /home/trrrrr/Documents/github/rl_games/a2c_continuous.py:81: The name tf.placeholder is deprecated. Please use tf.compat.v1.placeholder instead.\n",
      "\n"
     ]
    },
    {
     "name": "stdout",
     "output_type": "stream",
     "text": [
      "WARNING:tensorflow:From /home/trrrrr/Documents/github/rl_games/networks.py:371: The name tf.variable_scope is deprecated. Please use tf.compat.v1.variable_scope instead.\n",
      "\n"
     ]
    },
    {
     "name": "stderr",
     "output_type": "stream",
     "text": [
      "WARNING:tensorflow:From /home/trrrrr/Documents/github/rl_games/networks.py:371: The name tf.variable_scope is deprecated. Please use tf.compat.v1.variable_scope instead.\n",
      "\n"
     ]
    },
    {
     "name": "stdout",
     "output_type": "stream",
     "text": [
      "WARNING:tensorflow:From /home/trrrrr/Documents/github/rl_games/networks.py:376: dense (from tensorflow.python.layers.core) is deprecated and will be removed in a future version.\n",
      "Instructions for updating:\n",
      "Use keras.layers.dense instead.\n"
     ]
    },
    {
     "name": "stderr",
     "output_type": "stream",
     "text": [
      "WARNING:tensorflow:From /home/trrrrr/Documents/github/rl_games/networks.py:376: dense (from tensorflow.python.layers.core) is deprecated and will be removed in a future version.\n",
      "Instructions for updating:\n",
      "Use keras.layers.dense instead.\n"
     ]
    },
    {
     "name": "stdout",
     "output_type": "stream",
     "text": [
      "WARNING:tensorflow:From /home/trrrrr/anaconda3/envs/tf14/lib/python3.6/site-packages/tensorflow/python/ops/init_ops.py:1251: calling VarianceScaling.__init__ (from tensorflow.python.ops.init_ops) with dtype is deprecated and will be removed in a future version.\n",
      "Instructions for updating:\n",
      "Call initializer instance with the dtype argument instead of passing it to the constructor\n"
     ]
    },
    {
     "name": "stderr",
     "output_type": "stream",
     "text": [
      "WARNING:tensorflow:From /home/trrrrr/anaconda3/envs/tf14/lib/python3.6/site-packages/tensorflow/python/ops/init_ops.py:1251: calling VarianceScaling.__init__ (from tensorflow.python.ops.init_ops) with dtype is deprecated and will be removed in a future version.\n",
      "Instructions for updating:\n",
      "Call initializer instance with the dtype argument instead of passing it to the constructor\n"
     ]
    },
    {
     "name": "stdout",
     "output_type": "stream",
     "text": [
      "WARNING:tensorflow:From /home/trrrrr/Documents/github/rl_games/networks.py:389: The name tf.get_variable is deprecated. Please use tf.compat.v1.get_variable instead.\n",
      "\n"
     ]
    },
    {
     "name": "stderr",
     "output_type": "stream",
     "text": [
      "WARNING:tensorflow:From /home/trrrrr/Documents/github/rl_games/networks.py:389: The name tf.get_variable is deprecated. Please use tf.compat.v1.get_variable instead.\n",
      "\n"
     ]
    },
    {
     "name": "stdout",
     "output_type": "stream",
     "text": [
      "WARNING:tensorflow:From /home/trrrrr/Documents/github/rl_games/models.py:80: The name tf.random_normal is deprecated. Please use tf.random.normal instead.\n",
      "\n"
     ]
    },
    {
     "name": "stderr",
     "output_type": "stream",
     "text": [
      "WARNING:tensorflow:From /home/trrrrr/Documents/github/rl_games/models.py:80: The name tf.random_normal is deprecated. Please use tf.random.normal instead.\n",
      "\n"
     ]
    },
    {
     "name": "stdout",
     "output_type": "stream",
     "text": [
      "WARNING:tensorflow:From /home/trrrrr/Documents/github/rl_games/models.py:95: to_float (from tensorflow.python.ops.math_ops) is deprecated and will be removed in a future version.\n",
      "Instructions for updating:\n",
      "Use `tf.cast` instead.\n"
     ]
    },
    {
     "name": "stderr",
     "output_type": "stream",
     "text": [
      "WARNING:tensorflow:From /home/trrrrr/Documents/github/rl_games/models.py:95: to_float (from tensorflow.python.ops.math_ops) is deprecated and will be removed in a future version.\n",
      "Instructions for updating:\n",
      "Use `tf.cast` instead.\n"
     ]
    },
    {
     "name": "stdout",
     "output_type": "stream",
     "text": [
      "WARNING:tensorflow:From /home/trrrrr/Documents/github/rl_games/a2c_continuous.py:38: The name tf.log is deprecated. Please use tf.math.log instead.\n",
      "\n"
     ]
    },
    {
     "name": "stderr",
     "output_type": "stream",
     "text": [
      "WARNING:tensorflow:From /home/trrrrr/Documents/github/rl_games/a2c_continuous.py:38: The name tf.log is deprecated. Please use tf.math.log instead.\n",
      "\n"
     ]
    },
    {
     "name": "stdout",
     "output_type": "stream",
     "text": [
      "WARNING:tensorflow:From /home/trrrrr/Documents/github/rl_games/a2c_continuous.py:161: add_dispatch_support.<locals>.wrapper (from tensorflow.python.ops.array_ops) is deprecated and will be removed in a future version.\n",
      "Instructions for updating:\n",
      "Use tf.where in 2.0, which has the same broadcast rule as np.where\n"
     ]
    },
    {
     "name": "stderr",
     "output_type": "stream",
     "text": [
      "WARNING:tensorflow:From /home/trrrrr/Documents/github/rl_games/a2c_continuous.py:161: add_dispatch_support.<locals>.wrapper (from tensorflow.python.ops.array_ops) is deprecated and will be removed in a future version.\n",
      "Instructions for updating:\n",
      "Use tf.where in 2.0, which has the same broadcast rule as np.where\n"
     ]
    },
    {
     "name": "stdout",
     "output_type": "stream",
     "text": [
      "WARNING:tensorflow:From /home/trrrrr/Documents/github/rl_games/a2c_continuous.py:164: The name tf.train.AdamOptimizer is deprecated. Please use tf.compat.v1.train.AdamOptimizer instead.\n",
      "\n"
     ]
    },
    {
     "name": "stderr",
     "output_type": "stream",
     "text": [
      "WARNING:tensorflow:From /home/trrrrr/Documents/github/rl_games/a2c_continuous.py:164: The name tf.train.AdamOptimizer is deprecated. Please use tf.compat.v1.train.AdamOptimizer instead.\n",
      "\n"
     ]
    },
    {
     "name": "stdout",
     "output_type": "stream",
     "text": [
      "WARNING:tensorflow:From /home/trrrrr/Documents/github/rl_games/a2c_continuous.py:172: The name tf.train.Saver is deprecated. Please use tf.compat.v1.train.Saver instead.\n",
      "\n"
     ]
    },
    {
     "name": "stderr",
     "output_type": "stream",
     "text": [
      "WARNING:tensorflow:From /home/trrrrr/Documents/github/rl_games/a2c_continuous.py:172: The name tf.train.Saver is deprecated. Please use tf.compat.v1.train.Saver instead.\n",
      "\n"
     ]
    },
    {
     "name": "stdout",
     "output_type": "stream",
     "text": [
      "Frames per seconds:  9081.02117680002\n",
      "saving next best rewards:  -84.18390736103058\n",
      "Frames per seconds:  9437.731303738707\n",
      "Frames per seconds:  9096.513155793336\n",
      "Frames per seconds:  9448.92515746667\n",
      "Frames per seconds:  9847.257334315535\n",
      "Frames per seconds:  9834.413200195659\n",
      "saving next best rewards:  -83.79833020826801\n",
      "Frames per seconds:  9940.827861725676\n",
      "saving next best rewards:  -82.05066165324301\n",
      "Frames per seconds:  9977.784557199044\n",
      "saving next best rewards:  -81.43981366977096\n",
      "Frames per seconds:  9786.682204519646\n",
      "Frames per seconds:  9728.808355739588\n",
      "saving next best rewards:  -79.13140670724214\n",
      "Frames per seconds:  10180.193800100698\n",
      "Frames per seconds:  10210.494503422518\n",
      "Frames per seconds:  10520.094054827146\n",
      "saving next best rewards:  -77.55088377576321\n",
      "Frames per seconds:  10336.552209537587\n",
      "saving next best rewards:  -76.49119198840111\n",
      "Frames per seconds:  10592.78452559972\n",
      "Frames per seconds:  10538.658320738195\n",
      "saving next best rewards:  -75.28271017488092\n",
      "Frames per seconds:  10742.850093578565\n",
      "saving next best rewards:  -75.06486370553263\n",
      "Frames per seconds:  10671.802495608836\n",
      "Frames per seconds:  10991.4310707506\n",
      "saving next best rewards:  -70.69646744834259\n",
      "Frames per seconds:  10794.616636567725\n",
      "saving next best rewards:  -65.8467462413013\n",
      "Frames per seconds:  10881.109238095667\n",
      "Frames per seconds:  10971.79419315127\n",
      "saving next best rewards:  -64.84198555923999\n",
      "Frames per seconds:  11207.417947645532\n",
      "Frames per seconds:  11043.533780300946\n",
      "saving next best rewards:  -63.25551850184798\n",
      "Frames per seconds:  11238.56839402505\n",
      "Frames per seconds:  11202.225258789553\n",
      "saving next best rewards:  -59.17850677859038\n",
      "Frames per seconds:  11376.981475427925\n",
      "Frames per seconds:  10569.570162823684\n",
      "saving next best rewards:  -55.67794999472797\n",
      "Frames per seconds:  10965.622700320311\n",
      "Frames per seconds:  11083.920650007864\n",
      "saving next best rewards:  -50.62222048386931\n",
      "Frames per seconds:  11227.882864775607\n",
      "Frames per seconds:  11246.449225912887\n",
      "Frames per seconds:  11558.655765531084\n",
      "saving next best rewards:  -46.80976647887379\n",
      "Frames per seconds:  11205.425074155792\n",
      "saving next best rewards:  -44.369212171845135\n",
      "Frames per seconds:  11844.84049780424\n",
      "saving next best rewards:  -39.970520695187155\n",
      "Frames per seconds:  11468.92031376214\n",
      "saving next best rewards:  -35.995832407549024\n",
      "Frames per seconds:  11770.19995207615\n",
      "Frames per seconds:  11747.761023044259\n",
      "Frames per seconds:  12169.592448986648\n",
      "saving next best rewards:  -35.818150803688916\n",
      "Frames per seconds:  11810.088944292545\n",
      "saving next best rewards:  -34.38808679461479\n",
      "Frames per seconds:  12260.889838536215\n",
      "saving next best rewards:  -34.301176262339574\n",
      "Frames per seconds:  12075.743664381742\n",
      "saving next best rewards:  -31.32673714071512\n",
      "Frames per seconds:  12352.033058836127\n",
      "saving next best rewards:  -27.181127178296446\n",
      "Frames per seconds:  11885.345792517503\n",
      "saving next best rewards:  -22.855504746064543\n",
      "Frames per seconds:  12080.783955323965\n",
      "saving next best rewards:  -21.717677073441447\n",
      "Frames per seconds:  11435.933072988584\n",
      "Frames per seconds:  12351.549623699051\n",
      "saving next best rewards:  -21.434143426734956\n",
      "Frames per seconds:  12011.25132402026\n",
      "saving next best rewards:  -17.196258376538754\n",
      "Frames per seconds:  12102.312825771114\n",
      "saving next best rewards:  -12.074945679344237\n",
      "Frames per seconds:  11886.88462671793\n",
      "Frames per seconds:  11839.801329653239\n",
      "saving next best rewards:  -5.7829322442784905\n",
      "Frames per seconds:  11326.769526340626\n",
      "Frames per seconds:  12394.537386376718\n",
      "Frames per seconds:  11965.028271076813\n",
      "saving next best rewards:  4.347409004420042\n",
      "Frames per seconds:  11903.666994112386\n",
      "Frames per seconds:  11951.442501310568\n",
      "Frames per seconds:  12129.79397347461\n",
      "saving next best rewards:  8.856176412962377\n",
      "Frames per seconds:  11653.549763830248\n",
      "saving next best rewards:  15.558666358441114\n"
     ]
    }
   ],
   "source": [
    "\n",
    "\n",
    "\n",
    "\n",
    "agent = A2CAgent(sess,'run4', obs_space, False, action_space, a2c_config)\n",
    "#agent.restore('nn/latest_run_renderer_best')\n",
    "agent.train()\n",
    "#agent.save('nn/latest')"
   ]
  },
  {
   "cell_type": "code",
   "execution_count": null,
   "metadata": {},
   "outputs": [],
   "source": [
    "agent.save('nn/latest_lstm')\n",
    "ray.shutdown()"
   ]
  },
  {
   "cell_type": "code",
   "execution_count": null,
   "metadata": {},
   "outputs": [],
   "source": []
  },
  {
   "cell_type": "code",
   "execution_count": null,
   "metadata": {},
   "outputs": [],
   "source": [
    "\n",
    " "
   ]
  },
  {
   "cell_type": "code",
   "execution_count": null,
   "metadata": {
    "scrolled": true
   },
   "outputs": [],
   "source": []
  },
  {
   "cell_type": "code",
   "execution_count": null,
   "metadata": {},
   "outputs": [],
   "source": [
    "import gym\n",
    "gym.envs.registry.all()"
   ]
  },
  {
   "cell_type": "code",
   "execution_count": null,
   "metadata": {},
   "outputs": [],
   "source": []
  },
  {
   "cell_type": "code",
   "execution_count": null,
   "metadata": {},
   "outputs": [],
   "source": []
  },
  {
   "cell_type": "code",
   "execution_count": null,
   "metadata": {},
   "outputs": [],
   "source": []
  }
 ],
 "metadata": {
  "kernelspec": {
   "display_name": "Python 3",
   "language": "python",
   "name": "python3"
  },
  "language_info": {
   "codemirror_mode": {
    "name": "ipython",
    "version": 3
   },
   "file_extension": ".py",
   "mimetype": "text/x-python",
   "name": "python",
   "nbconvert_exporter": "python",
   "pygments_lexer": "ipython3",
   "version": "3.6.9"
  }
 },
 "nbformat": 4,
 "nbformat_minor": 2
}
