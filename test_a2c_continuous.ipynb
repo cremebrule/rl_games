{
 "cells": [
  {
   "cell_type": "code",
   "execution_count": 1,
   "metadata": {},
   "outputs": [
    {
     "name": "stdout",
     "output_type": "stream",
     "text": [
      "robot lib not fouund\n",
      "\n",
      "WARNING: The TensorFlow contrib module will not be included in TensorFlow 2.0.\n",
      "For more information, please see:\n",
      "  * https://github.com/tensorflow/community/blob/master/rfcs/20180907-contrib-sunset.md\n",
      "  * https://github.com/tensorflow/addons\n",
      "If you depend on functionality not listed there, please file an issue.\n",
      "\n"
     ]
    }
   ],
   "source": [
    "import math\n",
    "from tensorboardX import SummaryWriter\n",
    "import roboschool\n",
    "import quadruppedEnv\n",
    "import env_configurations\n",
    "sess = None"
   ]
  },
  {
   "cell_type": "code",
   "execution_count": 2,
   "metadata": {},
   "outputs": [],
   "source": [
    "import tensorflow as tf\n",
    "import collections\n",
    "gpu_options = tf.GPUOptions(allow_growth=True,per_process_gpu_memory_fraction=0.8)\n",
    "\n",
    "config=tf.ConfigProto(gpu_options=gpu_options)\n",
    "sess = tf.InteractiveSession(config=config)"
   ]
  },
  {
   "cell_type": "code",
   "execution_count": 3,
   "metadata": {},
   "outputs": [
    {
     "name": "stdout",
     "output_type": "stream",
     "text": [
      "[-1.  0.  0.]\n",
      "[1. 1. 1.]\n"
     ]
    },
    {
     "name": "stderr",
     "output_type": "stream",
     "text": [
      "/home/trrrrr/anaconda3/envs/rl/lib/python3.6/site-packages/gym/envs/registration.py:14: PkgResourcesDeprecationWarning: Parameters to load are deprecated.  Call .resolve and .require separately.\n",
      "  result = entry_point.load(False)\n"
     ]
    }
   ],
   "source": [
    "import gym\n",
    "import wrappers\n",
    "\n",
    "env_name = 'CarRacing-v0'#'QuadruppedWalk-v1' #'QuadruppedWalk-v1' #$'BipedalWalker-v2'#'RoboschoolAnt-v1'\n",
    "#'BipedalWalker-v2'#'RoboschoolAnt-v1' #'LunarLanderContinuous-v2'#'BipedalWalker-v2'#'LunarLander-v2' \n",
    "#'MountainCarContinuous-v0'#'CarRacing-v0'#'CartPole-v1' #'RoboschoolAnt-v1' #'CarRacing-v0' #'LunarLander-v2' #'Acrobot-v1' #\n",
    "env = env_configurations.a2c_configurations[env_name]['ENV_CREATOR']()\n",
    "print(env.action_space.low)\n",
    "print(env.action_space.high)"
   ]
  },
  {
   "cell_type": "code",
   "execution_count": null,
   "metadata": {},
   "outputs": [],
   "source": []
  },
  {
   "cell_type": "code",
   "execution_count": 4,
   "metadata": {},
   "outputs": [
    {
     "name": "stderr",
     "output_type": "stream",
     "text": [
      "2019-05-27 19:08:07,532\tINFO node.py:469 -- Process STDOUT and STDERR is being redirected to /tmp/ray/session_2019-05-27_19-08-07_26770/logs.\n",
      "2019-05-27 19:08:07,649\tINFO services.py:407 -- Waiting for redis server at 127.0.0.1:64608 to respond...\n",
      "2019-05-27 19:08:07,790\tINFO services.py:407 -- Waiting for redis server at 127.0.0.1:54007 to respond...\n",
      "2019-05-27 19:08:07,793\tINFO services.py:804 -- Starting Redis shard with 0.1 GB max memory.\n",
      "2019-05-27 19:08:07,831\tINFO node.py:483 -- Process STDOUT and STDERR is being redirected to /tmp/ray/session_2019-05-27_19-08-07_26770/logs.\n",
      "2019-05-27 19:08:07,833\tINFO services.py:1427 -- Starting the Plasma object store with 0.1 GB memory using /dev/shm.\n"
     ]
    },
    {
     "data": {
      "text/plain": [
       "{'node_ip_address': '192.168.3.104',\n",
       " 'redis_address': '192.168.3.104:64608',\n",
       " 'object_store_address': '/tmp/ray/session_2019-05-27_19-08-07_26770/sockets/plasma_store',\n",
       " 'raylet_socket_name': '/tmp/ray/session_2019-05-27_19-08-07_26770/sockets/raylet',\n",
       " 'webui_url': None}"
      ]
     },
     "execution_count": 4,
     "metadata": {},
     "output_type": "execute_result"
    }
   ],
   "source": [
    "import ray\n",
    "ray.init(redis_max_memory=1024*1024*100, object_store_memory=1024*1024*100)"
   ]
  },
  {
   "cell_type": "code",
   "execution_count": 5,
   "metadata": {},
   "outputs": [
    {
     "name": "stdout",
     "output_type": "stream",
     "text": [
      "(84, 84, 4)\n",
      "WARNING:tensorflow:From /home/trrrrr/Documents/github/ml/dqn_atari/networks.py:249: dense (from tensorflow.python.layers.core) is deprecated and will be removed in a future version.\n",
      "Instructions for updating:\n",
      "Use keras.layers.dense instead.\n",
      "WARNING:tensorflow:From /home/trrrrr/anaconda3/envs/rl/lib/python3.6/site-packages/tensorflow/python/framework/op_def_library.py:263: colocate_with (from tensorflow.python.framework.ops) is deprecated and will be removed in a future version.\n",
      "Instructions for updating:\n",
      "Colocations handled automatically by placer.\n",
      "WARNING:tensorflow:From /home/trrrrr/anaconda3/envs/rl/lib/python3.6/site-packages/tensorflow/python/ops/math_ops.py:3066: to_int32 (from tensorflow.python.ops.math_ops) is deprecated and will be removed in a future version.\n",
      "Instructions for updating:\n",
      "Use tf.cast instead.\n"
     ]
    },
    {
     "name": "stderr",
     "output_type": "stream",
     "text": [
      "2019-05-27 19:08:09,135\tERROR worker.py:1672 -- WARNING: 24 workers have been started. This could be a result of using a large number of actors, or it could be a consequence of using nested tasks (see https://github.com/ray-project/ray/issues/3644) for some a discussion of workarounds.\n"
     ]
    },
    {
     "name": "stdout",
     "output_type": "stream",
     "text": [
      "\u001b[2m\u001b[36m(pid=26861)\u001b[0m \n",
      "\u001b[2m\u001b[36m(pid=26861)\u001b[0m WARNING: The TensorFlow contrib module will not be included in TensorFlow 2.0.\n",
      "\u001b[2m\u001b[36m(pid=26861)\u001b[0m For more information, please see:\n",
      "\u001b[2m\u001b[36m(pid=26861)\u001b[0m   * https://github.com/tensorflow/community/blob/master/rfcs/20180907-contrib-sunset.md\n",
      "\u001b[2m\u001b[36m(pid=26861)\u001b[0m   * https://github.com/tensorflow/addons\n",
      "\u001b[2m\u001b[36m(pid=26861)\u001b[0m If you depend on functionality not listed there, please file an issue.\n",
      "\u001b[2m\u001b[36m(pid=26861)\u001b[0m \n",
      "\u001b[2m\u001b[36m(pid=26855)\u001b[0m \n",
      "\u001b[2m\u001b[36m(pid=26855)\u001b[0m WARNING: The TensorFlow contrib module will not be included in TensorFlow 2.0.\n",
      "\u001b[2m\u001b[36m(pid=26855)\u001b[0m For more information, please see:\n",
      "\u001b[2m\u001b[36m(pid=26855)\u001b[0m   * https://github.com/tensorflow/community/blob/master/rfcs/20180907-contrib-sunset.md\n",
      "\u001b[2m\u001b[36m(pid=26855)\u001b[0m   * https://github.com/tensorflow/addons\n",
      "\u001b[2m\u001b[36m(pid=26855)\u001b[0m If you depend on functionality not listed there, please file an issue.\n",
      "\u001b[2m\u001b[36m(pid=26855)\u001b[0m \n",
      "\u001b[2m\u001b[36m(pid=26861)\u001b[0m robot lib not fouund\n",
      "\u001b[2m\u001b[36m(pid=26861)\u001b[0m /home/trrrrr/anaconda3/envs/rl/lib/python3.6/site-packages/gym/envs/registration.py:14: PkgResourcesDeprecationWarning: Parameters to load are deprecated.  Call .resolve and .require separately.\n",
      "\u001b[2m\u001b[36m(pid=26861)\u001b[0m   result = entry_point.load(False)\n",
      "\u001b[2m\u001b[36m(pid=26861)\u001b[0m Track generation: 1279..1603 -> 324-tiles track\n",
      "\u001b[2m\u001b[36m(pid=26859)\u001b[0m \n",
      "\u001b[2m\u001b[36m(pid=26859)\u001b[0m WARNING: The TensorFlow contrib module will not be included in TensorFlow 2.0.\n",
      "\u001b[2m\u001b[36m(pid=26859)\u001b[0m For more information, please see:\n",
      "\u001b[2m\u001b[36m(pid=26859)\u001b[0m   * https://github.com/tensorflow/community/blob/master/rfcs/20180907-contrib-sunset.md\n",
      "\u001b[2m\u001b[36m(pid=26859)\u001b[0m   * https://github.com/tensorflow/addons\n",
      "\u001b[2m\u001b[36m(pid=26859)\u001b[0m If you depend on functionality not listed there, please file an issue.\n",
      "\u001b[2m\u001b[36m(pid=26859)\u001b[0m \n",
      "\u001b[2m\u001b[36m(pid=26855)\u001b[0m /home/trrrrr/anaconda3/envs/rl/lib/python3.6/site-packages/gym/envs/registration.py:14: PkgResourcesDeprecationWarning: Parameters to load are deprecated.  Call .resolve and .require separately.\n",
      "\u001b[2m\u001b[36m(pid=26855)\u001b[0m   result = entry_point.load(False)\n",
      "\u001b[2m\u001b[36m(pid=26855)\u001b[0m robot lib not fouund\n",
      "\u001b[2m\u001b[36m(pid=26855)\u001b[0m Track generation: 1178..1477 -> 299-tiles track\n",
      "\u001b[2m\u001b[36m(pid=26859)\u001b[0m robot lib not fouund\n",
      "\u001b[2m\u001b[36m(pid=26859)\u001b[0m /home/trrrrr/anaconda3/envs/rl/lib/python3.6/site-packages/gym/envs/registration.py:14: PkgResourcesDeprecationWarning: Parameters to load are deprecated.  Call .resolve and .require separately.\n",
      "\u001b[2m\u001b[36m(pid=26859)\u001b[0m   result = entry_point.load(False)\n",
      "\u001b[2m\u001b[36m(pid=26853)\u001b[0m \n",
      "\u001b[2m\u001b[36m(pid=26853)\u001b[0m WARNING: The TensorFlow contrib module will not be included in TensorFlow 2.0.\n",
      "\u001b[2m\u001b[36m(pid=26853)\u001b[0m For more information, please see:\n",
      "\u001b[2m\u001b[36m(pid=26853)\u001b[0m   * https://github.com/tensorflow/community/blob/master/rfcs/20180907-contrib-sunset.md\n",
      "\u001b[2m\u001b[36m(pid=26853)\u001b[0m   * https://github.com/tensorflow/addons\n",
      "\u001b[2m\u001b[36m(pid=26853)\u001b[0m If you depend on functionality not listed there, please file an issue.\n",
      "\u001b[2m\u001b[36m(pid=26853)\u001b[0m \n",
      "\u001b[2m\u001b[36m(pid=26880)\u001b[0m \n",
      "\u001b[2m\u001b[36m(pid=26880)\u001b[0m WARNING: The TensorFlow contrib module will not be included in TensorFlow 2.0.\n",
      "\u001b[2m\u001b[36m(pid=26880)\u001b[0m For more information, please see:\n",
      "\u001b[2m\u001b[36m(pid=26880)\u001b[0m   * https://github.com/tensorflow/community/blob/master/rfcs/20180907-contrib-sunset.md\n",
      "\u001b[2m\u001b[36m(pid=26880)\u001b[0m   * https://github.com/tensorflow/addons\n",
      "\u001b[2m\u001b[36m(pid=26880)\u001b[0m If you depend on functionality not listed there, please file an issue.\n",
      "\u001b[2m\u001b[36m(pid=26880)\u001b[0m \n",
      "\u001b[2m\u001b[36m(pid=26859)\u001b[0m Track generation: 1207..1513 -> 306-tiles track\n",
      "\u001b[2m\u001b[36m(pid=26853)\u001b[0m /home/trrrrr/anaconda3/envs/rl/lib/python3.6/site-packages/gym/envs/registration.py:14: PkgResourcesDeprecationWarning: Parameters to load are deprecated.  Call .resolve and .require separately.\n",
      "\u001b[2m\u001b[36m(pid=26853)\u001b[0m   result = entry_point.load(False)\n",
      "\u001b[2m\u001b[36m(pid=26880)\u001b[0m /home/trrrrr/anaconda3/envs/rl/lib/python3.6/site-packages/gym/envs/registration.py:14: PkgResourcesDeprecationWarning: Parameters to load are deprecated.  Call .resolve and .require separately.\n",
      "\u001b[2m\u001b[36m(pid=26880)\u001b[0m   result = entry_point.load(False)\n",
      "\u001b[2m\u001b[36m(pid=26853)\u001b[0m robot lib not fouund\n",
      "\u001b[2m\u001b[36m(pid=26880)\u001b[0m robot lib not fouund\n",
      "\u001b[2m\u001b[36m(pid=26886)\u001b[0m \n",
      "\u001b[2m\u001b[36m(pid=26886)\u001b[0m WARNING: The TensorFlow contrib module will not be included in TensorFlow 2.0.\n",
      "\u001b[2m\u001b[36m(pid=26886)\u001b[0m For more information, please see:\n",
      "\u001b[2m\u001b[36m(pid=26886)\u001b[0m   * https://github.com/tensorflow/community/blob/master/rfcs/20180907-contrib-sunset.md\n",
      "\u001b[2m\u001b[36m(pid=26886)\u001b[0m   * https://github.com/tensorflow/addons\n",
      "\u001b[2m\u001b[36m(pid=26886)\u001b[0m If you depend on functionality not listed there, please file an issue.\n",
      "\u001b[2m\u001b[36m(pid=26886)\u001b[0m \n",
      "\u001b[2m\u001b[36m(pid=26858)\u001b[0m \n",
      "\u001b[2m\u001b[36m(pid=26858)\u001b[0m WARNING: The TensorFlow contrib module will not be included in TensorFlow 2.0.\n",
      "\u001b[2m\u001b[36m(pid=26858)\u001b[0m For more information, please see:\n",
      "\u001b[2m\u001b[36m(pid=26858)\u001b[0m   * https://github.com/tensorflow/community/blob/master/rfcs/20180907-contrib-sunset.md\n",
      "\u001b[2m\u001b[36m(pid=26858)\u001b[0m   * https://github.com/tensorflow/addons\n",
      "\u001b[2m\u001b[36m(pid=26858)\u001b[0m If you depend on functionality not listed there, please file an issue.\n",
      "\u001b[2m\u001b[36m(pid=26858)\u001b[0m \n",
      "\u001b[2m\u001b[36m(pid=26853)\u001b[0m Track generation: 1356..1699 -> 343-tiles track\n",
      "\u001b[2m\u001b[36m(pid=26880)\u001b[0m Track generation: 1142..1439 -> 297-tiles track\n",
      "\u001b[2m\u001b[36m(pid=26856)\u001b[0m \n",
      "\u001b[2m\u001b[36m(pid=26856)\u001b[0m WARNING: The TensorFlow contrib module will not be included in TensorFlow 2.0.\n",
      "\u001b[2m\u001b[36m(pid=26856)\u001b[0m For more information, please see:\n",
      "\u001b[2m\u001b[36m(pid=26856)\u001b[0m   * https://github.com/tensorflow/community/blob/master/rfcs/20180907-contrib-sunset.md\n",
      "\u001b[2m\u001b[36m(pid=26856)\u001b[0m   * https://github.com/tensorflow/addons\n",
      "\u001b[2m\u001b[36m(pid=26856)\u001b[0m If you depend on functionality not listed there, please file an issue.\n",
      "\u001b[2m\u001b[36m(pid=26856)\u001b[0m \n",
      "\u001b[2m\u001b[36m(pid=26857)\u001b[0m \n",
      "\u001b[2m\u001b[36m(pid=26857)\u001b[0m WARNING: The TensorFlow contrib module will not be included in TensorFlow 2.0.\n",
      "\u001b[2m\u001b[36m(pid=26857)\u001b[0m For more information, please see:\n",
      "\u001b[2m\u001b[36m(pid=26857)\u001b[0m   * https://github.com/tensorflow/community/blob/master/rfcs/20180907-contrib-sunset.md\n",
      "\u001b[2m\u001b[36m(pid=26857)\u001b[0m   * https://github.com/tensorflow/addons\n",
      "\u001b[2m\u001b[36m(pid=26857)\u001b[0m If you depend on functionality not listed there, please file an issue.\n",
      "\u001b[2m\u001b[36m(pid=26857)\u001b[0m \n",
      "\u001b[2m\u001b[36m(pid=26886)\u001b[0m robot lib not fouund\n",
      "\u001b[2m\u001b[36m(pid=26886)\u001b[0m /home/trrrrr/anaconda3/envs/rl/lib/python3.6/site-packages/gym/envs/registration.py:14: PkgResourcesDeprecationWarning: Parameters to load are deprecated.  Call .resolve and .require separately.\n",
      "\u001b[2m\u001b[36m(pid=26886)\u001b[0m   result = entry_point.load(False)\n",
      "\u001b[2m\u001b[36m(pid=26860)\u001b[0m \n",
      "\u001b[2m\u001b[36m(pid=26860)\u001b[0m WARNING: The TensorFlow contrib module will not be included in TensorFlow 2.0.\n",
      "\u001b[2m\u001b[36m(pid=26860)\u001b[0m For more information, please see:\n",
      "\u001b[2m\u001b[36m(pid=26860)\u001b[0m   * https://github.com/tensorflow/community/blob/master/rfcs/20180907-contrib-sunset.md\n",
      "\u001b[2m\u001b[36m(pid=26860)\u001b[0m   * https://github.com/tensorflow/addons\n",
      "\u001b[2m\u001b[36m(pid=26860)\u001b[0m If you depend on functionality not listed there, please file an issue.\n",
      "\u001b[2m\u001b[36m(pid=26860)\u001b[0m \n",
      "\u001b[2m\u001b[36m(pid=26886)\u001b[0m Track generation: 1351..1693 -> 342-tiles track\n",
      "\u001b[2m\u001b[36m(pid=26858)\u001b[0m robot lib not fouund\n",
      "\u001b[2m\u001b[36m(pid=26858)\u001b[0m /home/trrrrr/anaconda3/envs/rl/lib/python3.6/site-packages/gym/envs/registration.py:14: PkgResourcesDeprecationWarning: Parameters to load are deprecated.  Call .resolve and .require separately.\n",
      "\u001b[2m\u001b[36m(pid=26858)\u001b[0m   result = entry_point.load(False)\n",
      "\u001b[2m\u001b[36m(pid=26875)\u001b[0m \n",
      "\u001b[2m\u001b[36m(pid=26875)\u001b[0m WARNING: The TensorFlow contrib module will not be included in TensorFlow 2.0.\n",
      "\u001b[2m\u001b[36m(pid=26875)\u001b[0m For more information, please see:\n",
      "\u001b[2m\u001b[36m(pid=26875)\u001b[0m   * https://github.com/tensorflow/community/blob/master/rfcs/20180907-contrib-sunset.md\n",
      "\u001b[2m\u001b[36m(pid=26875)\u001b[0m   * https://github.com/tensorflow/addons\n",
      "\u001b[2m\u001b[36m(pid=26875)\u001b[0m If you depend on functionality not listed there, please file an issue.\n",
      "\u001b[2m\u001b[36m(pid=26875)\u001b[0m \n",
      "\u001b[2m\u001b[36m(pid=26888)\u001b[0m \n",
      "\u001b[2m\u001b[36m(pid=26888)\u001b[0m WARNING: The TensorFlow contrib module will not be included in TensorFlow 2.0.\n",
      "\u001b[2m\u001b[36m(pid=26888)\u001b[0m For more information, please see:\n",
      "\u001b[2m\u001b[36m(pid=26888)\u001b[0m   * https://github.com/tensorflow/community/blob/master/rfcs/20180907-contrib-sunset.md\n",
      "\u001b[2m\u001b[36m(pid=26888)\u001b[0m   * https://github.com/tensorflow/addons\n",
      "\u001b[2m\u001b[36m(pid=26888)\u001b[0m If you depend on functionality not listed there, please file an issue.\n",
      "\u001b[2m\u001b[36m(pid=26888)\u001b[0m \n",
      "\u001b[2m\u001b[36m(pid=26891)\u001b[0m \n",
      "\u001b[2m\u001b[36m(pid=26891)\u001b[0m WARNING: The TensorFlow contrib module will not be included in TensorFlow 2.0.\n",
      "\u001b[2m\u001b[36m(pid=26891)\u001b[0m For more information, please see:\n",
      "\u001b[2m\u001b[36m(pid=26891)\u001b[0m   * https://github.com/tensorflow/community/blob/master/rfcs/20180907-contrib-sunset.md\n",
      "\u001b[2m\u001b[36m(pid=26891)\u001b[0m   * https://github.com/tensorflow/addons\n",
      "\u001b[2m\u001b[36m(pid=26891)\u001b[0m If you depend on functionality not listed there, please file an issue.\n",
      "\u001b[2m\u001b[36m(pid=26891)\u001b[0m \n",
      "\u001b[2m\u001b[36m(pid=26858)\u001b[0m Track generation: 1213..1520 -> 307-tiles track\n",
      "\u001b[2m\u001b[36m(pid=26856)\u001b[0m /home/trrrrr/anaconda3/envs/rl/lib/python3.6/site-packages/gym/envs/registration.py:14: PkgResourcesDeprecationWarning: Parameters to load are deprecated.  Call .resolve and .require separately.\n",
      "\u001b[2m\u001b[36m(pid=26856)\u001b[0m   result = entry_point.load(False)\n",
      "\u001b[2m\u001b[36m(pid=26856)\u001b[0m robot lib not fouund\n",
      "\u001b[2m\u001b[36m(pid=26856)\u001b[0m Track generation: 1243..1559 -> 316-tiles track\n",
      "\u001b[2m\u001b[36m(pid=26857)\u001b[0m /home/trrrrr/anaconda3/envs/rl/lib/python3.6/site-packages/gym/envs/registration.py:14: PkgResourcesDeprecationWarning: Parameters to load are deprecated.  Call .resolve and .require separately.\n",
      "\u001b[2m\u001b[36m(pid=26857)\u001b[0m   result = entry_point.load(False)\n",
      "\u001b[2m\u001b[36m(pid=26857)\u001b[0m robot lib not fouund\n"
     ]
    },
    {
     "name": "stdout",
     "output_type": "stream",
     "text": [
      "\u001b[2m\u001b[36m(pid=26857)\u001b[0m Track generation: 1172..1469 -> 297-tiles track\n",
      "\u001b[2m\u001b[36m(pid=26908)\u001b[0m \n",
      "\u001b[2m\u001b[36m(pid=26908)\u001b[0m WARNING: The TensorFlow contrib module will not be included in TensorFlow 2.0.\n",
      "\u001b[2m\u001b[36m(pid=26908)\u001b[0m For more information, please see:\n",
      "\u001b[2m\u001b[36m(pid=26908)\u001b[0m   * https://github.com/tensorflow/community/blob/master/rfcs/20180907-contrib-sunset.md\n",
      "\u001b[2m\u001b[36m(pid=26908)\u001b[0m   * https://github.com/tensorflow/addons\n",
      "\u001b[2m\u001b[36m(pid=26908)\u001b[0m If you depend on functionality not listed there, please file an issue.\n",
      "\u001b[2m\u001b[36m(pid=26908)\u001b[0m \n",
      "\u001b[2m\u001b[36m(pid=26888)\u001b[0m robot lib not fouund\n",
      "\u001b[2m\u001b[36m(pid=26888)\u001b[0m Track generation: 1108..1395 -> 287-tiles track\n",
      "\u001b[2m\u001b[36m(pid=26888)\u001b[0m /home/trrrrr/anaconda3/envs/rl/lib/python3.6/site-packages/gym/envs/registration.py:14: PkgResourcesDeprecationWarning: Parameters to load are deprecated.  Call .resolve and .require separately.\n",
      "\u001b[2m\u001b[36m(pid=26888)\u001b[0m   result = entry_point.load(False)\n",
      "\u001b[2m\u001b[36m(pid=26860)\u001b[0m /home/trrrrr/anaconda3/envs/rl/lib/python3.6/site-packages/gym/envs/registration.py:14: PkgResourcesDeprecationWarning: Parameters to load are deprecated.  Call .resolve and .require separately.\n",
      "\u001b[2m\u001b[36m(pid=26860)\u001b[0m   result = entry_point.load(False)\n",
      "\u001b[2m\u001b[36m(pid=26860)\u001b[0m robot lib not fouund\n",
      "\u001b[2m\u001b[36m(pid=26860)\u001b[0m Track generation: 1220..1536 -> 316-tiles track\n",
      "\u001b[2m\u001b[36m(pid=26875)\u001b[0m robot lib not fouund\n",
      "\u001b[2m\u001b[36m(pid=26875)\u001b[0m Track generation: 1273..1603 -> 330-tiles track\n",
      "\u001b[2m\u001b[36m(pid=26875)\u001b[0m /home/trrrrr/anaconda3/envs/rl/lib/python3.6/site-packages/gym/envs/registration.py:14: PkgResourcesDeprecationWarning: Parameters to load are deprecated.  Call .resolve and .require separately.\n",
      "\u001b[2m\u001b[36m(pid=26875)\u001b[0m   result = entry_point.load(False)\n",
      "\u001b[2m\u001b[36m(pid=26895)\u001b[0m \n",
      "\u001b[2m\u001b[36m(pid=26895)\u001b[0m WARNING: The TensorFlow contrib module will not be included in TensorFlow 2.0.\n",
      "\u001b[2m\u001b[36m(pid=26895)\u001b[0m For more information, please see:\n",
      "\u001b[2m\u001b[36m(pid=26895)\u001b[0m   * https://github.com/tensorflow/community/blob/master/rfcs/20180907-contrib-sunset.md\n",
      "\u001b[2m\u001b[36m(pid=26895)\u001b[0m   * https://github.com/tensorflow/addons\n",
      "\u001b[2m\u001b[36m(pid=26895)\u001b[0m If you depend on functionality not listed there, please file an issue.\n",
      "\u001b[2m\u001b[36m(pid=26895)\u001b[0m \n",
      "\u001b[2m\u001b[36m(pid=26908)\u001b[0m robot lib not fouund\n",
      "\u001b[2m\u001b[36m(pid=26908)\u001b[0m Track generation: 1139..1428 -> 289-tiles track\n",
      "\u001b[2m\u001b[36m(pid=26908)\u001b[0m /home/trrrrr/anaconda3/envs/rl/lib/python3.6/site-packages/gym/envs/registration.py:14: PkgResourcesDeprecationWarning: Parameters to load are deprecated.  Call .resolve and .require separately.\n",
      "\u001b[2m\u001b[36m(pid=26908)\u001b[0m   result = entry_point.load(False)\n",
      "\u001b[2m\u001b[36m(pid=26891)\u001b[0m /home/trrrrr/anaconda3/envs/rl/lib/python3.6/site-packages/gym/envs/registration.py:14: PkgResourcesDeprecationWarning: Parameters to load are deprecated.  Call .resolve and .require separately.\n",
      "\u001b[2m\u001b[36m(pid=26891)\u001b[0m   result = entry_point.load(False)\n",
      "\u001b[2m\u001b[36m(pid=26891)\u001b[0m robot lib not fouund\n",
      "\u001b[2m\u001b[36m(pid=26891)\u001b[0m Track generation: 1188..1489 -> 301-tiles track\n",
      "\u001b[2m\u001b[36m(pid=26895)\u001b[0m robot lib not fouund\n",
      "\u001b[2m\u001b[36m(pid=26895)\u001b[0m Track generation: 1106..1386 -> 280-tiles track\n",
      "\u001b[2m\u001b[36m(pid=26895)\u001b[0m /home/trrrrr/anaconda3/envs/rl/lib/python3.6/site-packages/gym/envs/registration.py:14: PkgResourcesDeprecationWarning: Parameters to load are deprecated.  Call .resolve and .require separately.\n",
      "\u001b[2m\u001b[36m(pid=26895)\u001b[0m   result = entry_point.load(False)\n",
      "\u001b[2m\u001b[36m(pid=26936)\u001b[0m \n",
      "\u001b[2m\u001b[36m(pid=26936)\u001b[0m WARNING: The TensorFlow contrib module will not be included in TensorFlow 2.0.\n",
      "\u001b[2m\u001b[36m(pid=26936)\u001b[0m For more information, please see:\n",
      "\u001b[2m\u001b[36m(pid=26936)\u001b[0m   * https://github.com/tensorflow/community/blob/master/rfcs/20180907-contrib-sunset.md\n",
      "\u001b[2m\u001b[36m(pid=26936)\u001b[0m   * https://github.com/tensorflow/addons\n",
      "\u001b[2m\u001b[36m(pid=26936)\u001b[0m If you depend on functionality not listed there, please file an issue.\n",
      "\u001b[2m\u001b[36m(pid=26936)\u001b[0m \n",
      "\u001b[2m\u001b[36m(pid=26936)\u001b[0m /home/trrrrr/anaconda3/envs/rl/lib/python3.6/site-packages/gym/envs/registration.py:14: PkgResourcesDeprecationWarning: Parameters to load are deprecated.  Call .resolve and .require separately.\n",
      "\u001b[2m\u001b[36m(pid=26936)\u001b[0m   result = entry_point.load(False)\n",
      "\u001b[2m\u001b[36m(pid=26936)\u001b[0m robot lib not fouund\n",
      "\u001b[2m\u001b[36m(pid=26936)\u001b[0m Track generation: 1209..1515 -> 306-tiles track\n",
      "\u001b[2m\u001b[36m(pid=26861)\u001b[0m Track generation: 1212..1519 -> 307-tiles track\n",
      "\u001b[2m\u001b[36m(pid=26855)\u001b[0m Track generation: 1079..1359 -> 280-tiles track\n",
      "\u001b[2m\u001b[36m(pid=26859)\u001b[0m Track generation: 1056..1327 -> 271-tiles track\n",
      "\u001b[2m\u001b[36m(pid=26859)\u001b[0m retry to generate track (normal if there are not many of this messages)\n",
      "\u001b[2m\u001b[36m(pid=26859)\u001b[0m Track generation: 1115..1398 -> 283-tiles track\n",
      "\u001b[2m\u001b[36m(pid=26880)\u001b[0m Track generation: 1204..1509 -> 305-tiles track\n",
      "\u001b[2m\u001b[36m(pid=26858)\u001b[0m Track generation: 1087..1363 -> 276-tiles track\n",
      "\u001b[2m\u001b[36m(pid=26856)\u001b[0m Track generation: 1167..1463 -> 296-tiles track\n",
      "\u001b[2m\u001b[36m(pid=26853)\u001b[0m Track generation: 1068..1339 -> 271-tiles track\n",
      "\u001b[2m\u001b[36m(pid=26857)\u001b[0m Track generation: 1147..1438 -> 291-tiles track\n",
      "\u001b[2m\u001b[36m(pid=26886)\u001b[0m Track generation: 1097..1375 -> 278-tiles track\n",
      "\u001b[2m\u001b[36m(pid=26891)\u001b[0m Track generation: 1238..1551 -> 313-tiles track\n",
      "\u001b[2m\u001b[36m(pid=26860)\u001b[0m Track generation: 1223..1533 -> 310-tiles track\n",
      "\u001b[2m\u001b[36m(pid=26888)\u001b[0m Track generation: 1205..1510 -> 305-tiles track\n",
      "\u001b[2m\u001b[36m(pid=26908)\u001b[0m Track generation: 1268..1589 -> 321-tiles track\n",
      "\u001b[2m\u001b[36m(pid=26875)\u001b[0m Track generation: 1183..1483 -> 300-tiles track\n",
      "\u001b[2m\u001b[36m(pid=26895)\u001b[0m Track generation: 1158..1452 -> 294-tiles track\n",
      "\u001b[2m\u001b[36m(pid=26936)\u001b[0m Track generation: 1315..1648 -> 333-tiles track\n"
     ]
    },
    {
     "ename": "RayTaskError",
     "evalue": "\u001b[36mray_RayWorker:step()\u001b[39m (pid=26858, host=trrrrr-MS-7A71)\n  File \"/home/trrrrr/Documents/github/ml/dqn_atari/vecenv.py\", line 30, in step\n    next_state, reward, is_done, info = self.env.step(action)\n  File \"/home/trrrrr/Documents/github/ml/dqn_atari/wrappers.py\", line 194, in step\n    ob, reward, done, info = self.env.step(action)\n  File \"/home/trrrrr/anaconda3/envs/rl/lib/python3.6/site-packages/gym/core.py\", line 304, in step\n    observation, reward, done, info = self.env.step(action)\n  File \"/home/trrrrr/anaconda3/envs/rl/lib/python3.6/site-packages/gym/core.py\", line 304, in step\n    observation, reward, done, info = self.env.step(action)\n  File \"/home/trrrrr/Documents/github/ml/dqn_atari/wrappers.py\", line 116, in step\n    obs, reward, done, info = self.env.step(action)\n  File \"/home/trrrrr/anaconda3/envs/rl/lib/python3.6/site-packages/gym/wrappers/time_limit.py\", line 31, in step\n    observation, reward, done, info = self.env.step(action)\n  File \"/home/trrrrr/anaconda3/envs/rl/lib/python3.6/site-packages/gym/envs/box2d/car_racing.py\", line 298, in step\n    self.car.gas(action[1])\n  File \"/home/trrrrr/anaconda3/envs/rl/lib/python3.6/site-packages/gym/envs/box2d/car_dynamics.py\", line 114, in gas\n    if diff > 0.1: diff = 0.1  # gradually increase, but stop immediately\nValueError: The truth value of an array with more than one element is ambiguous. Use a.any() or a.all()\n",
     "output_type": "error",
     "traceback": [
      "\u001b[0;31m---------------------------------------------------------------------------\u001b[0m",
      "\u001b[0;31mRayTaskError\u001b[0m                              Traceback (most recent call last)",
      "\u001b[0;32m<ipython-input-5-3af2dbff9b35>\u001b[0m in \u001b[0;36m<module>\u001b[0;34m\u001b[0m\n\u001b[1;32m     12\u001b[0m \u001b[0magent\u001b[0m \u001b[0;34m=\u001b[0m \u001b[0mA2CAgent\u001b[0m\u001b[0;34m(\u001b[0m\u001b[0msess\u001b[0m\u001b[0;34m,\u001b[0m\u001b[0;34m'car'\u001b[0m\u001b[0;34m,\u001b[0m \u001b[0menv\u001b[0m\u001b[0;34m.\u001b[0m\u001b[0mobservation_space\u001b[0m\u001b[0;34m,\u001b[0m \u001b[0;32mFalse\u001b[0m\u001b[0;34m,\u001b[0m \u001b[0maction_space\u001b[0m\u001b[0;34m,\u001b[0m \u001b[0ma2c_config\u001b[0m\u001b[0;34m)\u001b[0m\u001b[0;34m\u001b[0m\u001b[0;34m\u001b[0m\u001b[0m\n\u001b[1;32m     13\u001b[0m \u001b[0;31m#agent.restore('nn/latest')\u001b[0m\u001b[0;34m\u001b[0m\u001b[0;34m\u001b[0m\u001b[0;34m\u001b[0m\u001b[0m\n\u001b[0;32m---> 14\u001b[0;31m \u001b[0magent\u001b[0m\u001b[0;34m.\u001b[0m\u001b[0mtrain\u001b[0m\u001b[0;34m(\u001b[0m\u001b[0;34m)\u001b[0m\u001b[0;34m\u001b[0m\u001b[0;34m\u001b[0m\u001b[0m\n\u001b[0m",
      "\u001b[0;32m~/Documents/github/ml/dqn_atari/a2c_v2.py\u001b[0m in \u001b[0;36mtrain\u001b[0;34m(self)\u001b[0m\n\u001b[1;32m    213\u001b[0m             \u001b[0mplay_time_start\u001b[0m \u001b[0;34m=\u001b[0m \u001b[0mtime\u001b[0m\u001b[0;34m.\u001b[0m\u001b[0mtime\u001b[0m\u001b[0;34m(\u001b[0m\u001b[0;34m)\u001b[0m\u001b[0;34m\u001b[0m\u001b[0;34m\u001b[0m\u001b[0m\n\u001b[1;32m    214\u001b[0m             \u001b[0mframe\u001b[0m \u001b[0;34m+=\u001b[0m \u001b[0mbatch_size\u001b[0m\u001b[0;34m\u001b[0m\u001b[0;34m\u001b[0m\u001b[0m\n\u001b[0;32m--> 215\u001b[0;31m             \u001b[0mobses\u001b[0m\u001b[0;34m,\u001b[0m \u001b[0mreturns\u001b[0m\u001b[0;34m,\u001b[0m \u001b[0mdones\u001b[0m\u001b[0;34m,\u001b[0m \u001b[0mactions\u001b[0m\u001b[0;34m,\u001b[0m \u001b[0mvalues\u001b[0m\u001b[0;34m,\u001b[0m \u001b[0mneglogpacs\u001b[0m\u001b[0;34m,\u001b[0m \u001b[0minfos\u001b[0m \u001b[0;34m=\u001b[0m \u001b[0mself\u001b[0m\u001b[0;34m.\u001b[0m\u001b[0mplay_steps\u001b[0m\u001b[0;34m(\u001b[0m\u001b[0;34m)\u001b[0m\u001b[0;34m\u001b[0m\u001b[0;34m\u001b[0m\u001b[0m\n\u001b[0m\u001b[1;32m    216\u001b[0m             \u001b[0madvantages\u001b[0m \u001b[0;34m=\u001b[0m \u001b[0mreturns\u001b[0m \u001b[0;34m-\u001b[0m \u001b[0mvalues\u001b[0m\u001b[0;34m\u001b[0m\u001b[0;34m\u001b[0m\u001b[0m\n\u001b[1;32m    217\u001b[0m             \u001b[0;32mif\u001b[0m \u001b[0mself\u001b[0m\u001b[0;34m.\u001b[0m\u001b[0mnormalize_advantage\u001b[0m\u001b[0;34m:\u001b[0m\u001b[0;34m\u001b[0m\u001b[0;34m\u001b[0m\u001b[0m\n",
      "\u001b[0;32m~/Documents/github/ml/dqn_atari/a2c_v2.py\u001b[0m in \u001b[0;36mplay_steps\u001b[0;34m(self)\u001b[0m\n\u001b[1;32m    145\u001b[0m             \u001b[0mmb_neglogpacs\u001b[0m\u001b[0;34m.\u001b[0m\u001b[0mappend\u001b[0m\u001b[0;34m(\u001b[0m\u001b[0mneglogpacs\u001b[0m\u001b[0;34m)\u001b[0m\u001b[0;34m\u001b[0m\u001b[0;34m\u001b[0m\u001b[0m\n\u001b[1;32m    146\u001b[0m             \u001b[0mmb_dones\u001b[0m\u001b[0;34m.\u001b[0m\u001b[0mappend\u001b[0m\u001b[0;34m(\u001b[0m\u001b[0mself\u001b[0m\u001b[0;34m.\u001b[0m\u001b[0mdones\u001b[0m\u001b[0;34m)\u001b[0m\u001b[0;34m\u001b[0m\u001b[0;34m\u001b[0m\u001b[0m\n\u001b[0;32m--> 147\u001b[0;31m             \u001b[0mself\u001b[0m\u001b[0;34m.\u001b[0m\u001b[0mobs\u001b[0m\u001b[0;34m[\u001b[0m\u001b[0;34m:\u001b[0m\u001b[0;34m]\u001b[0m\u001b[0;34m,\u001b[0m \u001b[0mrewards\u001b[0m\u001b[0;34m,\u001b[0m \u001b[0mself\u001b[0m\u001b[0;34m.\u001b[0m\u001b[0mdones\u001b[0m\u001b[0;34m,\u001b[0m \u001b[0minfos\u001b[0m \u001b[0;34m=\u001b[0m \u001b[0mself\u001b[0m\u001b[0;34m.\u001b[0m\u001b[0mvec_env\u001b[0m\u001b[0;34m.\u001b[0m\u001b[0mstep\u001b[0m\u001b[0;34m(\u001b[0m\u001b[0mactions\u001b[0m\u001b[0;34m)\u001b[0m\u001b[0;34m\u001b[0m\u001b[0;34m\u001b[0m\u001b[0m\n\u001b[0m\u001b[1;32m    148\u001b[0m             \u001b[0mself\u001b[0m\u001b[0;34m.\u001b[0m\u001b[0mcurrent_rewards\u001b[0m \u001b[0;34m+=\u001b[0m \u001b[0mrewards\u001b[0m\u001b[0;34m\u001b[0m\u001b[0;34m\u001b[0m\u001b[0m\n\u001b[1;32m    149\u001b[0m \u001b[0;34m\u001b[0m\u001b[0m\n",
      "\u001b[0;32m~/Documents/github/ml/dqn_atari/vecenv.py\u001b[0m in \u001b[0;36mstep\u001b[0;34m(self, actions)\u001b[0m\n\u001b[1;32m     51\u001b[0m             \u001b[0mres_obs\u001b[0m\u001b[0;34m.\u001b[0m\u001b[0mappend\u001b[0m\u001b[0;34m(\u001b[0m\u001b[0mworker\u001b[0m\u001b[0;34m.\u001b[0m\u001b[0mstep\u001b[0m\u001b[0;34m.\u001b[0m\u001b[0mremote\u001b[0m\u001b[0;34m(\u001b[0m\u001b[0maction\u001b[0m\u001b[0;34m)\u001b[0m\u001b[0;34m)\u001b[0m\u001b[0;34m\u001b[0m\u001b[0;34m\u001b[0m\u001b[0m\n\u001b[1;32m     52\u001b[0m         \u001b[0;32mfor\u001b[0m \u001b[0mres\u001b[0m \u001b[0;32min\u001b[0m \u001b[0mres_obs\u001b[0m\u001b[0;34m:\u001b[0m\u001b[0;34m\u001b[0m\u001b[0;34m\u001b[0m\u001b[0m\n\u001b[0;32m---> 53\u001b[0;31m             \u001b[0mcobs\u001b[0m\u001b[0;34m,\u001b[0m \u001b[0mcrewards\u001b[0m\u001b[0;34m,\u001b[0m \u001b[0mcdones\u001b[0m\u001b[0;34m,\u001b[0m \u001b[0mcinfos\u001b[0m \u001b[0;34m=\u001b[0m \u001b[0mray\u001b[0m\u001b[0;34m.\u001b[0m\u001b[0mget\u001b[0m\u001b[0;34m(\u001b[0m\u001b[0mres\u001b[0m\u001b[0;34m)\u001b[0m\u001b[0;34m\u001b[0m\u001b[0;34m\u001b[0m\u001b[0m\n\u001b[0m\u001b[1;32m     54\u001b[0m             \u001b[0mnewobs\u001b[0m\u001b[0;34m.\u001b[0m\u001b[0mappend\u001b[0m\u001b[0;34m(\u001b[0m\u001b[0mcobs\u001b[0m\u001b[0;34m)\u001b[0m\u001b[0;34m\u001b[0m\u001b[0;34m\u001b[0m\u001b[0m\n\u001b[1;32m     55\u001b[0m             \u001b[0mnewrewards\u001b[0m\u001b[0;34m.\u001b[0m\u001b[0mappend\u001b[0m\u001b[0;34m(\u001b[0m\u001b[0mcrewards\u001b[0m\u001b[0;34m)\u001b[0m\u001b[0;34m\u001b[0m\u001b[0;34m\u001b[0m\u001b[0m\n",
      "\u001b[0;32m~/anaconda3/envs/rl/lib/python3.6/site-packages/ray/worker.py\u001b[0m in \u001b[0;36mget\u001b[0;34m(object_ids)\u001b[0m\n\u001b[1;32m   2191\u001b[0m                 \u001b[0;31m# here.\u001b[0m\u001b[0;34m\u001b[0m\u001b[0;34m\u001b[0m\u001b[0;34m\u001b[0m\u001b[0m\n\u001b[1;32m   2192\u001b[0m                 \u001b[0mlast_task_error_raise_time\u001b[0m \u001b[0;34m=\u001b[0m \u001b[0mtime\u001b[0m\u001b[0;34m.\u001b[0m\u001b[0mtime\u001b[0m\u001b[0;34m(\u001b[0m\u001b[0;34m)\u001b[0m\u001b[0;34m\u001b[0m\u001b[0;34m\u001b[0m\u001b[0m\n\u001b[0;32m-> 2193\u001b[0;31m                 \u001b[0;32mraise\u001b[0m \u001b[0mvalue\u001b[0m\u001b[0;34m\u001b[0m\u001b[0;34m\u001b[0m\u001b[0m\n\u001b[0m\u001b[1;32m   2194\u001b[0m             \u001b[0;32mreturn\u001b[0m \u001b[0mvalue\u001b[0m\u001b[0;34m\u001b[0m\u001b[0;34m\u001b[0m\u001b[0m\n\u001b[1;32m   2195\u001b[0m \u001b[0;34m\u001b[0m\u001b[0m\n",
      "\u001b[0;31mRayTaskError\u001b[0m: \u001b[36mray_RayWorker:step()\u001b[39m (pid=26858, host=trrrrr-MS-7A71)\n  File \"/home/trrrrr/Documents/github/ml/dqn_atari/vecenv.py\", line 30, in step\n    next_state, reward, is_done, info = self.env.step(action)\n  File \"/home/trrrrr/Documents/github/ml/dqn_atari/wrappers.py\", line 194, in step\n    ob, reward, done, info = self.env.step(action)\n  File \"/home/trrrrr/anaconda3/envs/rl/lib/python3.6/site-packages/gym/core.py\", line 304, in step\n    observation, reward, done, info = self.env.step(action)\n  File \"/home/trrrrr/anaconda3/envs/rl/lib/python3.6/site-packages/gym/core.py\", line 304, in step\n    observation, reward, done, info = self.env.step(action)\n  File \"/home/trrrrr/Documents/github/ml/dqn_atari/wrappers.py\", line 116, in step\n    obs, reward, done, info = self.env.step(action)\n  File \"/home/trrrrr/anaconda3/envs/rl/lib/python3.6/site-packages/gym/wrappers/time_limit.py\", line 31, in step\n    observation, reward, done, info = self.env.step(action)\n  File \"/home/trrrrr/anaconda3/envs/rl/lib/python3.6/site-packages/gym/envs/box2d/car_racing.py\", line 298, in step\n    self.car.gas(action[1])\n  File \"/home/trrrrr/anaconda3/envs/rl/lib/python3.6/site-packages/gym/envs/box2d/car_dynamics.py\", line 114, in gas\n    if diff > 0.1: diff = 0.1  # gradually increase, but stop immediately\nValueError: The truth value of an array with more than one element is ambiguous. Use a.any() or a.all()\n"
     ]
    }
   ],
   "source": [
    "from a2c_v2 import A2CAgent\n",
    "import tr_helpers\n",
    "import networks\n",
    "import a2c_games_configurations\n",
    "\n",
    "a2c_config = a2c_games_configurations.carracing_config\n",
    "#a2c_config = a2c_games_configurations.roboschoolant_config\n",
    "#self, sess, env_name, observation_shape, actions_num, config = default_config\n",
    "observation_shape = env.observation_space.shape\n",
    "action_space = env.action_space\n",
    "print(observation_shape)\n",
    "agent = A2CAgent(sess,'car', env.observation_space, False, action_space, a2c_config)\n",
    "#agent.restore('nn/latest')\n",
    "agent.train()\n"
   ]
  },
  {
   "cell_type": "code",
   "execution_count": null,
   "metadata": {},
   "outputs": [],
   "source": [
    "ray.shutdown()"
   ]
  },
  {
   "cell_type": "code",
   "execution_count": null,
   "metadata": {},
   "outputs": [],
   "source": [
    "import numpy as np\n",
    "#agent.restore('nn/latest')\n",
    "#agent.restore('nn/rob_20QuadruppedWalk-v1')\n",
    "#agent.restore('nn/ppo_continuousQuadruppedWalk-v1')\n",
    "\n",
    "def evaluate(env,t_max=5000):\n",
    "    rewards = []\n",
    "    env._max_episode_steps = 5000\n",
    "    env.batch_mode = False\n",
    "    print('reset')\n",
    "    #env = env.old_env\n",
    "    s = env.reset()\n",
    "    reward = 0\n",
    "    for it in range(5000):\n",
    "        action = agent.get_action([s], False)\n",
    "        \n",
    "        #ad = agent.get_action_distribution([s])\n",
    "        #print(ad)\n",
    "        s, r, done, _ = env.step(np.squeeze(action, axis = 0))\n",
    "        print(action)\n",
    "        env.render()\n",
    "        reward += r\n",
    "        \n",
    "            \n",
    "        if done:\n",
    "            break       \n",
    "        \n",
    "    return reward\n",
    "\n",
    "import gym.wrappers\n",
    "\n",
    "#env_monitor = wrappers.make_atari_deepmind(env_name, noop_max=30, skip=4)\n",
    "#env_monitor = wrappers.ReallyDoneWrapper(env_monitor)\n",
    "#env_monitor = gym.wrappers.Monitor(env,directory='video_ppo',force=True)\n",
    "\n",
    "sessions = [print('reward:', evaluate(env)) for _ in range(1)]\n",
    "#env_monitor.close()\n",
    "\n",
    "\n"
   ]
  },
  {
   "cell_type": "code",
   "execution_count": null,
   "metadata": {
    "scrolled": true
   },
   "outputs": [],
   "source": [
    "obs = env.reset()\n",
    "obs, r, done, _ = env.step(2)\n",
    "\n",
    "done = False\n",
    "for _ in range(130):\n",
    "    obs, _, done, _ = env.step(1)\n",
    "    #env.render()\n",
    "    obs = np.array(obs)\n",
    "    if done:\n",
    "        print('done')\n",
    "        break\n",
    "plt.title(\"what your network gonna see\")\n",
    "print (obs.shape)\n",
    "plt.imshow(obs[:,:,0],interpolation='none',cmap='gray');"
   ]
  },
  {
   "cell_type": "code",
   "execution_count": null,
   "metadata": {},
   "outputs": [],
   "source": [
    "import gym\n",
    "gym.envs.registry.all()"
   ]
  },
  {
   "cell_type": "code",
   "execution_count": null,
   "metadata": {},
   "outputs": [],
   "source": []
  }
 ],
 "metadata": {
  "kernelspec": {
   "display_name": "Python 3",
   "language": "python",
   "name": "python3"
  },
  "language_info": {
   "codemirror_mode": {
    "name": "ipython",
    "version": 3
   },
   "file_extension": ".py",
   "mimetype": "text/x-python",
   "name": "python",
   "nbconvert_exporter": "python",
   "pygments_lexer": "ipython3",
   "version": "3.6.8"
  }
 },
 "nbformat": 4,
 "nbformat_minor": 2
}
