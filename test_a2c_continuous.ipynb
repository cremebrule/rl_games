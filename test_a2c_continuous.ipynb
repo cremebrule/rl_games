{
 "cells": [
  {
   "cell_type": "code",
   "execution_count": 1,
   "metadata": {},
   "outputs": [
    {
     "name": "stdout",
     "output_type": "stream",
     "text": [
      "robot lib not fouund\n",
      "\n",
      "WARNING: The TensorFlow contrib module will not be included in TensorFlow 2.0.\n",
      "For more information, please see:\n",
      "  * https://github.com/tensorflow/community/blob/master/rfcs/20180907-contrib-sunset.md\n",
      "  * https://github.com/tensorflow/addons\n",
      "If you depend on functionality not listed there, please file an issue.\n",
      "\n"
     ]
    }
   ],
   "source": [
    "import math\n",
    "from tensorboardX import SummaryWriter\n",
    "import roboschool\n",
    "import quadruppedEnv\n",
    "import env_configurations\n",
    "sess = None"
   ]
  },
  {
   "cell_type": "code",
   "execution_count": 2,
   "metadata": {},
   "outputs": [],
   "source": [
    "import tensorflow as tf\n",
    "import collections\n",
    "gpu_options = tf.GPUOptions(allow_growth=True,per_process_gpu_memory_fraction=0.8)\n",
    "\n",
    "config=tf.ConfigProto(gpu_options=gpu_options)\n",
    "sess = tf.InteractiveSession(config=config)"
   ]
  },
  {
   "cell_type": "code",
   "execution_count": 3,
   "metadata": {},
   "outputs": [
    {
     "name": "stdout",
     "output_type": "stream",
     "text": [
      "\u001b[33mWARN: gym.spaces.Box autodetected dtype as <class 'numpy.float32'>. Please provide explicit dtype.\u001b[0m\n",
      "\u001b[33mWARN: gym.spaces.Box autodetected dtype as <class 'numpy.float32'>. Please provide explicit dtype.\u001b[0m\n",
      "[-1. -1. -1. -1. -1. -1. -1. -1. -1. -1. -1. -1.]\n",
      "[1. 1. 1. 1. 1. 1. 1. 1. 1. 1. 1. 1.]\n"
     ]
    },
    {
     "name": "stderr",
     "output_type": "stream",
     "text": [
      "/home/trrrrr/anaconda3/envs/rl/lib/python3.6/site-packages/gym/envs/registration.py:14: PkgResourcesDeprecationWarning: Parameters to load are deprecated.  Call .resolve and .require separately.\n",
      "  result = entry_point.load(False)\n"
     ]
    }
   ],
   "source": [
    "import gym\n",
    "import wrappers\n",
    "\n",
    "env_name = 'QuadruppedWalk-v1'#'Pendulum-v0'#'QuadruppedWalk-v1' #'QuadruppedWalk-v1' #$'BipedalWalker-v2'#'RoboschoolAnt-v1'\n",
    "#'BipedalWalker-v2'#'RoboschoolAnt-v1' #'LunarLanderContinuous-v2'#'BipedalWalker-v2'#'LunarLander-v2' \n",
    "#'MountainCarContinuous-v0'#'CarRacing-v0'#'CartPole-v1' #'RoboschoolAnt-v1' #'CarRacing-v0' #'LunarLander-v2' #'Acrobot-v1' #\n",
    "obs_space, action_space = env_configurations.get_obs_and_action_spaces(env_name)\n",
    "print(action_space.low)\n",
    "print(action_space.high)"
   ]
  },
  {
   "cell_type": "code",
   "execution_count": null,
   "metadata": {},
   "outputs": [],
   "source": []
  },
  {
   "cell_type": "code",
   "execution_count": 4,
   "metadata": {},
   "outputs": [
    {
     "name": "stderr",
     "output_type": "stream",
     "text": [
      "2019-06-06 15:20:02,535\tINFO node.py:469 -- Process STDOUT and STDERR is being redirected to /tmp/ray/session_2019-06-06_15-20-02_11694/logs.\n",
      "2019-06-06 15:20:02,647\tINFO services.py:407 -- Waiting for redis server at 127.0.0.1:36482 to respond...\n",
      "2019-06-06 15:20:02,788\tINFO services.py:407 -- Waiting for redis server at 127.0.0.1:60315 to respond...\n",
      "2019-06-06 15:20:02,796\tINFO services.py:804 -- Starting Redis shard with 0.1 GB max memory.\n",
      "2019-06-06 15:20:02,862\tINFO node.py:483 -- Process STDOUT and STDERR is being redirected to /tmp/ray/session_2019-06-06_15-20-02_11694/logs.\n",
      "2019-06-06 15:20:02,865\tINFO services.py:1427 -- Starting the Plasma object store with 0.1 GB memory using /dev/shm.\n"
     ]
    },
    {
     "data": {
      "text/plain": [
       "{'node_ip_address': '192.168.3.104',\n",
       " 'redis_address': '192.168.3.104:36482',\n",
       " 'object_store_address': '/tmp/ray/session_2019-06-06_15-20-02_11694/sockets/plasma_store',\n",
       " 'raylet_socket_name': '/tmp/ray/session_2019-06-06_15-20-02_11694/sockets/raylet',\n",
       " 'webui_url': None}"
      ]
     },
     "execution_count": 4,
     "metadata": {},
     "output_type": "execute_result"
    }
   ],
   "source": [
    "import ray\n",
    "ray.init(redis_max_memory=1024*1024*100, object_store_memory=1024*1024*100)"
   ]
  },
  {
   "cell_type": "code",
   "execution_count": null,
   "metadata": {},
   "outputs": [
    {
     "name": "stdout",
     "output_type": "stream",
     "text": [
      "WARNING:tensorflow:From /home/trrrrr/Documents/github/ml/dqn_atari/networks.py:249: dense (from tensorflow.python.layers.core) is deprecated and will be removed in a future version.\n",
      "Instructions for updating:\n",
      "Use keras.layers.dense instead.\n",
      "WARNING:tensorflow:From /home/trrrrr/anaconda3/envs/rl/lib/python3.6/site-packages/tensorflow/python/framework/op_def_library.py:263: colocate_with (from tensorflow.python.framework.ops) is deprecated and will be removed in a future version.\n",
      "Instructions for updating:\n",
      "Colocations handled automatically by placer.\n",
      "WARNING:tensorflow:From /home/trrrrr/anaconda3/envs/rl/lib/python3.6/site-packages/tensorflow/python/ops/math_ops.py:3066: to_int32 (from tensorflow.python.ops.math_ops) is deprecated and will be removed in a future version.\n",
      "Instructions for updating:\n",
      "Use tf.cast instead.\n"
     ]
    },
    {
     "name": "stderr",
     "output_type": "stream",
     "text": [
      "2019-06-06 15:20:04,174\tERROR worker.py:1672 -- WARNING: 24 workers have been started. This could be a result of using a large number of actors, or it could be a consequence of using nested tasks (see https://github.com/ray-project/ray/issues/3644) for some a discussion of workarounds.\n"
     ]
    },
    {
     "name": "stdout",
     "output_type": "stream",
     "text": [
      "\u001b[2m\u001b[36m(pid=11794)\u001b[0m \n",
      "\u001b[2m\u001b[36m(pid=11794)\u001b[0m WARNING: The TensorFlow contrib module will not be included in TensorFlow 2.0.\n",
      "\u001b[2m\u001b[36m(pid=11794)\u001b[0m For more information, please see:\n",
      "\u001b[2m\u001b[36m(pid=11794)\u001b[0m   * https://github.com/tensorflow/community/blob/master/rfcs/20180907-contrib-sunset.md\n",
      "\u001b[2m\u001b[36m(pid=11794)\u001b[0m   * https://github.com/tensorflow/addons\n",
      "\u001b[2m\u001b[36m(pid=11794)\u001b[0m If you depend on functionality not listed there, please file an issue.\n",
      "\u001b[2m\u001b[36m(pid=11794)\u001b[0m \n",
      "\u001b[2m\u001b[36m(pid=11813)\u001b[0m \n",
      "\u001b[2m\u001b[36m(pid=11813)\u001b[0m WARNING: The TensorFlow contrib module will not be included in TensorFlow 2.0.\n",
      "\u001b[2m\u001b[36m(pid=11813)\u001b[0m For more information, please see:\n",
      "\u001b[2m\u001b[36m(pid=11813)\u001b[0m   * https://github.com/tensorflow/community/blob/master/rfcs/20180907-contrib-sunset.md\n",
      "\u001b[2m\u001b[36m(pid=11813)\u001b[0m   * https://github.com/tensorflow/addons\n",
      "\u001b[2m\u001b[36m(pid=11813)\u001b[0m If you depend on functionality not listed there, please file an issue.\n",
      "\u001b[2m\u001b[36m(pid=11813)\u001b[0m \n",
      "\u001b[2m\u001b[36m(pid=11813)\u001b[0m /home/trrrrr/anaconda3/envs/rl/lib/python3.6/site-packages/gym/envs/registration.py:14: PkgResourcesDeprecationWarning: Parameters to load are deprecated.  Call .resolve and .require separately.\n",
      "\u001b[2m\u001b[36m(pid=11813)\u001b[0m   result = entry_point.load(False)\n",
      "\u001b[2m\u001b[36m(pid=11813)\u001b[0m robot lib not fouund\n",
      "\u001b[2m\u001b[36m(pid=11813)\u001b[0m \u001b[33mWARN: gym.spaces.Box autodetected dtype as <class 'numpy.float32'>. Please provide explicit dtype.\u001b[0m\n",
      "\u001b[2m\u001b[36m(pid=11813)\u001b[0m \u001b[33mWARN: gym.spaces.Box autodetected dtype as <class 'numpy.float32'>. Please provide explicit dtype.\u001b[0m\n",
      "\u001b[2m\u001b[36m(pid=11788)\u001b[0m \n",
      "\u001b[2m\u001b[36m(pid=11788)\u001b[0m WARNING: The TensorFlow contrib module will not be included in TensorFlow 2.0.\n",
      "\u001b[2m\u001b[36m(pid=11788)\u001b[0m For more information, please see:\n",
      "\u001b[2m\u001b[36m(pid=11788)\u001b[0m   * https://github.com/tensorflow/community/blob/master/rfcs/20180907-contrib-sunset.md\n",
      "\u001b[2m\u001b[36m(pid=11788)\u001b[0m   * https://github.com/tensorflow/addons\n",
      "\u001b[2m\u001b[36m(pid=11788)\u001b[0m If you depend on functionality not listed there, please file an issue.\n",
      "\u001b[2m\u001b[36m(pid=11788)\u001b[0m \n",
      "\u001b[2m\u001b[36m(pid=11794)\u001b[0m /home/trrrrr/anaconda3/envs/rl/lib/python3.6/site-packages/gym/envs/registration.py:14: PkgResourcesDeprecationWarning: Parameters to load are deprecated.  Call .resolve and .require separately.\n",
      "\u001b[2m\u001b[36m(pid=11794)\u001b[0m   result = entry_point.load(False)\n",
      "\u001b[2m\u001b[36m(pid=11794)\u001b[0m robot lib not fouund\n",
      "\u001b[2m\u001b[36m(pid=11794)\u001b[0m \u001b[33mWARN: gym.spaces.Box autodetected dtype as <class 'numpy.float32'>. Please provide explicit dtype.\u001b[0m\n",
      "\u001b[2m\u001b[36m(pid=11794)\u001b[0m \u001b[33mWARN: gym.spaces.Box autodetected dtype as <class 'numpy.float32'>. Please provide explicit dtype.\u001b[0m\n",
      "\u001b[2m\u001b[36m(pid=11788)\u001b[0m /home/trrrrr/anaconda3/envs/rl/lib/python3.6/site-packages/gym/envs/registration.py:14: PkgResourcesDeprecationWarning: Parameters to load are deprecated.  Call .resolve and .require separately.\n",
      "\u001b[2m\u001b[36m(pid=11788)\u001b[0m   result = entry_point.load(False)\n",
      "\u001b[2m\u001b[36m(pid=11788)\u001b[0m robot lib not fouund\n",
      "\u001b[2m\u001b[36m(pid=11788)\u001b[0m \u001b[33mWARN: gym.spaces.Box autodetected dtype as <class 'numpy.float32'>. Please provide explicit dtype.\u001b[0m\n",
      "\u001b[2m\u001b[36m(pid=11788)\u001b[0m \u001b[33mWARN: gym.spaces.Box autodetected dtype as <class 'numpy.float32'>. Please provide explicit dtype.\u001b[0m\n",
      "\u001b[2m\u001b[36m(pid=11786)\u001b[0m \n",
      "\u001b[2m\u001b[36m(pid=11786)\u001b[0m WARNING: The TensorFlow contrib module will not be included in TensorFlow 2.0.\n",
      "\u001b[2m\u001b[36m(pid=11786)\u001b[0m For more information, please see:\n",
      "\u001b[2m\u001b[36m(pid=11786)\u001b[0m   * https://github.com/tensorflow/community/blob/master/rfcs/20180907-contrib-sunset.md\n",
      "\u001b[2m\u001b[36m(pid=11786)\u001b[0m   * https://github.com/tensorflow/addons\n",
      "\u001b[2m\u001b[36m(pid=11786)\u001b[0m If you depend on functionality not listed there, please file an issue.\n",
      "\u001b[2m\u001b[36m(pid=11786)\u001b[0m \n",
      "\u001b[2m\u001b[36m(pid=11789)\u001b[0m \n",
      "\u001b[2m\u001b[36m(pid=11789)\u001b[0m WARNING: The TensorFlow contrib module will not be included in TensorFlow 2.0.\n",
      "\u001b[2m\u001b[36m(pid=11789)\u001b[0m For more information, please see:\n",
      "\u001b[2m\u001b[36m(pid=11789)\u001b[0m   * https://github.com/tensorflow/community/blob/master/rfcs/20180907-contrib-sunset.md\n",
      "\u001b[2m\u001b[36m(pid=11789)\u001b[0m   * https://github.com/tensorflow/addons\n",
      "\u001b[2m\u001b[36m(pid=11789)\u001b[0m If you depend on functionality not listed there, please file an issue.\n",
      "\u001b[2m\u001b[36m(pid=11789)\u001b[0m \n",
      "\u001b[2m\u001b[36m(pid=11845)\u001b[0m \n",
      "\u001b[2m\u001b[36m(pid=11845)\u001b[0m WARNING: The TensorFlow contrib module will not be included in TensorFlow 2.0.\n",
      "\u001b[2m\u001b[36m(pid=11845)\u001b[0m For more information, please see:\n",
      "\u001b[2m\u001b[36m(pid=11845)\u001b[0m   * https://github.com/tensorflow/community/blob/master/rfcs/20180907-contrib-sunset.md\n",
      "\u001b[2m\u001b[36m(pid=11845)\u001b[0m   * https://github.com/tensorflow/addons\n",
      "\u001b[2m\u001b[36m(pid=11845)\u001b[0m If you depend on functionality not listed there, please file an issue.\n",
      "\u001b[2m\u001b[36m(pid=11845)\u001b[0m \n",
      "\u001b[2m\u001b[36m(pid=11817)\u001b[0m \n",
      "\u001b[2m\u001b[36m(pid=11817)\u001b[0m WARNING: The TensorFlow contrib module will not be included in TensorFlow 2.0.\n",
      "\u001b[2m\u001b[36m(pid=11817)\u001b[0m For more information, please see:\n",
      "\u001b[2m\u001b[36m(pid=11817)\u001b[0m   * https://github.com/tensorflow/community/blob/master/rfcs/20180907-contrib-sunset.md\n",
      "\u001b[2m\u001b[36m(pid=11817)\u001b[0m   * https://github.com/tensorflow/addons\n",
      "\u001b[2m\u001b[36m(pid=11817)\u001b[0m If you depend on functionality not listed there, please file an issue.\n",
      "\u001b[2m\u001b[36m(pid=11817)\u001b[0m \n",
      "\u001b[2m\u001b[36m(pid=11864)\u001b[0m \n",
      "\u001b[2m\u001b[36m(pid=11864)\u001b[0m WARNING: The TensorFlow contrib module will not be included in TensorFlow 2.0.\n",
      "\u001b[2m\u001b[36m(pid=11864)\u001b[0m For more information, please see:\n",
      "\u001b[2m\u001b[36m(pid=11864)\u001b[0m   * https://github.com/tensorflow/community/blob/master/rfcs/20180907-contrib-sunset.md\n",
      "\u001b[2m\u001b[36m(pid=11864)\u001b[0m   * https://github.com/tensorflow/addons\n",
      "\u001b[2m\u001b[36m(pid=11864)\u001b[0m If you depend on functionality not listed there, please file an issue.\n",
      "\u001b[2m\u001b[36m(pid=11864)\u001b[0m \n",
      "\u001b[2m\u001b[36m(pid=11789)\u001b[0m robot lib not fouund\n",
      "\u001b[2m\u001b[36m(pid=11789)\u001b[0m \u001b[33mWARN: gym.spaces.Box autodetected dtype as <class 'numpy.float32'>. Please provide explicit dtype.\u001b[0m\n",
      "\u001b[2m\u001b[36m(pid=11789)\u001b[0m \u001b[33mWARN: gym.spaces.Box autodetected dtype as <class 'numpy.float32'>. Please provide explicit dtype.\u001b[0m\n",
      "\u001b[2m\u001b[36m(pid=11789)\u001b[0m /home/trrrrr/anaconda3/envs/rl/lib/python3.6/site-packages/gym/envs/registration.py:14: PkgResourcesDeprecationWarning: Parameters to load are deprecated.  Call .resolve and .require separately.\n",
      "\u001b[2m\u001b[36m(pid=11789)\u001b[0m   result = entry_point.load(False)\n",
      "\u001b[2m\u001b[36m(pid=11817)\u001b[0m /home/trrrrr/anaconda3/envs/rl/lib/python3.6/site-packages/gym/envs/registration.py:14: PkgResourcesDeprecationWarning: Parameters to load are deprecated.  Call .resolve and .require separately.\n",
      "\u001b[2m\u001b[36m(pid=11817)\u001b[0m   result = entry_point.load(False)\n",
      "\u001b[2m\u001b[36m(pid=11817)\u001b[0m robot lib not fouund\n",
      "\u001b[2m\u001b[36m(pid=11817)\u001b[0m \u001b[33mWARN: gym.spaces.Box autodetected dtype as <class 'numpy.float32'>. Please provide explicit dtype.\u001b[0m\n",
      "\u001b[2m\u001b[36m(pid=11817)\u001b[0m \u001b[33mWARN: gym.spaces.Box autodetected dtype as <class 'numpy.float32'>. Please provide explicit dtype.\u001b[0m\n",
      "\u001b[2m\u001b[36m(pid=11845)\u001b[0m robot lib not fouund\n",
      "\u001b[2m\u001b[36m(pid=11845)\u001b[0m \u001b[33mWARN: gym.spaces.Box autodetected dtype as <class 'numpy.float32'>. Please provide explicit dtype.\u001b[0m\n",
      "\u001b[2m\u001b[36m(pid=11845)\u001b[0m \u001b[33mWARN: gym.spaces.Box autodetected dtype as <class 'numpy.float32'>. Please provide explicit dtype.\u001b[0m\n",
      "\u001b[2m\u001b[36m(pid=11845)\u001b[0m /home/trrrrr/anaconda3/envs/rl/lib/python3.6/site-packages/gym/envs/registration.py:14: PkgResourcesDeprecationWarning: Parameters to load are deprecated.  Call .resolve and .require separately.\n",
      "\u001b[2m\u001b[36m(pid=11845)\u001b[0m   result = entry_point.load(False)\n",
      "\u001b[2m\u001b[36m(pid=11786)\u001b[0m robot lib not fouund\n",
      "\u001b[2m\u001b[36m(pid=11786)\u001b[0m \u001b[33mWARN: gym.spaces.Box autodetected dtype as <class 'numpy.float32'>. Please provide explicit dtype.\u001b[0m\n",
      "\u001b[2m\u001b[36m(pid=11786)\u001b[0m \u001b[33mWARN: gym.spaces.Box autodetected dtype as <class 'numpy.float32'>. Please provide explicit dtype.\u001b[0m\n",
      "\u001b[2m\u001b[36m(pid=11786)\u001b[0m /home/trrrrr/anaconda3/envs/rl/lib/python3.6/site-packages/gym/envs/registration.py:14: PkgResourcesDeprecationWarning: Parameters to load are deprecated.  Call .resolve and .require separately.\n",
      "\u001b[2m\u001b[36m(pid=11786)\u001b[0m   result = entry_point.load(False)\n",
      "\u001b[2m\u001b[36m(pid=11791)\u001b[0m \n",
      "\u001b[2m\u001b[36m(pid=11791)\u001b[0m WARNING: The TensorFlow contrib module will not be included in TensorFlow 2.0.\n",
      "\u001b[2m\u001b[36m(pid=11791)\u001b[0m For more information, please see:\n",
      "\u001b[2m\u001b[36m(pid=11791)\u001b[0m   * https://github.com/tensorflow/community/blob/master/rfcs/20180907-contrib-sunset.md\n",
      "\u001b[2m\u001b[36m(pid=11791)\u001b[0m   * https://github.com/tensorflow/addons\n",
      "\u001b[2m\u001b[36m(pid=11791)\u001b[0m If you depend on functionality not listed there, please file an issue.\n",
      "\u001b[2m\u001b[36m(pid=11791)\u001b[0m \n",
      "\u001b[2m\u001b[36m(pid=11862)\u001b[0m \n",
      "\u001b[2m\u001b[36m(pid=11862)\u001b[0m WARNING: The TensorFlow contrib module will not be included in TensorFlow 2.0.\n",
      "\u001b[2m\u001b[36m(pid=11862)\u001b[0m For more information, please see:\n",
      "\u001b[2m\u001b[36m(pid=11862)\u001b[0m   * https://github.com/tensorflow/community/blob/master/rfcs/20180907-contrib-sunset.md\n",
      "\u001b[2m\u001b[36m(pid=11862)\u001b[0m   * https://github.com/tensorflow/addons\n",
      "\u001b[2m\u001b[36m(pid=11862)\u001b[0m If you depend on functionality not listed there, please file an issue.\n",
      "\u001b[2m\u001b[36m(pid=11862)\u001b[0m \n",
      "\u001b[2m\u001b[36m(pid=11807)\u001b[0m \n",
      "\u001b[2m\u001b[36m(pid=11807)\u001b[0m WARNING: The TensorFlow contrib module will not be included in TensorFlow 2.0.\n",
      "\u001b[2m\u001b[36m(pid=11807)\u001b[0m For more information, please see:\n",
      "\u001b[2m\u001b[36m(pid=11807)\u001b[0m   * https://github.com/tensorflow/community/blob/master/rfcs/20180907-contrib-sunset.md\n",
      "\u001b[2m\u001b[36m(pid=11807)\u001b[0m   * https://github.com/tensorflow/addons\n",
      "\u001b[2m\u001b[36m(pid=11807)\u001b[0m If you depend on functionality not listed there, please file an issue.\n",
      "\u001b[2m\u001b[36m(pid=11807)\u001b[0m \n",
      "\u001b[2m\u001b[36m(pid=11864)\u001b[0m /home/trrrrr/anaconda3/envs/rl/lib/python3.6/site-packages/gym/envs/registration.py:14: PkgResourcesDeprecationWarning: Parameters to load are deprecated.  Call .resolve and .require separately.\n",
      "\u001b[2m\u001b[36m(pid=11864)\u001b[0m   result = entry_point.load(False)\n",
      "\u001b[2m\u001b[36m(pid=11864)\u001b[0m robot lib not fouund\n",
      "\u001b[2m\u001b[36m(pid=11864)\u001b[0m \u001b[33mWARN: gym.spaces.Box autodetected dtype as <class 'numpy.float32'>. Please provide explicit dtype.\u001b[0m\n",
      "\u001b[2m\u001b[36m(pid=11864)\u001b[0m \u001b[33mWARN: gym.spaces.Box autodetected dtype as <class 'numpy.float32'>. Please provide explicit dtype.\u001b[0m\n",
      "\u001b[2m\u001b[36m(pid=11835)\u001b[0m \n",
      "\u001b[2m\u001b[36m(pid=11835)\u001b[0m WARNING: The TensorFlow contrib module will not be included in TensorFlow 2.0.\n",
      "\u001b[2m\u001b[36m(pid=11835)\u001b[0m For more information, please see:\n",
      "\u001b[2m\u001b[36m(pid=11835)\u001b[0m   * https://github.com/tensorflow/community/blob/master/rfcs/20180907-contrib-sunset.md\n",
      "\u001b[2m\u001b[36m(pid=11835)\u001b[0m   * https://github.com/tensorflow/addons\n",
      "\u001b[2m\u001b[36m(pid=11835)\u001b[0m If you depend on functionality not listed there, please file an issue.\n",
      "\u001b[2m\u001b[36m(pid=11835)\u001b[0m \n",
      "\u001b[2m\u001b[36m(pid=11862)\u001b[0m robot lib not fouund\n",
      "\u001b[2m\u001b[36m(pid=11862)\u001b[0m \u001b[33mWARN: gym.spaces.Box autodetected dtype as <class 'numpy.float32'>. Please provide explicit dtype.\u001b[0m\n",
      "\u001b[2m\u001b[36m(pid=11862)\u001b[0m \u001b[33mWARN: gym.spaces.Box autodetected dtype as <class 'numpy.float32'>. Please provide explicit dtype.\u001b[0m\n",
      "\u001b[2m\u001b[36m(pid=11862)\u001b[0m /home/trrrrr/anaconda3/envs/rl/lib/python3.6/site-packages/gym/envs/registration.py:14: PkgResourcesDeprecationWarning: Parameters to load are deprecated.  Call .resolve and .require separately.\n",
      "\u001b[2m\u001b[36m(pid=11862)\u001b[0m   result = entry_point.load(False)\n"
     ]
    },
    {
     "name": "stdout",
     "output_type": "stream",
     "text": [
      "\u001b[2m\u001b[36m(pid=11793)\u001b[0m \n",
      "\u001b[2m\u001b[36m(pid=11793)\u001b[0m WARNING: The TensorFlow contrib module will not be included in TensorFlow 2.0.\n",
      "\u001b[2m\u001b[36m(pid=11793)\u001b[0m For more information, please see:\n",
      "\u001b[2m\u001b[36m(pid=11793)\u001b[0m   * https://github.com/tensorflow/community/blob/master/rfcs/20180907-contrib-sunset.md\n",
      "\u001b[2m\u001b[36m(pid=11793)\u001b[0m   * https://github.com/tensorflow/addons\n",
      "\u001b[2m\u001b[36m(pid=11793)\u001b[0m If you depend on functionality not listed there, please file an issue.\n",
      "\u001b[2m\u001b[36m(pid=11793)\u001b[0m \n",
      "\u001b[2m\u001b[36m(pid=11792)\u001b[0m \n",
      "\u001b[2m\u001b[36m(pid=11792)\u001b[0m WARNING: The TensorFlow contrib module will not be included in TensorFlow 2.0.\n",
      "\u001b[2m\u001b[36m(pid=11792)\u001b[0m For more information, please see:\n",
      "\u001b[2m\u001b[36m(pid=11792)\u001b[0m   * https://github.com/tensorflow/community/blob/master/rfcs/20180907-contrib-sunset.md\n",
      "\u001b[2m\u001b[36m(pid=11792)\u001b[0m   * https://github.com/tensorflow/addons\n",
      "\u001b[2m\u001b[36m(pid=11792)\u001b[0m If you depend on functionality not listed there, please file an issue.\n",
      "\u001b[2m\u001b[36m(pid=11792)\u001b[0m \n",
      "\u001b[2m\u001b[36m(pid=11791)\u001b[0m /home/trrrrr/anaconda3/envs/rl/lib/python3.6/site-packages/gym/envs/registration.py:14: PkgResourcesDeprecationWarning: Parameters to load are deprecated.  Call .resolve and .require separately.\n",
      "\u001b[2m\u001b[36m(pid=11791)\u001b[0m   result = entry_point.load(False)\n",
      "\u001b[2m\u001b[36m(pid=11791)\u001b[0m robot lib not fouund\n",
      "\u001b[2m\u001b[36m(pid=11791)\u001b[0m \u001b[33mWARN: gym.spaces.Box autodetected dtype as <class 'numpy.float32'>. Please provide explicit dtype.\u001b[0m\n",
      "\u001b[2m\u001b[36m(pid=11791)\u001b[0m \u001b[33mWARN: gym.spaces.Box autodetected dtype as <class 'numpy.float32'>. Please provide explicit dtype.\u001b[0m\n",
      "\u001b[2m\u001b[36m(pid=11832)\u001b[0m \n",
      "\u001b[2m\u001b[36m(pid=11832)\u001b[0m WARNING: The TensorFlow contrib module will not be included in TensorFlow 2.0.\n",
      "\u001b[2m\u001b[36m(pid=11832)\u001b[0m For more information, please see:\n",
      "\u001b[2m\u001b[36m(pid=11832)\u001b[0m   * https://github.com/tensorflow/community/blob/master/rfcs/20180907-contrib-sunset.md\n",
      "\u001b[2m\u001b[36m(pid=11832)\u001b[0m   * https://github.com/tensorflow/addons\n",
      "\u001b[2m\u001b[36m(pid=11832)\u001b[0m If you depend on functionality not listed there, please file an issue.\n",
      "\u001b[2m\u001b[36m(pid=11832)\u001b[0m \n",
      "\u001b[2m\u001b[36m(pid=11790)\u001b[0m \n",
      "\u001b[2m\u001b[36m(pid=11790)\u001b[0m WARNING: The TensorFlow contrib module will not be included in TensorFlow 2.0.\n",
      "\u001b[2m\u001b[36m(pid=11790)\u001b[0m For more information, please see:\n",
      "\u001b[2m\u001b[36m(pid=11790)\u001b[0m   * https://github.com/tensorflow/community/blob/master/rfcs/20180907-contrib-sunset.md\n",
      "\u001b[2m\u001b[36m(pid=11790)\u001b[0m   * https://github.com/tensorflow/addons\n",
      "\u001b[2m\u001b[36m(pid=11790)\u001b[0m If you depend on functionality not listed there, please file an issue.\n",
      "\u001b[2m\u001b[36m(pid=11790)\u001b[0m \n",
      "\u001b[2m\u001b[36m(pid=11807)\u001b[0m /home/trrrrr/anaconda3/envs/rl/lib/python3.6/site-packages/gym/envs/registration.py:14: PkgResourcesDeprecationWarning: Parameters to load are deprecated.  Call .resolve and .require separately.\n",
      "\u001b[2m\u001b[36m(pid=11807)\u001b[0m   result = entry_point.load(False)\n",
      "\u001b[2m\u001b[36m(pid=11807)\u001b[0m robot lib not fouund\n",
      "\u001b[2m\u001b[36m(pid=11807)\u001b[0m \u001b[33mWARN: gym.spaces.Box autodetected dtype as <class 'numpy.float32'>. Please provide explicit dtype.\u001b[0m\n",
      "\u001b[2m\u001b[36m(pid=11807)\u001b[0m \u001b[33mWARN: gym.spaces.Box autodetected dtype as <class 'numpy.float32'>. Please provide explicit dtype.\u001b[0m\n",
      "\u001b[2m\u001b[36m(pid=11835)\u001b[0m /home/trrrrr/anaconda3/envs/rl/lib/python3.6/site-packages/gym/envs/registration.py:14: PkgResourcesDeprecationWarning: Parameters to load are deprecated.  Call .resolve and .require separately.\n",
      "\u001b[2m\u001b[36m(pid=11835)\u001b[0m   result = entry_point.load(False)\n",
      "\u001b[2m\u001b[36m(pid=11835)\u001b[0m robot lib not fouund\n",
      "\u001b[2m\u001b[36m(pid=11835)\u001b[0m \u001b[33mWARN: gym.spaces.Box autodetected dtype as <class 'numpy.float32'>. Please provide explicit dtype.\u001b[0m\n",
      "\u001b[2m\u001b[36m(pid=11835)\u001b[0m \u001b[33mWARN: gym.spaces.Box autodetected dtype as <class 'numpy.float32'>. Please provide explicit dtype.\u001b[0m\n",
      "\u001b[2m\u001b[36m(pid=11793)\u001b[0m robot lib not fouund\n",
      "\u001b[2m\u001b[36m(pid=11793)\u001b[0m \u001b[33mWARN: gym.spaces.Box autodetected dtype as <class 'numpy.float32'>. Please provide explicit dtype.\u001b[0m\n",
      "\u001b[2m\u001b[36m(pid=11793)\u001b[0m \u001b[33mWARN: gym.spaces.Box autodetected dtype as <class 'numpy.float32'>. Please provide explicit dtype.\u001b[0m\n",
      "\u001b[2m\u001b[36m(pid=11792)\u001b[0m robot lib not fouund\n",
      "\u001b[2m\u001b[36m(pid=11792)\u001b[0m \u001b[33mWARN: gym.spaces.Box autodetected dtype as <class 'numpy.float32'>. Please provide explicit dtype.\u001b[0m\n",
      "\u001b[2m\u001b[36m(pid=11792)\u001b[0m \u001b[33mWARN: gym.spaces.Box autodetected dtype as <class 'numpy.float32'>. Please provide explicit dtype.\u001b[0m\n",
      "\u001b[2m\u001b[36m(pid=11793)\u001b[0m /home/trrrrr/anaconda3/envs/rl/lib/python3.6/site-packages/gym/envs/registration.py:14: PkgResourcesDeprecationWarning: Parameters to load are deprecated.  Call .resolve and .require separately.\n",
      "\u001b[2m\u001b[36m(pid=11793)\u001b[0m   result = entry_point.load(False)\n",
      "\u001b[2m\u001b[36m(pid=11792)\u001b[0m /home/trrrrr/anaconda3/envs/rl/lib/python3.6/site-packages/gym/envs/registration.py:14: PkgResourcesDeprecationWarning: Parameters to load are deprecated.  Call .resolve and .require separately.\n",
      "\u001b[2m\u001b[36m(pid=11792)\u001b[0m   result = entry_point.load(False)\n",
      "\u001b[2m\u001b[36m(pid=11832)\u001b[0m robot lib not fouund\n",
      "\u001b[2m\u001b[36m(pid=11832)\u001b[0m \u001b[33mWARN: gym.spaces.Box autodetected dtype as <class 'numpy.float32'>. Please provide explicit dtype.\u001b[0m\n",
      "\u001b[2m\u001b[36m(pid=11832)\u001b[0m \u001b[33mWARN: gym.spaces.Box autodetected dtype as <class 'numpy.float32'>. Please provide explicit dtype.\u001b[0m\n",
      "\u001b[2m\u001b[36m(pid=11832)\u001b[0m /home/trrrrr/anaconda3/envs/rl/lib/python3.6/site-packages/gym/envs/registration.py:14: PkgResourcesDeprecationWarning: Parameters to load are deprecated.  Call .resolve and .require separately.\n",
      "\u001b[2m\u001b[36m(pid=11832)\u001b[0m   result = entry_point.load(False)\n",
      "\u001b[2m\u001b[36m(pid=11790)\u001b[0m robot lib not fouund\n",
      "\u001b[2m\u001b[36m(pid=11790)\u001b[0m \u001b[33mWARN: gym.spaces.Box autodetected dtype as <class 'numpy.float32'>. Please provide explicit dtype.\u001b[0m\n",
      "\u001b[2m\u001b[36m(pid=11790)\u001b[0m \u001b[33mWARN: gym.spaces.Box autodetected dtype as <class 'numpy.float32'>. Please provide explicit dtype.\u001b[0m\n",
      "\u001b[2m\u001b[36m(pid=11790)\u001b[0m /home/trrrrr/anaconda3/envs/rl/lib/python3.6/site-packages/gym/envs/registration.py:14: PkgResourcesDeprecationWarning: Parameters to load are deprecated.  Call .resolve and .require separately.\n",
      "\u001b[2m\u001b[36m(pid=11790)\u001b[0m   result = entry_point.load(False)\n",
      "Frames per seconds:  838.3259578630157\n",
      "saving next best rewards:  17.492376565480523\n",
      "Frames per seconds:  839.7766403937106\n",
      "saving next best rewards:  38.29378230631402\n",
      "Frames per seconds:  923.9484189766897\n",
      "saving next best rewards:  51.46601944943054\n",
      "Frames per seconds:  912.4082564122527\n",
      "saving next best rewards:  91.0589793564358\n",
      "Frames per seconds:  971.1898236621292\n",
      "Frames per seconds:  870.5785085873241\n",
      "saving next best rewards:  106.81839659126767\n"
     ]
    }
   ],
   "source": [
    "from a2c_continuous import A2CAgent\n",
    "import tr_helpers\n",
    "import networks\n",
    "import a2c_games_configurations\n",
    "\n",
    "#a2c_config = a2c_games_configurations.bipedalwalker_config\n",
    "#a2c_config = a2c_games_configurations.roboschoolant_config\n",
    "#a2c_config = a2c_games_configurations.pendulum_config\n",
    "a2c_config = a2c_games_configurations.quadrupped_config\n",
    "agent = A2CAgent(sess,'car', obs_space, False, action_space, a2c_config)\n",
    "#agent.restore('nn/latest')\n",
    "agent.train()\n"
   ]
  },
  {
   "cell_type": "code",
   "execution_count": null,
   "metadata": {},
   "outputs": [],
   "source": [
    "ray.shutdown()"
   ]
  },
  {
   "cell_type": "code",
   "execution_count": null,
   "metadata": {},
   "outputs": [],
   "source": [
    "import numpy as np\n",
    "#agent.restore('nn/latest')\n",
    "#agent.restore('nn/rob_20QuadruppedWalk-v1')\n",
    "#agent.restore('nn/ppo_continuousQuadruppedWalk-v1')\n",
    "env = env_configurations.a2c_configurations[env_name]['ENV_CREATOR']()\n",
    "def evaluate(env,t_max=5000):\n",
    "    rewards = []\n",
    "    #env._max_episode_steps = 5000\n",
    "    env.batch_mode = False\n",
    "    print('reset')\n",
    "    #env = env.old_env\n",
    "    s = env.reset()\n",
    "    reward = 0\n",
    "    for it in range(5000):\n",
    "        action = agent.get_action([s], False)\n",
    "        \n",
    "        #ad = agent.get_action_distribution([s])\n",
    "        #print(ad)\n",
    "        s, r, done, _ = env.step(np.squeeze(action, axis = 0))\n",
    "        print(action)\n",
    "        env.render()\n",
    "        reward += r\n",
    "        \n",
    "            \n",
    "        if done:\n",
    "            break       \n",
    "        \n",
    "    return reward\n",
    "\n",
    "import gym.wrappers\n",
    "\n",
    "#env_monitor = wrappers.make_atari_deepmind(env_name, noop_max=30, skip=4)\n",
    "#env_monitor = wrappers.ReallyDoneWrapper(env_monitor)\n",
    "#env_monitor = gym.wrappers.Monitor(env,directory='video_ppo',force=True)\n",
    "\n",
    "sessions = [print('reward:', evaluate(env)) for _ in range(1)]\n",
    "#env_monitor.close()\n",
    "\n",
    "\n"
   ]
  },
  {
   "cell_type": "code",
   "execution_count": null,
   "metadata": {
    "scrolled": true
   },
   "outputs": [],
   "source": [
    "obs = env.reset()\n",
    "obs, r, done, _ = env.step(2)\n",
    "\n",
    "done = False\n",
    "for _ in range(130):\n",
    "    obs, _, done, _ = env.step(1)\n",
    "    #env.render()\n",
    "    obs = np.array(obs)\n",
    "    if done:\n",
    "        print('done')\n",
    "        break\n",
    "plt.title(\"what your network gonna see\")\n",
    "print (obs.shape)\n",
    "plt.imshow(obs[:,:,0],interpolation='none',cmap='gray');"
   ]
  },
  {
   "cell_type": "code",
   "execution_count": null,
   "metadata": {},
   "outputs": [],
   "source": [
    "import gym\n",
    "gym.envs.registry.all()"
   ]
  },
  {
   "cell_type": "code",
   "execution_count": null,
   "metadata": {},
   "outputs": [],
   "source": []
  },
  {
   "cell_type": "code",
   "execution_count": null,
   "metadata": {},
   "outputs": [],
   "source": []
  }
 ],
 "metadata": {
  "kernelspec": {
   "display_name": "Python 3",
   "language": "python",
   "name": "python3"
  },
  "language_info": {
   "codemirror_mode": {
    "name": "ipython",
    "version": 3
   },
   "file_extension": ".py",
   "mimetype": "text/x-python",
   "name": "python",
   "nbconvert_exporter": "python",
   "pygments_lexer": "ipython3",
   "version": "3.6.8"
  }
 },
 "nbformat": 4,
 "nbformat_minor": 2
}
