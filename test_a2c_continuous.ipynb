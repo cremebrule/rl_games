{
 "cells": [
  {
   "cell_type": "code",
   "execution_count": 1,
   "metadata": {},
   "outputs": [
    {
     "name": "stdout",
     "output_type": "stream",
     "text": [
      "\n",
      "WARNING: The TensorFlow contrib module will not be included in TensorFlow 2.0.\n",
      "For more information, please see:\n",
      "  * https://github.com/tensorflow/community/blob/master/rfcs/20180907-contrib-sunset.md\n",
      "  * https://github.com/tensorflow/addons\n",
      "If you depend on functionality not listed there, please file an issue.\n",
      "\n"
     ]
    }
   ],
   "source": [
    "import math\n",
    "from tensorboardX import SummaryWriter\n",
    "import env_configurations\n",
    "sess = None"
   ]
  },
  {
   "cell_type": "code",
   "execution_count": 2,
   "metadata": {},
   "outputs": [],
   "source": [
    "import tensorflow as tf\n",
    "import collections\n",
    "gpu_options = tf.GPUOptions(allow_growth=True,per_process_gpu_memory_fraction=0.8)\n",
    "\n",
    "config=tf.ConfigProto(gpu_options=gpu_options)\n",
    "sess = tf.InteractiveSession(config=config)"
   ]
  },
  {
   "cell_type": "code",
   "execution_count": 3,
   "metadata": {},
   "outputs": [
    {
     "name": "stdout",
     "output_type": "stream",
     "text": [
      "\u001b[33mWARN: gym.spaces.Box autodetected dtype as <class 'numpy.float32'>. Please provide explicit dtype.\u001b[0m\n",
      "\u001b[33mWARN: gym.spaces.Box autodetected dtype as <class 'numpy.float32'>. Please provide explicit dtype.\u001b[0m\n",
      "[-1. -1. -1. -1.]\n",
      "[1. 1. 1. 1.]\n"
     ]
    },
    {
     "name": "stderr",
     "output_type": "stream",
     "text": [
      "/home/trrrrr/anaconda3/envs/rl/lib/python3.6/site-packages/gym/envs/registration.py:14: PkgResourcesDeprecationWarning: Parameters to load are deprecated.  Call .resolve and .require separately.\n",
      "  result = entry_point.load(False)\n"
     ]
    }
   ],
   "source": [
    "import gym\n",
    "import wrappers\n",
    "import games_configurations\n",
    "env_name = 'BipedalWalker-v2'#'RoboschoolHalfCheetah-v1'#'BipedalWalker-v2'#'Pendulum-v0'#'QuadruppedWalk-v1' #'QuadruppedWalk-v1' #$'BipedalWalker-v2'#'RoboschoolAnt-v1'\n",
    "#'BipedalWalker-v2'#'RoboschoolAnt-v1' #'LunarLanderContinuous-v2'#'BipedalWalker-v2'#'LunarLander-v2' \n",
    "#'MountainCarContinuous-v0'#'CarRacing-v0'#'CartPole-v1' #'RoboschoolAnt-v1' #'CarRacing-v0' #'LunarLander-v2' #'Acrobot-v1' #\n",
    "#a2c_config = games_configurations.pendulum_lstm_config\n",
    "#a2c_config = games_configurations.halfcheetah_lstm_config_v2\n",
    "#a2c_config = games_configurations.roboschoolant_config\n",
    "#a2c_config = a2c_games_configurations.pendulum_config\n",
    "#a2c_config = games_configurations.quadrupped_lstm_config\n",
    "#a2c_config = games_configurations.roboschoolhumanoid_config\n",
    "a2c_config = games_configurations.bipedalwalker_lstm_config\n",
    "obs_space, action_space = env_configurations.get_obs_and_action_spaces(env_name)\n",
    "print(action_space.low)\n",
    "print(action_space.high)"
   ]
  },
  {
   "cell_type": "code",
   "execution_count": null,
   "metadata": {},
   "outputs": [],
   "source": []
  },
  {
   "cell_type": "code",
   "execution_count": 4,
   "metadata": {},
   "outputs": [
    {
     "name": "stderr",
     "output_type": "stream",
     "text": [
      "2019-07-04 21:49:05,129\tINFO node.py:469 -- Process STDOUT and STDERR is being redirected to /tmp/ray/session_2019-07-04_21-49-05_23531/logs.\n",
      "2019-07-04 21:49:05,241\tINFO services.py:407 -- Waiting for redis server at 127.0.0.1:24693 to respond...\n",
      "2019-07-04 21:49:05,381\tINFO services.py:407 -- Waiting for redis server at 127.0.0.1:59777 to respond...\n",
      "2019-07-04 21:49:05,386\tINFO services.py:804 -- Starting Redis shard with 0.1 GB max memory.\n",
      "2019-07-04 21:49:05,436\tINFO node.py:483 -- Process STDOUT and STDERR is being redirected to /tmp/ray/session_2019-07-04_21-49-05_23531/logs.\n",
      "2019-07-04 21:49:05,440\tINFO services.py:1427 -- Starting the Plasma object store with 0.1 GB memory using /dev/shm.\n"
     ]
    },
    {
     "data": {
      "text/plain": [
       "{'node_ip_address': '192.168.3.106',\n",
       " 'redis_address': '192.168.3.106:24693',\n",
       " 'object_store_address': '/tmp/ray/session_2019-07-04_21-49-05_23531/sockets/plasma_store',\n",
       " 'raylet_socket_name': '/tmp/ray/session_2019-07-04_21-49-05_23531/sockets/raylet',\n",
       " 'webui_url': None}"
      ]
     },
     "execution_count": 4,
     "metadata": {},
     "output_type": "execute_result"
    }
   ],
   "source": [
    "import ray\n",
    "ray.init(redis_max_memory=1024*1024*100, object_store_memory=1024*1024*100)"
   ]
  },
  {
   "cell_type": "code",
   "execution_count": null,
   "metadata": {},
   "outputs": [
    {
     "name": "stdout",
     "output_type": "stream",
     "text": [
      "WARNING:tensorflow:From /home/trrrrr/anaconda3/envs/rl/lib/python3.6/site-packages/tensorflow/python/framework/op_def_library.py:263: colocate_with (from tensorflow.python.framework.ops) is deprecated and will be removed in a future version.\n",
      "Instructions for updating:\n",
      "Colocations handled automatically by placer.\n",
      "WARNING:tensorflow:From /home/trrrrr/Documents/github/ml/dqn_atari/networks.py:465: dense (from tensorflow.python.layers.core) is deprecated and will be removed in a future version.\n",
      "Instructions for updating:\n",
      "Use keras.layers.dense instead.\n",
      "WARNING:tensorflow:From /home/trrrrr/Documents/github/ml/dqn_atari/networks.py:128: to_float (from tensorflow.python.ops.math_ops) is deprecated and will be removed in a future version.\n",
      "Instructions for updating:\n",
      "Use tf.cast instead.\n",
      "0\n",
      "1\n",
      "2\n",
      "3\n"
     ]
    },
    {
     "name": "stderr",
     "output_type": "stream",
     "text": [
      "2019-07-04 21:49:06,671\tERROR worker.py:1672 -- WARNING: 24 workers have been started. This could be a result of using a large number of actors, or it could be a consequence of using nested tasks (see https://github.com/ray-project/ray/issues/3644) for some a discussion of workarounds.\n"
     ]
    },
    {
     "name": "stdout",
     "output_type": "stream",
     "text": [
      "4\n",
      "5\n",
      "6\n",
      "7\n",
      "0\n",
      "1\n",
      "2\n",
      "3\n",
      "4\n",
      "5\n",
      "6\n",
      "7\n",
      "0\n",
      "0\n",
      "WARNING:tensorflow:From /home/trrrrr/anaconda3/envs/rl/lib/python3.6/site-packages/tensorflow/python/ops/math_ops.py:3066: to_int32 (from tensorflow.python.ops.math_ops) is deprecated and will be removed in a future version.\n",
      "Instructions for updating:\n",
      "Use tf.cast instead.\n",
      "\u001b[2m\u001b[36m(pid=23623)\u001b[0m \n",
      "\u001b[2m\u001b[36m(pid=23623)\u001b[0m WARNING: The TensorFlow contrib module will not be included in TensorFlow 2.0.\n",
      "\u001b[2m\u001b[36m(pid=23623)\u001b[0m For more information, please see:\n",
      "\u001b[2m\u001b[36m(pid=23623)\u001b[0m   * https://github.com/tensorflow/community/blob/master/rfcs/20180907-contrib-sunset.md\n",
      "\u001b[2m\u001b[36m(pid=23623)\u001b[0m   * https://github.com/tensorflow/addons\n",
      "\u001b[2m\u001b[36m(pid=23623)\u001b[0m If you depend on functionality not listed there, please file an issue.\n",
      "\u001b[2m\u001b[36m(pid=23623)\u001b[0m \n",
      "\u001b[2m\u001b[36m(pid=23618)\u001b[0m \n",
      "\u001b[2m\u001b[36m(pid=23618)\u001b[0m WARNING: The TensorFlow contrib module will not be included in TensorFlow 2.0.\n",
      "\u001b[2m\u001b[36m(pid=23618)\u001b[0m For more information, please see:\n",
      "\u001b[2m\u001b[36m(pid=23618)\u001b[0m   * https://github.com/tensorflow/community/blob/master/rfcs/20180907-contrib-sunset.md\n",
      "\u001b[2m\u001b[36m(pid=23618)\u001b[0m   * https://github.com/tensorflow/addons\n",
      "\u001b[2m\u001b[36m(pid=23618)\u001b[0m If you depend on functionality not listed there, please file an issue.\n",
      "\u001b[2m\u001b[36m(pid=23618)\u001b[0m \n",
      "\u001b[2m\u001b[36m(pid=23619)\u001b[0m \n",
      "\u001b[2m\u001b[36m(pid=23619)\u001b[0m WARNING: The TensorFlow contrib module will not be included in TensorFlow 2.0.\n",
      "\u001b[2m\u001b[36m(pid=23619)\u001b[0m For more information, please see:\n",
      "\u001b[2m\u001b[36m(pid=23619)\u001b[0m   * https://github.com/tensorflow/community/blob/master/rfcs/20180907-contrib-sunset.md\n",
      "\u001b[2m\u001b[36m(pid=23619)\u001b[0m   * https://github.com/tensorflow/addons\n",
      "\u001b[2m\u001b[36m(pid=23619)\u001b[0m If you depend on functionality not listed there, please file an issue.\n",
      "\u001b[2m\u001b[36m(pid=23619)\u001b[0m \n",
      "\u001b[2m\u001b[36m(pid=23616)\u001b[0m \n",
      "\u001b[2m\u001b[36m(pid=23616)\u001b[0m WARNING: The TensorFlow contrib module will not be included in TensorFlow 2.0.\n",
      "\u001b[2m\u001b[36m(pid=23616)\u001b[0m For more information, please see:\n",
      "\u001b[2m\u001b[36m(pid=23616)\u001b[0m   * https://github.com/tensorflow/community/blob/master/rfcs/20180907-contrib-sunset.md\n",
      "\u001b[2m\u001b[36m(pid=23616)\u001b[0m   * https://github.com/tensorflow/addons\n",
      "\u001b[2m\u001b[36m(pid=23616)\u001b[0m If you depend on functionality not listed there, please file an issue.\n",
      "\u001b[2m\u001b[36m(pid=23616)\u001b[0m \n",
      "\u001b[2m\u001b[36m(pid=23614)\u001b[0m \n",
      "\u001b[2m\u001b[36m(pid=23614)\u001b[0m WARNING: The TensorFlow contrib module will not be included in TensorFlow 2.0.\n",
      "\u001b[2m\u001b[36m(pid=23614)\u001b[0m For more information, please see:\n",
      "\u001b[2m\u001b[36m(pid=23614)\u001b[0m   * https://github.com/tensorflow/community/blob/master/rfcs/20180907-contrib-sunset.md\n",
      "\u001b[2m\u001b[36m(pid=23614)\u001b[0m   * https://github.com/tensorflow/addons\n",
      "\u001b[2m\u001b[36m(pid=23614)\u001b[0m If you depend on functionality not listed there, please file an issue.\n",
      "\u001b[2m\u001b[36m(pid=23614)\u001b[0m \n",
      "\u001b[2m\u001b[36m(pid=23623)\u001b[0m \u001b[33mWARN: gym.spaces.Box autodetected dtype as <class 'numpy.float32'>. Please provide explicit dtype.\u001b[0m\n",
      "\u001b[2m\u001b[36m(pid=23623)\u001b[0m \u001b[33mWARN: gym.spaces.Box autodetected dtype as <class 'numpy.float32'>. Please provide explicit dtype.\u001b[0m\n",
      "\u001b[2m\u001b[36m(pid=23623)\u001b[0m /home/trrrrr/anaconda3/envs/rl/lib/python3.6/site-packages/gym/envs/registration.py:14: PkgResourcesDeprecationWarning: Parameters to load are deprecated.  Call .resolve and .require separately.\n",
      "\u001b[2m\u001b[36m(pid=23623)\u001b[0m   result = entry_point.load(False)\n",
      "\u001b[2m\u001b[36m(pid=23618)\u001b[0m /home/trrrrr/anaconda3/envs/rl/lib/python3.6/site-packages/gym/envs/registration.py:14: PkgResourcesDeprecationWarning: Parameters to load are deprecated.  Call .resolve and .require separately.\n",
      "\u001b[2m\u001b[36m(pid=23618)\u001b[0m   result = entry_point.load(False)\n",
      "\u001b[2m\u001b[36m(pid=23622)\u001b[0m \n",
      "\u001b[2m\u001b[36m(pid=23622)\u001b[0m WARNING: The TensorFlow contrib module will not be included in TensorFlow 2.0.\n",
      "\u001b[2m\u001b[36m(pid=23622)\u001b[0m For more information, please see:\n",
      "\u001b[2m\u001b[36m(pid=23622)\u001b[0m   * https://github.com/tensorflow/community/blob/master/rfcs/20180907-contrib-sunset.md\n",
      "\u001b[2m\u001b[36m(pid=23622)\u001b[0m   * https://github.com/tensorflow/addons\n",
      "\u001b[2m\u001b[36m(pid=23622)\u001b[0m If you depend on functionality not listed there, please file an issue.\n",
      "\u001b[2m\u001b[36m(pid=23622)\u001b[0m \n",
      "\u001b[2m\u001b[36m(pid=23618)\u001b[0m \u001b[33mWARN: gym.spaces.Box autodetected dtype as <class 'numpy.float32'>. Please provide explicit dtype.\u001b[0m\n",
      "\u001b[2m\u001b[36m(pid=23618)\u001b[0m \u001b[33mWARN: gym.spaces.Box autodetected dtype as <class 'numpy.float32'>. Please provide explicit dtype.\u001b[0m\n",
      "\u001b[2m\u001b[36m(pid=23614)\u001b[0m /home/trrrrr/anaconda3/envs/rl/lib/python3.6/site-packages/gym/envs/registration.py:14: PkgResourcesDeprecationWarning: Parameters to load are deprecated.  Call .resolve and .require separately.\n",
      "\u001b[2m\u001b[36m(pid=23614)\u001b[0m   result = entry_point.load(False)\n",
      "\u001b[2m\u001b[36m(pid=23617)\u001b[0m \n",
      "\u001b[2m\u001b[36m(pid=23617)\u001b[0m WARNING: The TensorFlow contrib module will not be included in TensorFlow 2.0.\n",
      "\u001b[2m\u001b[36m(pid=23617)\u001b[0m For more information, please see:\n",
      "\u001b[2m\u001b[36m(pid=23617)\u001b[0m   * https://github.com/tensorflow/community/blob/master/rfcs/20180907-contrib-sunset.md\n",
      "\u001b[2m\u001b[36m(pid=23617)\u001b[0m   * https://github.com/tensorflow/addons\n",
      "\u001b[2m\u001b[36m(pid=23617)\u001b[0m If you depend on functionality not listed there, please file an issue.\n",
      "\u001b[2m\u001b[36m(pid=23617)\u001b[0m \n",
      "\u001b[2m\u001b[36m(pid=23619)\u001b[0m /home/trrrrr/anaconda3/envs/rl/lib/python3.6/site-packages/gym/envs/registration.py:14: PkgResourcesDeprecationWarning: Parameters to load are deprecated.  Call .resolve and .require separately.\n",
      "\u001b[2m\u001b[36m(pid=23619)\u001b[0m   result = entry_point.load(False)\n",
      "\u001b[2m\u001b[36m(pid=23616)\u001b[0m \u001b[33mWARN: gym.spaces.Box autodetected dtype as <class 'numpy.float32'>. Please provide explicit dtype.\u001b[0m\n",
      "\u001b[2m\u001b[36m(pid=23616)\u001b[0m \u001b[33mWARN: gym.spaces.Box autodetected dtype as <class 'numpy.float32'>. Please provide explicit dtype.\u001b[0m\n",
      "\u001b[2m\u001b[36m(pid=23614)\u001b[0m \u001b[33mWARN: gym.spaces.Box autodetected dtype as <class 'numpy.float32'>. Please provide explicit dtype.\u001b[0m\n",
      "\u001b[2m\u001b[36m(pid=23614)\u001b[0m \u001b[33mWARN: gym.spaces.Box autodetected dtype as <class 'numpy.float32'>. Please provide explicit dtype.\u001b[0m\n",
      "\u001b[2m\u001b[36m(pid=23616)\u001b[0m /home/trrrrr/anaconda3/envs/rl/lib/python3.6/site-packages/gym/envs/registration.py:14: PkgResourcesDeprecationWarning: Parameters to load are deprecated.  Call .resolve and .require separately.\n",
      "\u001b[2m\u001b[36m(pid=23616)\u001b[0m   result = entry_point.load(False)\n",
      "\u001b[2m\u001b[36m(pid=23619)\u001b[0m \u001b[33mWARN: gym.spaces.Box autodetected dtype as <class 'numpy.float32'>. Please provide explicit dtype.\u001b[0m\n",
      "\u001b[2m\u001b[36m(pid=23619)\u001b[0m \u001b[33mWARN: gym.spaces.Box autodetected dtype as <class 'numpy.float32'>. Please provide explicit dtype.\u001b[0m\n",
      "\u001b[2m\u001b[36m(pid=23622)\u001b[0m /home/trrrrr/anaconda3/envs/rl/lib/python3.6/site-packages/gym/envs/registration.py:14: PkgResourcesDeprecationWarning: Parameters to load are deprecated.  Call .resolve and .require separately.\n",
      "\u001b[2m\u001b[36m(pid=23622)\u001b[0m   result = entry_point.load(False)\n",
      "\u001b[2m\u001b[36m(pid=23622)\u001b[0m \u001b[33mWARN: gym.spaces.Box autodetected dtype as <class 'numpy.float32'>. Please provide explicit dtype.\u001b[0m\n",
      "\u001b[2m\u001b[36m(pid=23622)\u001b[0m \u001b[33mWARN: gym.spaces.Box autodetected dtype as <class 'numpy.float32'>. Please provide explicit dtype.\u001b[0m\n",
      "\u001b[2m\u001b[36m(pid=23620)\u001b[0m \n",
      "\u001b[2m\u001b[36m(pid=23620)\u001b[0m WARNING: The TensorFlow contrib module will not be included in TensorFlow 2.0.\n",
      "\u001b[2m\u001b[36m(pid=23620)\u001b[0m For more information, please see:\n",
      "\u001b[2m\u001b[36m(pid=23620)\u001b[0m   * https://github.com/tensorflow/community/blob/master/rfcs/20180907-contrib-sunset.md\n",
      "\u001b[2m\u001b[36m(pid=23620)\u001b[0m   * https://github.com/tensorflow/addons\n",
      "\u001b[2m\u001b[36m(pid=23620)\u001b[0m If you depend on functionality not listed there, please file an issue.\n",
      "\u001b[2m\u001b[36m(pid=23620)\u001b[0m \n",
      "\u001b[2m\u001b[36m(pid=23617)\u001b[0m /home/trrrrr/anaconda3/envs/rl/lib/python3.6/site-packages/gym/envs/registration.py:14: PkgResourcesDeprecationWarning: Parameters to load are deprecated.  Call .resolve and .require separately.\n",
      "\u001b[2m\u001b[36m(pid=23617)\u001b[0m   result = entry_point.load(False)\n",
      "\u001b[2m\u001b[36m(pid=23617)\u001b[0m \u001b[33mWARN: gym.spaces.Box autodetected dtype as <class 'numpy.float32'>. Please provide explicit dtype.\u001b[0m\n",
      "\u001b[2m\u001b[36m(pid=23617)\u001b[0m \u001b[33mWARN: gym.spaces.Box autodetected dtype as <class 'numpy.float32'>. Please provide explicit dtype.\u001b[0m\n",
      "\u001b[2m\u001b[36m(pid=23620)\u001b[0m \u001b[33mWARN: gym.spaces.Box autodetected dtype as <class 'numpy.float32'>. Please provide explicit dtype.\u001b[0m\n",
      "\u001b[2m\u001b[36m(pid=23620)\u001b[0m \u001b[33mWARN: gym.spaces.Box autodetected dtype as <class 'numpy.float32'>. Please provide explicit dtype.\u001b[0m\n",
      "\u001b[2m\u001b[36m(pid=23620)\u001b[0m /home/trrrrr/anaconda3/envs/rl/lib/python3.6/site-packages/gym/envs/registration.py:14: PkgResourcesDeprecationWarning: Parameters to load are deprecated.  Call .resolve and .require separately.\n",
      "\u001b[2m\u001b[36m(pid=23620)\u001b[0m   result = entry_point.load(False)\n",
      "\u001b[2m\u001b[36m(pid=23662)\u001b[0m \n",
      "\u001b[2m\u001b[36m(pid=23662)\u001b[0m WARNING: The TensorFlow contrib module will not be included in TensorFlow 2.0.\n",
      "\u001b[2m\u001b[36m(pid=23662)\u001b[0m For more information, please see:\n",
      "\u001b[2m\u001b[36m(pid=23662)\u001b[0m   * https://github.com/tensorflow/community/blob/master/rfcs/20180907-contrib-sunset.md\n",
      "\u001b[2m\u001b[36m(pid=23662)\u001b[0m   * https://github.com/tensorflow/addons\n",
      "\u001b[2m\u001b[36m(pid=23662)\u001b[0m If you depend on functionality not listed there, please file an issue.\n",
      "\u001b[2m\u001b[36m(pid=23662)\u001b[0m \n",
      "\u001b[2m\u001b[36m(pid=23641)\u001b[0m \n",
      "\u001b[2m\u001b[36m(pid=23641)\u001b[0m WARNING: The TensorFlow contrib module will not be included in TensorFlow 2.0.\n",
      "\u001b[2m\u001b[36m(pid=23641)\u001b[0m For more information, please see:\n",
      "\u001b[2m\u001b[36m(pid=23641)\u001b[0m   * https://github.com/tensorflow/community/blob/master/rfcs/20180907-contrib-sunset.md\n",
      "\u001b[2m\u001b[36m(pid=23641)\u001b[0m   * https://github.com/tensorflow/addons\n",
      "\u001b[2m\u001b[36m(pid=23641)\u001b[0m If you depend on functionality not listed there, please file an issue.\n",
      "\u001b[2m\u001b[36m(pid=23641)\u001b[0m \n"
     ]
    },
    {
     "name": "stdout",
     "output_type": "stream",
     "text": [
      "\u001b[2m\u001b[36m(pid=23650)\u001b[0m \n",
      "\u001b[2m\u001b[36m(pid=23650)\u001b[0m WARNING: The TensorFlow contrib module will not be included in TensorFlow 2.0.\n",
      "\u001b[2m\u001b[36m(pid=23650)\u001b[0m For more information, please see:\n",
      "\u001b[2m\u001b[36m(pid=23650)\u001b[0m   * https://github.com/tensorflow/community/blob/master/rfcs/20180907-contrib-sunset.md\n",
      "\u001b[2m\u001b[36m(pid=23650)\u001b[0m   * https://github.com/tensorflow/addons\n",
      "\u001b[2m\u001b[36m(pid=23650)\u001b[0m If you depend on functionality not listed there, please file an issue.\n",
      "\u001b[2m\u001b[36m(pid=23650)\u001b[0m \n",
      "\u001b[2m\u001b[36m(pid=23654)\u001b[0m \n",
      "\u001b[2m\u001b[36m(pid=23654)\u001b[0m WARNING: The TensorFlow contrib module will not be included in TensorFlow 2.0.\n",
      "\u001b[2m\u001b[36m(pid=23654)\u001b[0m For more information, please see:\n",
      "\u001b[2m\u001b[36m(pid=23654)\u001b[0m   * https://github.com/tensorflow/community/blob/master/rfcs/20180907-contrib-sunset.md\n",
      "\u001b[2m\u001b[36m(pid=23654)\u001b[0m   * https://github.com/tensorflow/addons\n",
      "\u001b[2m\u001b[36m(pid=23654)\u001b[0m If you depend on functionality not listed there, please file an issue.\n",
      "\u001b[2m\u001b[36m(pid=23654)\u001b[0m \n",
      "\u001b[2m\u001b[36m(pid=23641)\u001b[0m /home/trrrrr/anaconda3/envs/rl/lib/python3.6/site-packages/gym/envs/registration.py:14: PkgResourcesDeprecationWarning: Parameters to load are deprecated.  Call .resolve and .require separately.\n",
      "\u001b[2m\u001b[36m(pid=23641)\u001b[0m   result = entry_point.load(False)\n",
      "\u001b[2m\u001b[36m(pid=23636)\u001b[0m \n",
      "\u001b[2m\u001b[36m(pid=23636)\u001b[0m WARNING: The TensorFlow contrib module will not be included in TensorFlow 2.0.\n",
      "\u001b[2m\u001b[36m(pid=23636)\u001b[0m For more information, please see:\n",
      "\u001b[2m\u001b[36m(pid=23636)\u001b[0m   * https://github.com/tensorflow/community/blob/master/rfcs/20180907-contrib-sunset.md\n",
      "\u001b[2m\u001b[36m(pid=23636)\u001b[0m   * https://github.com/tensorflow/addons\n",
      "\u001b[2m\u001b[36m(pid=23636)\u001b[0m If you depend on functionality not listed there, please file an issue.\n",
      "\u001b[2m\u001b[36m(pid=23636)\u001b[0m \n",
      "\u001b[2m\u001b[36m(pid=23662)\u001b[0m \u001b[33mWARN: gym.spaces.Box autodetected dtype as <class 'numpy.float32'>. Please provide explicit dtype.\u001b[0m\n",
      "\u001b[2m\u001b[36m(pid=23662)\u001b[0m \u001b[33mWARN: gym.spaces.Box autodetected dtype as <class 'numpy.float32'>. Please provide explicit dtype.\u001b[0m\n",
      "\u001b[2m\u001b[36m(pid=23662)\u001b[0m /home/trrrrr/anaconda3/envs/rl/lib/python3.6/site-packages/gym/envs/registration.py:14: PkgResourcesDeprecationWarning: Parameters to load are deprecated.  Call .resolve and .require separately.\n",
      "\u001b[2m\u001b[36m(pid=23662)\u001b[0m   result = entry_point.load(False)\n",
      "\u001b[2m\u001b[36m(pid=23641)\u001b[0m \u001b[33mWARN: gym.spaces.Box autodetected dtype as <class 'numpy.float32'>. Please provide explicit dtype.\u001b[0m\n",
      "\u001b[2m\u001b[36m(pid=23641)\u001b[0m \u001b[33mWARN: gym.spaces.Box autodetected dtype as <class 'numpy.float32'>. Please provide explicit dtype.\u001b[0m\n",
      "\u001b[2m\u001b[36m(pid=23650)\u001b[0m \u001b[33mWARN: gym.spaces.Box autodetected dtype as <class 'numpy.float32'>. Please provide explicit dtype.\u001b[0m\n",
      "\u001b[2m\u001b[36m(pid=23650)\u001b[0m \u001b[33mWARN: gym.spaces.Box autodetected dtype as <class 'numpy.float32'>. Please provide explicit dtype.\u001b[0m\n",
      "\u001b[2m\u001b[36m(pid=23650)\u001b[0m /home/trrrrr/anaconda3/envs/rl/lib/python3.6/site-packages/gym/envs/registration.py:14: PkgResourcesDeprecationWarning: Parameters to load are deprecated.  Call .resolve and .require separately.\n",
      "\u001b[2m\u001b[36m(pid=23650)\u001b[0m   result = entry_point.load(False)\n",
      "\u001b[2m\u001b[36m(pid=23654)\u001b[0m /home/trrrrr/anaconda3/envs/rl/lib/python3.6/site-packages/gym/envs/registration.py:14: PkgResourcesDeprecationWarning: Parameters to load are deprecated.  Call .resolve and .require separately.\n",
      "\u001b[2m\u001b[36m(pid=23654)\u001b[0m   result = entry_point.load(False)\n",
      "\u001b[2m\u001b[36m(pid=23657)\u001b[0m \n",
      "\u001b[2m\u001b[36m(pid=23657)\u001b[0m WARNING: The TensorFlow contrib module will not be included in TensorFlow 2.0.\n",
      "\u001b[2m\u001b[36m(pid=23657)\u001b[0m For more information, please see:\n",
      "\u001b[2m\u001b[36m(pid=23657)\u001b[0m   * https://github.com/tensorflow/community/blob/master/rfcs/20180907-contrib-sunset.md\n",
      "\u001b[2m\u001b[36m(pid=23657)\u001b[0m   * https://github.com/tensorflow/addons\n",
      "\u001b[2m\u001b[36m(pid=23657)\u001b[0m If you depend on functionality not listed there, please file an issue.\n",
      "\u001b[2m\u001b[36m(pid=23657)\u001b[0m \n",
      "\u001b[2m\u001b[36m(pid=23654)\u001b[0m \u001b[33mWARN: gym.spaces.Box autodetected dtype as <class 'numpy.float32'>. Please provide explicit dtype.\u001b[0m\n",
      "\u001b[2m\u001b[36m(pid=23654)\u001b[0m \u001b[33mWARN: gym.spaces.Box autodetected dtype as <class 'numpy.float32'>. Please provide explicit dtype.\u001b[0m\n",
      "\u001b[2m\u001b[36m(pid=23636)\u001b[0m /home/trrrrr/anaconda3/envs/rl/lib/python3.6/site-packages/gym/envs/registration.py:14: PkgResourcesDeprecationWarning: Parameters to load are deprecated.  Call .resolve and .require separately.\n",
      "\u001b[2m\u001b[36m(pid=23636)\u001b[0m   result = entry_point.load(False)\n",
      "\u001b[2m\u001b[36m(pid=23646)\u001b[0m \n",
      "\u001b[2m\u001b[36m(pid=23646)\u001b[0m WARNING: The TensorFlow contrib module will not be included in TensorFlow 2.0.\n",
      "\u001b[2m\u001b[36m(pid=23646)\u001b[0m For more information, please see:\n",
      "\u001b[2m\u001b[36m(pid=23646)\u001b[0m   * https://github.com/tensorflow/community/blob/master/rfcs/20180907-contrib-sunset.md\n",
      "\u001b[2m\u001b[36m(pid=23646)\u001b[0m   * https://github.com/tensorflow/addons\n",
      "\u001b[2m\u001b[36m(pid=23646)\u001b[0m If you depend on functionality not listed there, please file an issue.\n",
      "\u001b[2m\u001b[36m(pid=23646)\u001b[0m \n",
      "\u001b[2m\u001b[36m(pid=23660)\u001b[0m \n",
      "\u001b[2m\u001b[36m(pid=23660)\u001b[0m WARNING: The TensorFlow contrib module will not be included in TensorFlow 2.0.\n",
      "\u001b[2m\u001b[36m(pid=23660)\u001b[0m For more information, please see:\n",
      "\u001b[2m\u001b[36m(pid=23660)\u001b[0m   * https://github.com/tensorflow/community/blob/master/rfcs/20180907-contrib-sunset.md\n",
      "\u001b[2m\u001b[36m(pid=23660)\u001b[0m   * https://github.com/tensorflow/addons\n",
      "\u001b[2m\u001b[36m(pid=23660)\u001b[0m If you depend on functionality not listed there, please file an issue.\n",
      "\u001b[2m\u001b[36m(pid=23660)\u001b[0m \n",
      "\u001b[2m\u001b[36m(pid=23636)\u001b[0m \u001b[33mWARN: gym.spaces.Box autodetected dtype as <class 'numpy.float32'>. Please provide explicit dtype.\u001b[0m\n",
      "\u001b[2m\u001b[36m(pid=23636)\u001b[0m \u001b[33mWARN: gym.spaces.Box autodetected dtype as <class 'numpy.float32'>. Please provide explicit dtype.\u001b[0m\n",
      "\u001b[2m\u001b[36m(pid=23657)\u001b[0m \u001b[33mWARN: gym.spaces.Box autodetected dtype as <class 'numpy.float32'>. Please provide explicit dtype.\u001b[0m\n",
      "\u001b[2m\u001b[36m(pid=23657)\u001b[0m \u001b[33mWARN: gym.spaces.Box autodetected dtype as <class 'numpy.float32'>. Please provide explicit dtype.\u001b[0m\n",
      "\u001b[2m\u001b[36m(pid=23657)\u001b[0m /home/trrrrr/anaconda3/envs/rl/lib/python3.6/site-packages/gym/envs/registration.py:14: PkgResourcesDeprecationWarning: Parameters to load are deprecated.  Call .resolve and .require separately.\n",
      "\u001b[2m\u001b[36m(pid=23657)\u001b[0m   result = entry_point.load(False)\n",
      "\u001b[2m\u001b[36m(pid=23646)\u001b[0m /home/trrrrr/anaconda3/envs/rl/lib/python3.6/site-packages/gym/envs/registration.py:14: PkgResourcesDeprecationWarning: Parameters to load are deprecated.  Call .resolve and .require separately.\n",
      "\u001b[2m\u001b[36m(pid=23646)\u001b[0m   result = entry_point.load(False)\n",
      "\u001b[2m\u001b[36m(pid=23646)\u001b[0m \u001b[33mWARN: gym.spaces.Box autodetected dtype as <class 'numpy.float32'>. Please provide explicit dtype.\u001b[0m\n",
      "\u001b[2m\u001b[36m(pid=23646)\u001b[0m \u001b[33mWARN: gym.spaces.Box autodetected dtype as <class 'numpy.float32'>. Please provide explicit dtype.\u001b[0m\n",
      "\u001b[2m\u001b[36m(pid=23660)\u001b[0m /home/trrrrr/anaconda3/envs/rl/lib/python3.6/site-packages/gym/envs/registration.py:14: PkgResourcesDeprecationWarning: Parameters to load are deprecated.  Call .resolve and .require separately.\n",
      "\u001b[2m\u001b[36m(pid=23660)\u001b[0m   result = entry_point.load(False)\n",
      "\u001b[2m\u001b[36m(pid=23660)\u001b[0m \u001b[33mWARN: gym.spaces.Box autodetected dtype as <class 'numpy.float32'>. Please provide explicit dtype.\u001b[0m\n",
      "\u001b[2m\u001b[36m(pid=23660)\u001b[0m \u001b[33mWARN: gym.spaces.Box autodetected dtype as <class 'numpy.float32'>. Please provide explicit dtype.\u001b[0m\n",
      "Frames per seconds:  724.408195910478\n",
      "saving next best rewards:  -105.06320445192952\n",
      "Frames per seconds:  926.0893753129214\n",
      "Frames per seconds:  1007.8610938602723\n",
      "Frames per seconds:  1014.080310341632\n",
      "Frames per seconds:  891.0213092636114\n",
      "Frames per seconds:  901.116700012085\n",
      "Frames per seconds:  912.6100284600508\n",
      "Frames per seconds:  917.4796686452621\n",
      "Frames per seconds:  898.5362421442858\n",
      "Frames per seconds:  915.5022886665708\n",
      "Frames per seconds:  916.0112187168857\n",
      "Frames per seconds:  943.6903265951427\n",
      "Frames per seconds:  896.8887113427842\n",
      "Frames per seconds:  931.5204288106389\n",
      "Frames per seconds:  929.6928842777887\n",
      "Frames per seconds:  904.7143763368731\n",
      "Frames per seconds:  928.7474045150658\n",
      "Frames per seconds:  912.6736368972005\n",
      "Frames per seconds:  946.2821175994171\n",
      "Frames per seconds:  924.5395205983915\n",
      "Frames per seconds:  937.4208020170743\n",
      "Frames per seconds:  902.462174254901\n"
     ]
    },
    {
     "name": "stdout",
     "output_type": "stream",
     "text": [
      "Frames per seconds:  901.741885914611\n",
      "Frames per seconds:  909.3407464399938\n",
      "Frames per seconds:  924.4310688258699\n",
      "Frames per seconds:  943.8390182944644\n",
      "Frames per seconds:  751.7675723507408\n",
      "Frames per seconds:  847.3713376188881\n",
      "Frames per seconds:  905.9498357307438\n",
      "Frames per seconds:  873.76231409014\n",
      "Frames per seconds:  947.7115836833494\n",
      "Frames per seconds:  924.8755841215203\n",
      "Frames per seconds:  964.9761098629734\n",
      "Frames per seconds:  977.6152393508266\n",
      "Frames per seconds:  972.0949577650382\n",
      "Frames per seconds:  931.5817502287761\n",
      "Frames per seconds:  1033.7915939707468\n",
      "Frames per seconds:  991.7905433263938\n",
      "Frames per seconds:  924.2184180380405\n",
      "Frames per seconds:  986.4660866110038\n",
      "Frames per seconds:  1027.9358462627067\n",
      "Frames per seconds:  968.8857393032339\n",
      "Frames per seconds:  1049.1988337314986\n",
      "saving next best rewards:  -104.44658392548862\n"
     ]
    }
   ],
   "source": [
    "from a2c_continuous import A2CAgent\n",
    "import tr_helpers\n",
    "import networks\n",
    "\n",
    "\n",
    "\n",
    "agent = A2CAgent(sess,'hard', obs_space, False, action_space, a2c_config)\n",
    "#agent.restore('nn/hardRoboschoolHalfCheetah-v1')\n",
    "agent.train()\n",
    "#agent.save('nn/latest')"
   ]
  },
  {
   "cell_type": "code",
   "execution_count": null,
   "metadata": {},
   "outputs": [],
   "source": [
    "\n",
    "ray.shutdown()"
   ]
  },
  {
   "cell_type": "code",
   "execution_count": null,
   "metadata": {},
   "outputs": [],
   "source": []
  },
  {
   "cell_type": "code",
   "execution_count": null,
   "metadata": {},
   "outputs": [],
   "source": [
    "\n"
   ]
  },
  {
   "cell_type": "code",
   "execution_count": null,
   "metadata": {
    "scrolled": true
   },
   "outputs": [],
   "source": []
  },
  {
   "cell_type": "code",
   "execution_count": null,
   "metadata": {},
   "outputs": [],
   "source": [
    "import gym\n",
    "gym.envs.registry.all()"
   ]
  },
  {
   "cell_type": "code",
   "execution_count": null,
   "metadata": {},
   "outputs": [],
   "source": []
  },
  {
   "cell_type": "code",
   "execution_count": null,
   "metadata": {},
   "outputs": [],
   "source": []
  }
 ],
 "metadata": {
  "kernelspec": {
   "display_name": "Python 3",
   "language": "python",
   "name": "python3"
  },
  "language_info": {
   "codemirror_mode": {
    "name": "ipython",
    "version": 3
   },
   "file_extension": ".py",
   "mimetype": "text/x-python",
   "name": "python",
   "nbconvert_exporter": "python",
   "pygments_lexer": "ipython3",
   "version": "3.6.8"
  }
 },
 "nbformat": 4,
 "nbformat_minor": 2
}
