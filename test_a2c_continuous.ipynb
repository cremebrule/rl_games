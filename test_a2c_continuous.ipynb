{
 "cells": [
  {
   "cell_type": "code",
   "execution_count": 1,
   "metadata": {},
   "outputs": [
    {
     "name": "stdout",
     "output_type": "stream",
     "text": [
      "\n",
      "WARNING: The TensorFlow contrib module will not be included in TensorFlow 2.0.\n",
      "For more information, please see:\n",
      "  * https://github.com/tensorflow/community/blob/master/rfcs/20180907-contrib-sunset.md\n",
      "  * https://github.com/tensorflow/addons\n",
      "If you depend on functionality not listed there, please file an issue.\n",
      "\n"
     ]
    }
   ],
   "source": [
    "import math\n",
    "from tensorboardX import SummaryWriter\n",
    "import env_configurations\n",
    "sess = None"
   ]
  },
  {
   "cell_type": "code",
   "execution_count": 2,
   "metadata": {},
   "outputs": [],
   "source": [
    "import tensorflow as tf\n",
    "import collections\n",
    "gpu_options = tf.GPUOptions(allow_growth=True,per_process_gpu_memory_fraction=0.8)\n",
    "\n",
    "config=tf.ConfigProto(gpu_options=gpu_options)\n",
    "sess = tf.InteractiveSession(config=config)"
   ]
  },
  {
   "cell_type": "code",
   "execution_count": 3,
   "metadata": {},
   "outputs": [
    {
     "name": "stdout",
     "output_type": "stream",
     "text": [
      "robot lib not fouund\n",
      "\u001b[33mWARN: gym.spaces.Box autodetected dtype as <class 'numpy.float32'>. Please provide explicit dtype.\u001b[0m\n",
      "\u001b[33mWARN: gym.spaces.Box autodetected dtype as <class 'numpy.float32'>. Please provide explicit dtype.\u001b[0m\n",
      "[-1. -1. -1. -1. -1. -1. -1. -1. -1. -1. -1. -1.]\n",
      "[1. 1. 1. 1. 1. 1. 1. 1. 1. 1. 1. 1.]\n"
     ]
    },
    {
     "name": "stderr",
     "output_type": "stream",
     "text": [
      "/home/trrrrr/anaconda3/envs/rl/lib/python3.6/site-packages/gym/envs/registration.py:14: PkgResourcesDeprecationWarning: Parameters to load are deprecated.  Call .resolve and .require separately.\n",
      "  result = entry_point.load(False)\n"
     ]
    }
   ],
   "source": [
    "import gym\n",
    "import wrappers\n",
    "import games_configurations\n",
    "env_name = 'QuadruppedWalk-v1'#'BipedalWalker-v2'#'Pendulum-v0'#'QuadruppedWalk-v1' #'QuadruppedWalk-v1' #$'BipedalWalker-v2'#'RoboschoolAnt-v1'\n",
    "#'BipedalWalker-v2'#'RoboschoolAnt-v1' #'LunarLanderContinuous-v2'#'BipedalWalker-v2'#'LunarLander-v2' \n",
    "#'MountainCarContinuous-v0'#'CarRacing-v0'#'CartPole-v1' #'RoboschoolAnt-v1' #'CarRacing-v0' #'LunarLander-v2' #'Acrobot-v1' #\n",
    "#a2c_config = games_configurations.pendulum_lstm_config\n",
    "#a2c_config = games_configurations.bipedalwalker_lstm_config\n",
    "#a2c_config = games_configurations.roboschoolant_config\n",
    "#a2c_config = a2c_games_configurations.pendulum_config\n",
    "a2c_config = games_configurations.quadrupped_lstm_config\n",
    "#a2c_config = a2c_games_configurations.mountain_car_cont_config\n",
    "obs_space, action_space = env_configurations.get_obs_and_action_spaces(env_name)\n",
    "print(action_space.low)\n",
    "print(action_space.high)"
   ]
  },
  {
   "cell_type": "code",
   "execution_count": null,
   "metadata": {},
   "outputs": [],
   "source": []
  },
  {
   "cell_type": "code",
   "execution_count": 4,
   "metadata": {},
   "outputs": [
    {
     "name": "stderr",
     "output_type": "stream",
     "text": [
      "2019-06-30 18:17:54,324\tINFO node.py:469 -- Process STDOUT and STDERR is being redirected to /tmp/ray/session_2019-06-30_18-17-54_19155/logs.\n",
      "2019-06-30 18:17:54,442\tINFO services.py:407 -- Waiting for redis server at 127.0.0.1:62905 to respond...\n",
      "2019-06-30 18:17:54,589\tINFO services.py:407 -- Waiting for redis server at 127.0.0.1:29424 to respond...\n",
      "2019-06-30 18:17:54,593\tINFO services.py:804 -- Starting Redis shard with 0.1 GB max memory.\n",
      "2019-06-30 18:17:54,645\tINFO node.py:483 -- Process STDOUT and STDERR is being redirected to /tmp/ray/session_2019-06-30_18-17-54_19155/logs.\n",
      "2019-06-30 18:17:54,647\tINFO services.py:1427 -- Starting the Plasma object store with 0.1 GB memory using /dev/shm.\n"
     ]
    },
    {
     "data": {
      "text/plain": [
       "{'node_ip_address': '192.168.3.106',\n",
       " 'redis_address': '192.168.3.106:62905',\n",
       " 'object_store_address': '/tmp/ray/session_2019-06-30_18-17-54_19155/sockets/plasma_store',\n",
       " 'raylet_socket_name': '/tmp/ray/session_2019-06-30_18-17-54_19155/sockets/raylet',\n",
       " 'webui_url': None}"
      ]
     },
     "execution_count": 4,
     "metadata": {},
     "output_type": "execute_result"
    }
   ],
   "source": [
    "import ray\n",
    "ray.init(redis_max_memory=1024*1024*100, object_store_memory=1024*1024*100)"
   ]
  },
  {
   "cell_type": "code",
   "execution_count": null,
   "metadata": {},
   "outputs": [
    {
     "name": "stdout",
     "output_type": "stream",
     "text": [
      "4\n",
      "WARNING:tensorflow:From /home/trrrrr/Documents/github/ml/dqn_atari/networks.py:439: dense (from tensorflow.python.layers.core) is deprecated and will be removed in a future version.\n",
      "Instructions for updating:\n",
      "Use keras.layers.dense instead.\n",
      "WARNING:tensorflow:From /home/trrrrr/anaconda3/envs/rl/lib/python3.6/site-packages/tensorflow/python/framework/op_def_library.py:263: colocate_with (from tensorflow.python.framework.ops) is deprecated and will be removed in a future version.\n",
      "Instructions for updating:\n",
      "Colocations handled automatically by placer.\n"
     ]
    },
    {
     "name": "stderr",
     "output_type": "stream",
     "text": [
      "2019-06-30 18:17:55,835\tERROR worker.py:1672 -- WARNING: 24 workers have been started. This could be a result of using a large number of actors, or it could be a consequence of using nested tasks (see https://github.com/ray-project/ray/issues/3644) for some a discussion of workarounds.\n"
     ]
    },
    {
     "name": "stdout",
     "output_type": "stream",
     "text": [
      "\u001b[2m\u001b[36m(pid=19241)\u001b[0m \n",
      "\u001b[2m\u001b[36m(pid=19241)\u001b[0m WARNING: The TensorFlow contrib module will not be included in TensorFlow 2.0.\n",
      "\u001b[2m\u001b[36m(pid=19241)\u001b[0m For more information, please see:\n",
      "\u001b[2m\u001b[36m(pid=19241)\u001b[0m   * https://github.com/tensorflow/community/blob/master/rfcs/20180907-contrib-sunset.md\n",
      "\u001b[2m\u001b[36m(pid=19241)\u001b[0m   * https://github.com/tensorflow/addons\n",
      "\u001b[2m\u001b[36m(pid=19241)\u001b[0m If you depend on functionality not listed there, please file an issue.\n",
      "\u001b[2m\u001b[36m(pid=19241)\u001b[0m \n",
      "\u001b[2m\u001b[36m(pid=19241)\u001b[0m robot lib not fouund\n",
      "\u001b[2m\u001b[36m(pid=19241)\u001b[0m \u001b[33mWARN: gym.spaces.Box autodetected dtype as <class 'numpy.float32'>. Please provide explicit dtype.\u001b[0m\n",
      "\u001b[2m\u001b[36m(pid=19241)\u001b[0m \u001b[33mWARN: gym.spaces.Box autodetected dtype as <class 'numpy.float32'>. Please provide explicit dtype.\u001b[0m\n",
      "\u001b[2m\u001b[36m(pid=19241)\u001b[0m /home/trrrrr/anaconda3/envs/rl/lib/python3.6/site-packages/gym/envs/registration.py:14: PkgResourcesDeprecationWarning: Parameters to load are deprecated.  Call .resolve and .require separately.\n",
      "\u001b[2m\u001b[36m(pid=19241)\u001b[0m   result = entry_point.load(False)\n",
      "\u001b[2m\u001b[36m(pid=19244)\u001b[0m \n",
      "\u001b[2m\u001b[36m(pid=19244)\u001b[0m WARNING: The TensorFlow contrib module will not be included in TensorFlow 2.0.\n",
      "\u001b[2m\u001b[36m(pid=19244)\u001b[0m For more information, please see:\n",
      "\u001b[2m\u001b[36m(pid=19244)\u001b[0m   * https://github.com/tensorflow/community/blob/master/rfcs/20180907-contrib-sunset.md\n",
      "\u001b[2m\u001b[36m(pid=19244)\u001b[0m   * https://github.com/tensorflow/addons\n",
      "\u001b[2m\u001b[36m(pid=19244)\u001b[0m If you depend on functionality not listed there, please file an issue.\n",
      "\u001b[2m\u001b[36m(pid=19244)\u001b[0m \n",
      "\u001b[2m\u001b[36m(pid=19247)\u001b[0m \n",
      "\u001b[2m\u001b[36m(pid=19247)\u001b[0m WARNING: The TensorFlow contrib module will not be included in TensorFlow 2.0.\n",
      "\u001b[2m\u001b[36m(pid=19247)\u001b[0m For more information, please see:\n",
      "\u001b[2m\u001b[36m(pid=19247)\u001b[0m   * https://github.com/tensorflow/community/blob/master/rfcs/20180907-contrib-sunset.md\n",
      "\u001b[2m\u001b[36m(pid=19247)\u001b[0m   * https://github.com/tensorflow/addons\n",
      "\u001b[2m\u001b[36m(pid=19247)\u001b[0m If you depend on functionality not listed there, please file an issue.\n",
      "\u001b[2m\u001b[36m(pid=19247)\u001b[0m \n",
      "\u001b[2m\u001b[36m(pid=19281)\u001b[0m \n",
      "\u001b[2m\u001b[36m(pid=19281)\u001b[0m WARNING: The TensorFlow contrib module will not be included in TensorFlow 2.0.\n",
      "\u001b[2m\u001b[36m(pid=19281)\u001b[0m For more information, please see:\n",
      "\u001b[2m\u001b[36m(pid=19281)\u001b[0m   * https://github.com/tensorflow/community/blob/master/rfcs/20180907-contrib-sunset.md\n",
      "\u001b[2m\u001b[36m(pid=19281)\u001b[0m   * https://github.com/tensorflow/addons\n",
      "\u001b[2m\u001b[36m(pid=19281)\u001b[0m If you depend on functionality not listed there, please file an issue.\n",
      "\u001b[2m\u001b[36m(pid=19281)\u001b[0m \n",
      "\u001b[2m\u001b[36m(pid=19243)\u001b[0m \n",
      "\u001b[2m\u001b[36m(pid=19243)\u001b[0m WARNING: The TensorFlow contrib module will not be included in TensorFlow 2.0.\n",
      "\u001b[2m\u001b[36m(pid=19243)\u001b[0m For more information, please see:\n",
      "\u001b[2m\u001b[36m(pid=19243)\u001b[0m   * https://github.com/tensorflow/community/blob/master/rfcs/20180907-contrib-sunset.md\n",
      "\u001b[2m\u001b[36m(pid=19243)\u001b[0m   * https://github.com/tensorflow/addons\n",
      "\u001b[2m\u001b[36m(pid=19243)\u001b[0m If you depend on functionality not listed there, please file an issue.\n",
      "\u001b[2m\u001b[36m(pid=19243)\u001b[0m \n",
      "\u001b[2m\u001b[36m(pid=19245)\u001b[0m \n",
      "\u001b[2m\u001b[36m(pid=19245)\u001b[0m WARNING: The TensorFlow contrib module will not be included in TensorFlow 2.0.\n",
      "\u001b[2m\u001b[36m(pid=19245)\u001b[0m For more information, please see:\n",
      "\u001b[2m\u001b[36m(pid=19245)\u001b[0m   * https://github.com/tensorflow/community/blob/master/rfcs/20180907-contrib-sunset.md\n",
      "\u001b[2m\u001b[36m(pid=19245)\u001b[0m   * https://github.com/tensorflow/addons\n",
      "\u001b[2m\u001b[36m(pid=19245)\u001b[0m If you depend on functionality not listed there, please file an issue.\n",
      "\u001b[2m\u001b[36m(pid=19245)\u001b[0m \n",
      "\u001b[2m\u001b[36m(pid=19281)\u001b[0m /home/trrrrr/anaconda3/envs/rl/lib/python3.6/site-packages/gym/envs/registration.py:14: PkgResourcesDeprecationWarning: Parameters to load are deprecated.  Call .resolve and .require separately.\n",
      "\u001b[2m\u001b[36m(pid=19281)\u001b[0m   result = entry_point.load(False)\n",
      "\u001b[2m\u001b[36m(pid=19281)\u001b[0m robot lib not fouund\n",
      "\u001b[2m\u001b[36m(pid=19281)\u001b[0m \u001b[33mWARN: gym.spaces.Box autodetected dtype as <class 'numpy.float32'>. Please provide explicit dtype.\u001b[0m\n",
      "\u001b[2m\u001b[36m(pid=19281)\u001b[0m \u001b[33mWARN: gym.spaces.Box autodetected dtype as <class 'numpy.float32'>. Please provide explicit dtype.\u001b[0m\n",
      "\u001b[2m\u001b[36m(pid=19247)\u001b[0m /home/trrrrr/anaconda3/envs/rl/lib/python3.6/site-packages/gym/envs/registration.py:14: PkgResourcesDeprecationWarning: Parameters to load are deprecated.  Call .resolve and .require separately.\n",
      "\u001b[2m\u001b[36m(pid=19247)\u001b[0m   result = entry_point.load(False)\n",
      "\u001b[2m\u001b[36m(pid=19247)\u001b[0m robot lib not fouund\n",
      "\u001b[2m\u001b[36m(pid=19247)\u001b[0m \u001b[33mWARN: gym.spaces.Box autodetected dtype as <class 'numpy.float32'>. Please provide explicit dtype.\u001b[0m\n",
      "\u001b[2m\u001b[36m(pid=19247)\u001b[0m \u001b[33mWARN: gym.spaces.Box autodetected dtype as <class 'numpy.float32'>. Please provide explicit dtype.\u001b[0m\n",
      "\u001b[2m\u001b[36m(pid=19248)\u001b[0m \n",
      "\u001b[2m\u001b[36m(pid=19248)\u001b[0m WARNING: The TensorFlow contrib module will not be included in TensorFlow 2.0.\n",
      "\u001b[2m\u001b[36m(pid=19248)\u001b[0m For more information, please see:\n",
      "\u001b[2m\u001b[36m(pid=19248)\u001b[0m   * https://github.com/tensorflow/community/blob/master/rfcs/20180907-contrib-sunset.md\n",
      "\u001b[2m\u001b[36m(pid=19248)\u001b[0m   * https://github.com/tensorflow/addons\n",
      "\u001b[2m\u001b[36m(pid=19248)\u001b[0m If you depend on functionality not listed there, please file an issue.\n",
      "\u001b[2m\u001b[36m(pid=19248)\u001b[0m \n",
      "\u001b[2m\u001b[36m(pid=19275)\u001b[0m \n",
      "\u001b[2m\u001b[36m(pid=19275)\u001b[0m WARNING: The TensorFlow contrib module will not be included in TensorFlow 2.0.\n",
      "\u001b[2m\u001b[36m(pid=19275)\u001b[0m For more information, please see:\n",
      "\u001b[2m\u001b[36m(pid=19275)\u001b[0m   * https://github.com/tensorflow/community/blob/master/rfcs/20180907-contrib-sunset.md\n",
      "\u001b[2m\u001b[36m(pid=19275)\u001b[0m   * https://github.com/tensorflow/addons\n",
      "\u001b[2m\u001b[36m(pid=19275)\u001b[0m If you depend on functionality not listed there, please file an issue.\n",
      "\u001b[2m\u001b[36m(pid=19275)\u001b[0m \n",
      "\u001b[2m\u001b[36m(pid=19243)\u001b[0m /home/trrrrr/anaconda3/envs/rl/lib/python3.6/site-packages/gym/envs/registration.py:14: PkgResourcesDeprecationWarning: Parameters to load are deprecated.  Call .resolve and .require separately.\n",
      "\u001b[2m\u001b[36m(pid=19243)\u001b[0m   result = entry_point.load(False)\n",
      "\u001b[2m\u001b[36m(pid=19243)\u001b[0m robot lib not fouund\n",
      "\u001b[2m\u001b[36m(pid=19243)\u001b[0m \u001b[33mWARN: gym.spaces.Box autodetected dtype as <class 'numpy.float32'>. Please provide explicit dtype.\u001b[0m\n",
      "\u001b[2m\u001b[36m(pid=19243)\u001b[0m \u001b[33mWARN: gym.spaces.Box autodetected dtype as <class 'numpy.float32'>. Please provide explicit dtype.\u001b[0m\n",
      "\u001b[2m\u001b[36m(pid=19244)\u001b[0m /home/trrrrr/anaconda3/envs/rl/lib/python3.6/site-packages/gym/envs/registration.py:14: PkgResourcesDeprecationWarning: Parameters to load are deprecated.  Call .resolve and .require separately.\n",
      "\u001b[2m\u001b[36m(pid=19244)\u001b[0m   result = entry_point.load(False)\n",
      "\u001b[2m\u001b[36m(pid=19244)\u001b[0m robot lib not fouund\n",
      "\u001b[2m\u001b[36m(pid=19244)\u001b[0m \u001b[33mWARN: gym.spaces.Box autodetected dtype as <class 'numpy.float32'>. Please provide explicit dtype.\u001b[0m\n",
      "\u001b[2m\u001b[36m(pid=19244)\u001b[0m \u001b[33mWARN: gym.spaces.Box autodetected dtype as <class 'numpy.float32'>. Please provide explicit dtype.\u001b[0m\n",
      "\u001b[2m\u001b[36m(pid=19264)\u001b[0m \n",
      "\u001b[2m\u001b[36m(pid=19264)\u001b[0m WARNING: The TensorFlow contrib module will not be included in TensorFlow 2.0.\n",
      "\u001b[2m\u001b[36m(pid=19264)\u001b[0m For more information, please see:\n",
      "\u001b[2m\u001b[36m(pid=19264)\u001b[0m   * https://github.com/tensorflow/community/blob/master/rfcs/20180907-contrib-sunset.md\n",
      "\u001b[2m\u001b[36m(pid=19264)\u001b[0m   * https://github.com/tensorflow/addons\n",
      "\u001b[2m\u001b[36m(pid=19264)\u001b[0m If you depend on functionality not listed there, please file an issue.\n",
      "\u001b[2m\u001b[36m(pid=19264)\u001b[0m \n",
      "\u001b[2m\u001b[36m(pid=19245)\u001b[0m /home/trrrrr/anaconda3/envs/rl/lib/python3.6/site-packages/gym/envs/registration.py:14: PkgResourcesDeprecationWarning: Parameters to load are deprecated.  Call .resolve and .require separately.\n",
      "\u001b[2m\u001b[36m(pid=19245)\u001b[0m   result = entry_point.load(False)\n",
      "\u001b[2m\u001b[36m(pid=19245)\u001b[0m robot lib not fouund\n",
      "\u001b[2m\u001b[36m(pid=19245)\u001b[0m \u001b[33mWARN: gym.spaces.Box autodetected dtype as <class 'numpy.float32'>. Please provide explicit dtype.\u001b[0m\n",
      "\u001b[2m\u001b[36m(pid=19245)\u001b[0m \u001b[33mWARN: gym.spaces.Box autodetected dtype as <class 'numpy.float32'>. Please provide explicit dtype.\u001b[0m\n",
      "\u001b[2m\u001b[36m(pid=19246)\u001b[0m \n",
      "\u001b[2m\u001b[36m(pid=19246)\u001b[0m WARNING: The TensorFlow contrib module will not be included in TensorFlow 2.0.\n",
      "\u001b[2m\u001b[36m(pid=19246)\u001b[0m For more information, please see:\n",
      "\u001b[2m\u001b[36m(pid=19246)\u001b[0m   * https://github.com/tensorflow/community/blob/master/rfcs/20180907-contrib-sunset.md\n",
      "\u001b[2m\u001b[36m(pid=19246)\u001b[0m   * https://github.com/tensorflow/addons\n",
      "\u001b[2m\u001b[36m(pid=19246)\u001b[0m If you depend on functionality not listed there, please file an issue.\n",
      "\u001b[2m\u001b[36m(pid=19246)\u001b[0m \n",
      "\u001b[2m\u001b[36m(pid=19249)\u001b[0m \n",
      "\u001b[2m\u001b[36m(pid=19249)\u001b[0m WARNING: The TensorFlow contrib module will not be included in TensorFlow 2.0.\n",
      "\u001b[2m\u001b[36m(pid=19249)\u001b[0m For more information, please see:\n",
      "\u001b[2m\u001b[36m(pid=19249)\u001b[0m   * https://github.com/tensorflow/community/blob/master/rfcs/20180907-contrib-sunset.md\n",
      "\u001b[2m\u001b[36m(pid=19249)\u001b[0m   * https://github.com/tensorflow/addons\n",
      "\u001b[2m\u001b[36m(pid=19249)\u001b[0m If you depend on functionality not listed there, please file an issue.\n",
      "\u001b[2m\u001b[36m(pid=19249)\u001b[0m \n",
      "\u001b[2m\u001b[36m(pid=19248)\u001b[0m /home/trrrrr/anaconda3/envs/rl/lib/python3.6/site-packages/gym/envs/registration.py:14: PkgResourcesDeprecationWarning: Parameters to load are deprecated.  Call .resolve and .require separately.\n",
      "\u001b[2m\u001b[36m(pid=19248)\u001b[0m   result = entry_point.load(False)\n",
      "\u001b[2m\u001b[36m(pid=19248)\u001b[0m robot lib not fouund\n",
      "\u001b[2m\u001b[36m(pid=19248)\u001b[0m \u001b[33mWARN: gym.spaces.Box autodetected dtype as <class 'numpy.float32'>. Please provide explicit dtype.\u001b[0m\n",
      "\u001b[2m\u001b[36m(pid=19248)\u001b[0m \u001b[33mWARN: gym.spaces.Box autodetected dtype as <class 'numpy.float32'>. Please provide explicit dtype.\u001b[0m\n",
      "\u001b[2m\u001b[36m(pid=19275)\u001b[0m robot lib not fouund\n",
      "\u001b[2m\u001b[36m(pid=19275)\u001b[0m \u001b[33mWARN: gym.spaces.Box autodetected dtype as <class 'numpy.float32'>. Please provide explicit dtype.\u001b[0m\n",
      "\u001b[2m\u001b[36m(pid=19275)\u001b[0m \u001b[33mWARN: gym.spaces.Box autodetected dtype as <class 'numpy.float32'>. Please provide explicit dtype.\u001b[0m\n",
      "\u001b[2m\u001b[36m(pid=19275)\u001b[0m /home/trrrrr/anaconda3/envs/rl/lib/python3.6/site-packages/gym/envs/registration.py:14: PkgResourcesDeprecationWarning: Parameters to load are deprecated.  Call .resolve and .require separately.\n",
      "\u001b[2m\u001b[36m(pid=19275)\u001b[0m   result = entry_point.load(False)\n"
     ]
    },
    {
     "name": "stdout",
     "output_type": "stream",
     "text": [
      "\u001b[2m\u001b[36m(pid=19268)\u001b[0m \n",
      "\u001b[2m\u001b[36m(pid=19268)\u001b[0m WARNING: The TensorFlow contrib module will not be included in TensorFlow 2.0.\n",
      "\u001b[2m\u001b[36m(pid=19268)\u001b[0m For more information, please see:\n",
      "\u001b[2m\u001b[36m(pid=19268)\u001b[0m   * https://github.com/tensorflow/community/blob/master/rfcs/20180907-contrib-sunset.md\n",
      "\u001b[2m\u001b[36m(pid=19268)\u001b[0m   * https://github.com/tensorflow/addons\n",
      "\u001b[2m\u001b[36m(pid=19268)\u001b[0m If you depend on functionality not listed there, please file an issue.\n",
      "\u001b[2m\u001b[36m(pid=19268)\u001b[0m \n",
      "\u001b[2m\u001b[36m(pid=19291)\u001b[0m \n",
      "\u001b[2m\u001b[36m(pid=19291)\u001b[0m WARNING: The TensorFlow contrib module will not be included in TensorFlow 2.0.\n",
      "\u001b[2m\u001b[36m(pid=19291)\u001b[0m For more information, please see:\n",
      "\u001b[2m\u001b[36m(pid=19291)\u001b[0m   * https://github.com/tensorflow/community/blob/master/rfcs/20180907-contrib-sunset.md\n",
      "\u001b[2m\u001b[36m(pid=19291)\u001b[0m   * https://github.com/tensorflow/addons\n",
      "\u001b[2m\u001b[36m(pid=19291)\u001b[0m If you depend on functionality not listed there, please file an issue.\n",
      "\u001b[2m\u001b[36m(pid=19291)\u001b[0m \n",
      "\u001b[2m\u001b[36m(pid=19264)\u001b[0m /home/trrrrr/anaconda3/envs/rl/lib/python3.6/site-packages/gym/envs/registration.py:14: PkgResourcesDeprecationWarning: Parameters to load are deprecated.  Call .resolve and .require separately.\n",
      "\u001b[2m\u001b[36m(pid=19264)\u001b[0m   result = entry_point.load(False)\n",
      "\u001b[2m\u001b[36m(pid=19264)\u001b[0m robot lib not fouund\n",
      "\u001b[2m\u001b[36m(pid=19264)\u001b[0m \u001b[33mWARN: gym.spaces.Box autodetected dtype as <class 'numpy.float32'>. Please provide explicit dtype.\u001b[0m\n",
      "\u001b[2m\u001b[36m(pid=19264)\u001b[0m \u001b[33mWARN: gym.spaces.Box autodetected dtype as <class 'numpy.float32'>. Please provide explicit dtype.\u001b[0m\n",
      "\u001b[2m\u001b[36m(pid=19246)\u001b[0m /home/trrrrr/anaconda3/envs/rl/lib/python3.6/site-packages/gym/envs/registration.py:14: PkgResourcesDeprecationWarning: Parameters to load are deprecated.  Call .resolve and .require separately.\n",
      "\u001b[2m\u001b[36m(pid=19246)\u001b[0m   result = entry_point.load(False)\n",
      "\u001b[2m\u001b[36m(pid=19246)\u001b[0m robot lib not fouund\n",
      "\u001b[2m\u001b[36m(pid=19246)\u001b[0m \u001b[33mWARN: gym.spaces.Box autodetected dtype as <class 'numpy.float32'>. Please provide explicit dtype.\u001b[0m\n",
      "\u001b[2m\u001b[36m(pid=19246)\u001b[0m \u001b[33mWARN: gym.spaces.Box autodetected dtype as <class 'numpy.float32'>. Please provide explicit dtype.\u001b[0m\n",
      "\u001b[2m\u001b[36m(pid=19249)\u001b[0m /home/trrrrr/anaconda3/envs/rl/lib/python3.6/site-packages/gym/envs/registration.py:14: PkgResourcesDeprecationWarning: Parameters to load are deprecated.  Call .resolve and .require separately.\n",
      "\u001b[2m\u001b[36m(pid=19249)\u001b[0m   result = entry_point.load(False)\n",
      "\u001b[2m\u001b[36m(pid=19249)\u001b[0m robot lib not fouund\n",
      "\u001b[2m\u001b[36m(pid=19249)\u001b[0m \u001b[33mWARN: gym.spaces.Box autodetected dtype as <class 'numpy.float32'>. Please provide explicit dtype.\u001b[0m\n",
      "\u001b[2m\u001b[36m(pid=19249)\u001b[0m \u001b[33mWARN: gym.spaces.Box autodetected dtype as <class 'numpy.float32'>. Please provide explicit dtype.\u001b[0m\n",
      "\u001b[2m\u001b[36m(pid=19285)\u001b[0m \n",
      "\u001b[2m\u001b[36m(pid=19285)\u001b[0m WARNING: The TensorFlow contrib module will not be included in TensorFlow 2.0.\n",
      "\u001b[2m\u001b[36m(pid=19285)\u001b[0m For more information, please see:\n",
      "\u001b[2m\u001b[36m(pid=19285)\u001b[0m   * https://github.com/tensorflow/community/blob/master/rfcs/20180907-contrib-sunset.md\n",
      "\u001b[2m\u001b[36m(pid=19285)\u001b[0m   * https://github.com/tensorflow/addons\n",
      "\u001b[2m\u001b[36m(pid=19285)\u001b[0m If you depend on functionality not listed there, please file an issue.\n",
      "\u001b[2m\u001b[36m(pid=19285)\u001b[0m \n",
      "\u001b[2m\u001b[36m(pid=19291)\u001b[0m /home/trrrrr/anaconda3/envs/rl/lib/python3.6/site-packages/gym/envs/registration.py:14: PkgResourcesDeprecationWarning: Parameters to load are deprecated.  Call .resolve and .require separately.\n",
      "\u001b[2m\u001b[36m(pid=19291)\u001b[0m   result = entry_point.load(False)\n",
      "\u001b[2m\u001b[36m(pid=19291)\u001b[0m robot lib not fouund\n",
      "\u001b[2m\u001b[36m(pid=19291)\u001b[0m \u001b[33mWARN: gym.spaces.Box autodetected dtype as <class 'numpy.float32'>. Please provide explicit dtype.\u001b[0m\n",
      "\u001b[2m\u001b[36m(pid=19291)\u001b[0m \u001b[33mWARN: gym.spaces.Box autodetected dtype as <class 'numpy.float32'>. Please provide explicit dtype.\u001b[0m\n",
      "\u001b[2m\u001b[36m(pid=19268)\u001b[0m robot lib not fouund\n",
      "\u001b[2m\u001b[36m(pid=19268)\u001b[0m \u001b[33mWARN: gym.spaces.Box autodetected dtype as <class 'numpy.float32'>. Please provide explicit dtype.\u001b[0m\n",
      "\u001b[2m\u001b[36m(pid=19268)\u001b[0m \u001b[33mWARN: gym.spaces.Box autodetected dtype as <class 'numpy.float32'>. Please provide explicit dtype.\u001b[0m\n",
      "\u001b[2m\u001b[36m(pid=19268)\u001b[0m /home/trrrrr/anaconda3/envs/rl/lib/python3.6/site-packages/gym/envs/registration.py:14: PkgResourcesDeprecationWarning: Parameters to load are deprecated.  Call .resolve and .require separately.\n",
      "\u001b[2m\u001b[36m(pid=19268)\u001b[0m   result = entry_point.load(False)\n",
      "\u001b[2m\u001b[36m(pid=19286)\u001b[0m \n",
      "\u001b[2m\u001b[36m(pid=19286)\u001b[0m WARNING: The TensorFlow contrib module will not be included in TensorFlow 2.0.\n",
      "\u001b[2m\u001b[36m(pid=19286)\u001b[0m For more information, please see:\n",
      "\u001b[2m\u001b[36m(pid=19286)\u001b[0m   * https://github.com/tensorflow/community/blob/master/rfcs/20180907-contrib-sunset.md\n",
      "\u001b[2m\u001b[36m(pid=19286)\u001b[0m   * https://github.com/tensorflow/addons\n",
      "\u001b[2m\u001b[36m(pid=19286)\u001b[0m If you depend on functionality not listed there, please file an issue.\n",
      "\u001b[2m\u001b[36m(pid=19286)\u001b[0m \n",
      "\u001b[2m\u001b[36m(pid=19272)\u001b[0m \n",
      "\u001b[2m\u001b[36m(pid=19272)\u001b[0m WARNING: The TensorFlow contrib module will not be included in TensorFlow 2.0.\n",
      "\u001b[2m\u001b[36m(pid=19272)\u001b[0m For more information, please see:\n",
      "\u001b[2m\u001b[36m(pid=19272)\u001b[0m   * https://github.com/tensorflow/community/blob/master/rfcs/20180907-contrib-sunset.md\n",
      "\u001b[2m\u001b[36m(pid=19272)\u001b[0m   * https://github.com/tensorflow/addons\n",
      "\u001b[2m\u001b[36m(pid=19272)\u001b[0m If you depend on functionality not listed there, please file an issue.\n",
      "\u001b[2m\u001b[36m(pid=19272)\u001b[0m \n",
      "\u001b[2m\u001b[36m(pid=19285)\u001b[0m robot lib not fouund\n",
      "\u001b[2m\u001b[36m(pid=19285)\u001b[0m \u001b[33mWARN: gym.spaces.Box autodetected dtype as <class 'numpy.float32'>. Please provide explicit dtype.\u001b[0m\n",
      "\u001b[2m\u001b[36m(pid=19285)\u001b[0m \u001b[33mWARN: gym.spaces.Box autodetected dtype as <class 'numpy.float32'>. Please provide explicit dtype.\u001b[0m\n",
      "\u001b[2m\u001b[36m(pid=19285)\u001b[0m /home/trrrrr/anaconda3/envs/rl/lib/python3.6/site-packages/gym/envs/registration.py:14: PkgResourcesDeprecationWarning: Parameters to load are deprecated.  Call .resolve and .require separately.\n",
      "\u001b[2m\u001b[36m(pid=19285)\u001b[0m   result = entry_point.load(False)\n",
      "\u001b[2m\u001b[36m(pid=19286)\u001b[0m /home/trrrrr/anaconda3/envs/rl/lib/python3.6/site-packages/gym/envs/registration.py:14: PkgResourcesDeprecationWarning: Parameters to load are deprecated.  Call .resolve and .require separately.\n",
      "\u001b[2m\u001b[36m(pid=19286)\u001b[0m   result = entry_point.load(False)\n",
      "\u001b[2m\u001b[36m(pid=19286)\u001b[0m robot lib not fouund\n",
      "\u001b[2m\u001b[36m(pid=19286)\u001b[0m \u001b[33mWARN: gym.spaces.Box autodetected dtype as <class 'numpy.float32'>. Please provide explicit dtype.\u001b[0m\n",
      "\u001b[2m\u001b[36m(pid=19286)\u001b[0m \u001b[33mWARN: gym.spaces.Box autodetected dtype as <class 'numpy.float32'>. Please provide explicit dtype.\u001b[0m\n",
      "\u001b[2m\u001b[36m(pid=19272)\u001b[0m /home/trrrrr/anaconda3/envs/rl/lib/python3.6/site-packages/gym/envs/registration.py:14: PkgResourcesDeprecationWarning: Parameters to load are deprecated.  Call .resolve and .require separately.\n",
      "\u001b[2m\u001b[36m(pid=19272)\u001b[0m   result = entry_point.load(False)\n",
      "\u001b[2m\u001b[36m(pid=19272)\u001b[0m robot lib not fouund\n",
      "\u001b[2m\u001b[36m(pid=19272)\u001b[0m \u001b[33mWARN: gym.spaces.Box autodetected dtype as <class 'numpy.float32'>. Please provide explicit dtype.\u001b[0m\n",
      "\u001b[2m\u001b[36m(pid=19272)\u001b[0m \u001b[33mWARN: gym.spaces.Box autodetected dtype as <class 'numpy.float32'>. Please provide explicit dtype.\u001b[0m\n",
      "WARNING:tensorflow:From /home/trrrrr/anaconda3/envs/rl/lib/python3.6/site-packages/tensorflow/python/ops/math_ops.py:3066: to_int32 (from tensorflow.python.ops.math_ops) is deprecated and will be removed in a future version.\n",
      "Instructions for updating:\n",
      "Use tf.cast instead.\n",
      "Frames per seconds:  474.81250246666696\n",
      "saving next best rewards:  452.5280749200845\n",
      "Frames per seconds:  739.7657785534326\n",
      "saving next best rewards:  520.8997270579373\n",
      "Frames per seconds:  775.5312512583293\n",
      "saving next best rewards:  573.715814016296\n",
      "Frames per seconds:  750.6174370894347\n",
      "saving next best rewards:  579.4944701702141\n",
      "Frames per seconds:  748.7083781759172\n",
      "Frames per seconds:  738.0126981249481\n",
      "Frames per seconds:  731.5673717786411\n",
      "Frames per seconds:  773.3674522723311\n",
      "Frames per seconds:  829.2524046330752\n",
      "Frames per seconds:  755.4942255703057\n",
      "Frames per seconds:  754.7509555052911\n",
      "Frames per seconds:  793.9613549538944\n",
      "Frames per seconds:  760.0853064658091\n",
      "Frames per seconds:  798.5285945366749\n",
      "Frames per seconds:  653.5676155465366\n"
     ]
    },
    {
     "name": "stdout",
     "output_type": "stream",
     "text": [
      "Frames per seconds:  732.3566848049239\n",
      "Frames per seconds:  678.789399678509\n",
      "Frames per seconds:  712.3866987185069\n",
      "Frames per seconds:  738.8032158568503\n",
      "Frames per seconds:  781.9476134804426\n",
      "Frames per seconds:  739.9086091347883\n",
      "Frames per seconds:  741.0740204430147\n",
      "Frames per seconds:  712.5659044075192\n",
      "Frames per seconds:  708.5344650614788\n",
      "Frames per seconds:  691.1053454911408\n",
      "Frames per seconds:  678.8378391044077\n",
      "Frames per seconds:  614.8420487738084\n",
      "Frames per seconds:  633.5837256105749\n",
      "saving next best rewards:  600.1807915717607\n",
      "Frames per seconds:  809.5502199915284\n",
      "saving next best rewards:  742.8993274698263\n",
      "Frames per seconds:  735.4925319754389\n",
      "saving next best rewards:  806.3339905650348\n",
      "Frames per seconds:  748.5056430261399\n",
      "saving next best rewards:  851.7405544958337\n",
      "Frames per seconds:  734.2628988919982\n",
      "saving next best rewards:  928.9428833914279\n",
      "Frames per seconds:  781.3021059935787\n",
      "saving next best rewards:  1088.2603125414898\n",
      "Frames per seconds:  765.3674381522268\n",
      "saving next best rewards:  1245.6690648301853\n",
      "Frames per seconds:  745.2236325139817\n",
      "saving next best rewards:  1328.0607946282307\n",
      "Frames per seconds:  801.2074532634365\n",
      "saving next best rewards:  1373.7449942959897\n",
      "Frames per seconds:  712.0101141019402\n",
      "saving next best rewards:  1450.9840714179516\n",
      "Frames per seconds:  763.6608626517476\n",
      "saving next best rewards:  1546.9513909370178\n",
      "Frames per seconds:  805.6222348553003\n",
      "saving next best rewards:  1628.7091306979446\n"
     ]
    }
   ],
   "source": [
    "from a2c_continuous import A2CAgent\n",
    "import tr_helpers\n",
    "import networks\n",
    "\n",
    "\n",
    "\n",
    "agent = A2CAgent(sess,'walker', obs_space, False, action_space, a2c_config)\n",
    "#agent.restore('nn/walkerBipedalWalker-v2')\n",
    "agent.train()\n",
    "#agent.save('nn/latest')"
   ]
  },
  {
   "cell_type": "code",
   "execution_count": null,
   "metadata": {},
   "outputs": [],
   "source": [
    "\n",
    "ray.shutdown()"
   ]
  },
  {
   "cell_type": "code",
   "execution_count": null,
   "metadata": {},
   "outputs": [],
   "source": []
  },
  {
   "cell_type": "code",
   "execution_count": null,
   "metadata": {},
   "outputs": [],
   "source": [
    "\n"
   ]
  },
  {
   "cell_type": "code",
   "execution_count": null,
   "metadata": {
    "scrolled": true
   },
   "outputs": [],
   "source": []
  },
  {
   "cell_type": "code",
   "execution_count": null,
   "metadata": {},
   "outputs": [],
   "source": [
    "import gym\n",
    "gym.envs.registry.all()"
   ]
  },
  {
   "cell_type": "code",
   "execution_count": null,
   "metadata": {},
   "outputs": [],
   "source": []
  },
  {
   "cell_type": "code",
   "execution_count": null,
   "metadata": {},
   "outputs": [],
   "source": []
  }
 ],
 "metadata": {
  "kernelspec": {
   "display_name": "Python 3",
   "language": "python",
   "name": "python3"
  },
  "language_info": {
   "codemirror_mode": {
    "name": "ipython",
    "version": 3
   },
   "file_extension": ".py",
   "mimetype": "text/x-python",
   "name": "python",
   "nbconvert_exporter": "python",
   "pygments_lexer": "ipython3",
   "version": "3.6.8"
  }
 },
 "nbformat": 4,
 "nbformat_minor": 2
}
