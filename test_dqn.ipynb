{
 "cells": [
  {
   "cell_type": "code",
   "execution_count": 1,
   "metadata": {},
   "outputs": [],
   "source": [
    "import math\n",
    "from tensorboardX import SummaryWriter\n",
    "sess = None"
   ]
  },
  {
   "cell_type": "code",
   "execution_count": 2,
   "metadata": {},
   "outputs": [],
   "source": [
    "import tensorflow as tf\n",
    "import collections\n",
    "gpu_options = tf.GPUOptions(allow_growth=True,per_process_gpu_memory_fraction=0.8)\n",
    "tf.reset_default_graph()\n",
    "sess = tf.InteractiveSession(config=tf.ConfigProto(gpu_options=gpu_options))"
   ]
  },
  {
   "cell_type": "code",
   "execution_count": null,
   "metadata": {},
   "outputs": [],
   "source": []
  },
  {
   "cell_type": "code",
   "execution_count": 3,
   "metadata": {},
   "outputs": [
    {
     "name": "stdout",
     "output_type": "stream",
     "text": [
      "4\n",
      "\u001b[33mWARN: <class 'wrappers.AtariResetLive'> doesn't implement 'reset' method, which is required for wrappers derived directly from Wrapper. Deprecated default implementation is used.\u001b[0m\n",
      "done\n"
     ]
    },
    {
     "data": {
      "image/png": "[encoded data removed]",
      "text/plain": [
       "<Figure size 432x288 with 1 Axes>"
      ]
     },
     "metadata": {},
     "output_type": "display_data"
    }
   ],
   "source": [
    "from wrappers import make_env\n",
    "import gym\n",
    "import numpy as np\n",
    "import matplotlib.pyplot as plt\n",
    "%matplotlib inline\n",
    "env_name = \"BreakoutDeterministic-v4\"\n",
    "env = make_env(env_name)\n",
    "observation_shape = env.observation_space.shape\n",
    "n_actions = env.action_space.n\n",
    "print(n_actions)\n",
    "obs = env.reset()\n",
    "obs, r, done, _ = env.step(2)\n",
    "#print(obs.shape)\n",
    "#print(is_done)\n",
    "done = False\n",
    "for _ in range(2000):\n",
    "    obs, _, done, _ = env.step(3)\n",
    "    if done:\n",
    "        print('done')\n",
    "        break\n",
    "plt.title(\"what your network gonna see\")\n",
    "plt.imshow(obs[0,:,:],interpolation='none',cmap='gray');"
   ]
  },
  {
   "cell_type": "code",
   "execution_count": 4,
   "metadata": {},
   "outputs": [
    {
     "name": "stdout",
     "output_type": "stream",
     "text": [
      "WARNING:tensorflow:From C:\\Users\\Trrr\\Documents\\GitHub\\dqn_atari\\networks.py:80: calling reduce_max (from tensorflow.python.ops.math_ops) with keep_dims is deprecated and will be removed in a future version.\n",
      "Instructions for updating:\n",
      "keep_dims is deprecated, use keepdims instead\n"
     ]
    }
   ],
   "source": [
    "\n",
    "from dqnagent import DQNAgent\n",
    "from dqnagent import ExperienceBuffer\n",
    "EXP_BUFFER_CAPACITY = 100000\n",
    "\n",
    "#agent.epsilon = 0.5\n",
    "\n",
    "dqn_config = {\n",
    "    'GAMMA' : 0.99,\n",
    "    'LEARNING_RATE' : 1e-3,\n",
    "    'STEPS_PER_EPOCH' : 10,\n",
    "    'EPSILON' : 0.5,\n",
    "    'MIN_EPSILON' : 0.02,\n",
    "    'NUM_EPOCHS' : 10**5,\n",
    "    'EPS_DECAY_RATE' : 0.99,\n",
    "    'NAME' : 'DQN',\n",
    "    'IS_DOUBLE' : False,\n",
    "    'IS_DUELING' : True,\n",
    "    'DUELING_TYPE' : 'AVERAGE'\n",
    "    }\n",
    "ddqn_config = {\n",
    "    'GAMMA' : 0.99,\n",
    "    'LEARNING_RATE' : 1e-3,\n",
    "    'STEPS_PER_EPOCH' : 10,\n",
    "    'EPSILON' : 0.5,\n",
    "    'MIN_EPSILON' : 0.02,\n",
    "    'NUM_EPOCHS' : 10**5,\n",
    "    'EPS_DECAY_RATE' : 0.99,\n",
    "    'NAME' : 'DDQN',\n",
    "    'IS_DOUBLE' : True,\n",
    "    'IS_DUELING' : True,\n",
    "    'DUELING_TYPE' : 'AVERAGE'\n",
    "    }\n",
    "agent = DQNAgent(env, sess, ExperienceBuffer(EXP_BUFFER_CAPACITY), env_name, config = dqn_config)"
   ]
  },
  {
   "cell_type": "code",
   "execution_count": null,
   "metadata": {},
   "outputs": [
    {
     "name": "stdout",
     "output_type": "stream",
     "text": [
      "0\n",
      "0.666666666667\n",
      "40.6666666667\n",
      "500\n",
      "0.0\n",
      "22.0\n",
      "1000\n",
      "0.0\n",
      "22.0\n",
      "1500\n",
      "0.0\n",
      "22.0\n",
      "2000\n",
      "1.33333333333\n",
      "66.3333333333\n",
      "2500\n",
      "0.0\n",
      "22.0\n",
      "3000\n",
      "0.0\n",
      "22.0\n",
      "3500\n",
      "1.66666666667\n",
      "86.3333333333\n",
      "4000\n",
      "1.66666666667\n",
      "85.0\n",
      "4500\n",
      "1.0\n",
      "57.0\n",
      "5000\n",
      "1.0\n",
      "50.0\n",
      "5500\n",
      "1.0\n",
      "50.0\n",
      "6000\n",
      "1.0\n",
      "50.0\n",
      "6500\n",
      "2.66666666667\n",
      "129.333333333\n",
      "7000\n",
      "0.333333333333\n",
      "31.3333333333\n",
      "7500\n",
      "1.0\n",
      "57.0\n",
      "8000\n",
      "0.666666666667\n",
      "40.6666666667\n",
      "8500\n",
      "0.666666666667\n",
      "40.6666666667\n",
      "9000\n",
      "0.666666666667\n",
      "40.6666666667\n",
      "9500\n",
      "1.33333333333\n",
      "71.6666666667\n",
      "10000\n",
      "1.0\n",
      "50.0\n",
      "10500\n",
      "1.0\n",
      "63.0\n",
      "11000\n",
      "1.33333333333\n",
      "66.3333333333\n",
      "11500\n",
      "2.33333333333\n",
      "111.0\n",
      "12000\n",
      "1.33333333333\n",
      "71.6666666667\n",
      "12500\n",
      "1.0\n",
      "57.0\n",
      "13000\n",
      "0.666666666667\n",
      "40.6666666667\n",
      "13500\n",
      "0.666666666667\n",
      "47.6666666667\n",
      "14000\n",
      "1.0\n",
      "57.0\n",
      "14500\n",
      "1.0\n",
      "50.0\n",
      "15000\n",
      "1.0\n",
      "56.0\n",
      "15500\n",
      "1.66666666667\n",
      "95.6666666667\n",
      "16000\n",
      "0.333333333333\n",
      "31.3333333333\n",
      "16500\n",
      "2.66666666667\n",
      "131.333333333\n",
      "17000\n",
      "0.666666666667\n",
      "53.0\n",
      "17500\n",
      "1.0\n",
      "63.0\n",
      "18000\n",
      "2.0\n",
      "98.3333333333\n",
      "18500\n",
      "2.0\n",
      "93.0\n",
      "19000\n",
      "2.66666666667\n",
      "131.0\n",
      "19500\n",
      "0.666666666667\n",
      "40.6666666667\n",
      "20000\n",
      "1.0\n",
      "50.0\n"
     ]
    }
   ],
   "source": [
    "env.reset()\n",
    "agent.train()"
   ]
  },
  {
   "cell_type": "code",
   "execution_count": null,
   "metadata": {},
   "outputs": [],
   "source": [
    "#agent.epsilon = 0.2\n",
    "#agent.train()"
   ]
  },
  {
   "cell_type": "code",
   "execution_count": null,
   "metadata": {},
   "outputs": [],
   "source": [
    "from wrappers import make_env_with_monitor\n",
    "print(env.unwrapped.get_action_meanings())\n",
    "def evaluate(env,t_max=1000):\n",
    "    rewards = []\n",
    "    print('reset')\n",
    "    s = env.reset()\n",
    "    reward = 0\n",
    "    for it in range(t_max):\n",
    "        #e.render()\n",
    "        qvalues = agent.get_qvalues([s])\n",
    "        action = np.argmax(qvalues)\n",
    "        s, r, done, _ = env.step(action)\n",
    "        reward += r\n",
    "        rewards.append(reward)\n",
    "        \n",
    "            \n",
    "        if done:\n",
    "            \n",
    "            break       \n",
    "        \n",
    "    return np.mean(rewards)\n",
    "\n",
    "\n",
    "import gym.wrappers\n",
    "env_monitor = make_env_with_monitor(env_name, 'video8')\n",
    "sessions = [evaluate(env_monitor) for _ in range(1)]\n",
    "env_monitor.close()"
   ]
  },
  {
   "cell_type": "code",
   "execution_count": null,
   "metadata": {},
   "outputs": [],
   "source": [
    "#tf.reset_default_graph()\n",
    "#agent = DQNAgent(env, sess, ExperienceBuffer(EXP_BUFFER_CAPACITY), env_name, config = dqn_config)"
   ]
  },
  {
   "cell_type": "code",
   "execution_count": null,
   "metadata": {},
   "outputs": [],
   "source": [
    "#env.reset()\n",
    "#agent.train()"
   ]
  },
  {
   "cell_type": "code",
   "execution_count": null,
   "metadata": {},
   "outputs": [],
   "source": []
  },
  {
   "cell_type": "code",
   "execution_count": null,
   "metadata": {},
   "outputs": [],
   "source": []
  }
 ],
 "metadata": {
  "kernelspec": {
   "display_name": "Python 3",
   "language": "python",
   "name": "python3"
  },
  "language_info": {
   "codemirror_mode": {
    "name": "ipython",
    "version": 3
   },
   "file_extension": ".py",
   "mimetype": "text/x-python",
   "name": "python",
   "nbconvert_exporter": "python",
   "pygments_lexer": "ipython3",
   "version": "3.6.5"
  }
 },
 "nbformat": 4,
 "nbformat_minor": 2
}
